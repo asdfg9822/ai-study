{
 "cells": [
  {
   "cell_type": "markdown",
   "metadata": {},
   "source": [
    "# Bike Sharing Demand \n",
    "\n",
    "**\n",
    "주어진 feature 기반으로 특정시점의 자전거 대여 수요를 예측하는 regression 문제임.  \n",
    "Tensorflow(1.4+)로 학습을 통해 예측 모델을 만드는 방법은 네 가지 정도로 볼 수 있음.\n",
    "**\n",
    "\n",
    "1.가설함수(hypothesis), 손실함수(loss), 가중치(W), 바이어스(b) 등을 정의하고 neural network 를 직접 구현하는 방법\n",
    "2.tensorflow.layers 같은 High level API 를 사용하여 neural network 를 구현하는 방법  \n",
    "3.tensorflow.estimators 같은 High level API를 사용하여 neural network 를 구현하는 방법  \n",
    "4.tensorflow.keras or Keras 같은 High level API를 사용하여 neural network 를 구현하는 방법  \n",
    "\n",
    "여기서는 첫번째, tensorflow 기본 Row level API를 사용하여 multi-layer neural network 를 구현한다.\n",
    "\n",
    "확인 할 내용\n",
    "\n",
    "- 입력 feature 들에 대한 전처리, 사용할 feature 선택에 따른 차이.\n",
    "- 가중치 초기화를 random 으로 했을 경우, Xavier/He initializer 를 사용했을 경우 차이.\n",
    "- 활성화 함수(sigmoid/tanh/relu) 사용에 따른 차이.\n",
    "- Layer 수, Layer 별 neuron 수에 따른 차이.\n",
    "- Optimizer 사용에 따른 차이 (GradientDescent, Adam 등)\n",
    "\n",
    "https://www.kaggle.com/c/bike-sharing-demand"
   ]
  },
  {
   "cell_type": "code",
   "execution_count": 33,
   "metadata": {},
   "outputs": [],
   "source": [
    "import pandas as pd\n",
    "import numpy as np\n",
    "import tensorflow as tf\n",
    "from sklearn.model_selection import train_test_split"
   ]
  },
  {
   "cell_type": "markdown",
   "metadata": {},
   "source": [
    "## Load Dataset"
   ]
  },
  {
   "cell_type": "code",
   "execution_count": 34,
   "metadata": {},
   "outputs": [
    {
     "name": "stdout",
     "output_type": "stream",
     "text": [
      "(10886, 12)\n"
     ]
    },
    {
     "data": {
      "text/html": [
       "<div>\n",
       "<style>\n",
       "    .dataframe thead tr:only-child th {\n",
       "        text-align: right;\n",
       "    }\n",
       "\n",
       "    .dataframe thead th {\n",
       "        text-align: left;\n",
       "    }\n",
       "\n",
       "    .dataframe tbody tr th {\n",
       "        vertical-align: top;\n",
       "    }\n",
       "</style>\n",
       "<table border=\"1\" class=\"dataframe\">\n",
       "  <thead>\n",
       "    <tr style=\"text-align: right;\">\n",
       "      <th></th>\n",
       "      <th>datetime</th>\n",
       "      <th>season</th>\n",
       "      <th>holiday</th>\n",
       "      <th>workingday</th>\n",
       "      <th>weather</th>\n",
       "      <th>temp</th>\n",
       "      <th>atemp</th>\n",
       "      <th>humidity</th>\n",
       "      <th>windspeed</th>\n",
       "      <th>casual</th>\n",
       "      <th>registered</th>\n",
       "      <th>count</th>\n",
       "    </tr>\n",
       "  </thead>\n",
       "  <tbody>\n",
       "    <tr>\n",
       "      <th>0</th>\n",
       "      <td>2011-01-01 00:00:00</td>\n",
       "      <td>1</td>\n",
       "      <td>0</td>\n",
       "      <td>0</td>\n",
       "      <td>1</td>\n",
       "      <td>9.84</td>\n",
       "      <td>14.395</td>\n",
       "      <td>81</td>\n",
       "      <td>0.0</td>\n",
       "      <td>3</td>\n",
       "      <td>13</td>\n",
       "      <td>16</td>\n",
       "    </tr>\n",
       "    <tr>\n",
       "      <th>1</th>\n",
       "      <td>2011-01-01 01:00:00</td>\n",
       "      <td>1</td>\n",
       "      <td>0</td>\n",
       "      <td>0</td>\n",
       "      <td>1</td>\n",
       "      <td>9.02</td>\n",
       "      <td>13.635</td>\n",
       "      <td>80</td>\n",
       "      <td>0.0</td>\n",
       "      <td>8</td>\n",
       "      <td>32</td>\n",
       "      <td>40</td>\n",
       "    </tr>\n",
       "    <tr>\n",
       "      <th>2</th>\n",
       "      <td>2011-01-01 02:00:00</td>\n",
       "      <td>1</td>\n",
       "      <td>0</td>\n",
       "      <td>0</td>\n",
       "      <td>1</td>\n",
       "      <td>9.02</td>\n",
       "      <td>13.635</td>\n",
       "      <td>80</td>\n",
       "      <td>0.0</td>\n",
       "      <td>5</td>\n",
       "      <td>27</td>\n",
       "      <td>32</td>\n",
       "    </tr>\n",
       "    <tr>\n",
       "      <th>3</th>\n",
       "      <td>2011-01-01 03:00:00</td>\n",
       "      <td>1</td>\n",
       "      <td>0</td>\n",
       "      <td>0</td>\n",
       "      <td>1</td>\n",
       "      <td>9.84</td>\n",
       "      <td>14.395</td>\n",
       "      <td>75</td>\n",
       "      <td>0.0</td>\n",
       "      <td>3</td>\n",
       "      <td>10</td>\n",
       "      <td>13</td>\n",
       "    </tr>\n",
       "    <tr>\n",
       "      <th>4</th>\n",
       "      <td>2011-01-01 04:00:00</td>\n",
       "      <td>1</td>\n",
       "      <td>0</td>\n",
       "      <td>0</td>\n",
       "      <td>1</td>\n",
       "      <td>9.84</td>\n",
       "      <td>14.395</td>\n",
       "      <td>75</td>\n",
       "      <td>0.0</td>\n",
       "      <td>0</td>\n",
       "      <td>1</td>\n",
       "      <td>1</td>\n",
       "    </tr>\n",
       "  </tbody>\n",
       "</table>\n",
       "</div>"
      ],
      "text/plain": [
       "             datetime  season  holiday  workingday  weather  temp   atemp  \\\n",
       "0 2011-01-01 00:00:00       1        0           0        1  9.84  14.395   \n",
       "1 2011-01-01 01:00:00       1        0           0        1  9.02  13.635   \n",
       "2 2011-01-01 02:00:00       1        0           0        1  9.02  13.635   \n",
       "3 2011-01-01 03:00:00       1        0           0        1  9.84  14.395   \n",
       "4 2011-01-01 04:00:00       1        0           0        1  9.84  14.395   \n",
       "\n",
       "   humidity  windspeed  casual  registered  count  \n",
       "0        81        0.0       3          13     16  \n",
       "1        80        0.0       8          32     40  \n",
       "2        80        0.0       5          27     32  \n",
       "3        75        0.0       3          10     13  \n",
       "4        75        0.0       0           1      1  "
      ]
     },
     "execution_count": 34,
     "metadata": {},
     "output_type": "execute_result"
    }
   ],
   "source": [
    "# parse_dates : 'datetime' 컬럼을 python date type 으로 처리하기 위해\n",
    "train = pd.read_csv(\"data/train.csv\", parse_dates=[\"datetime\"])\n",
    "\n",
    "print(train.shape)\n",
    "train.head()"
   ]
  },
  {
   "cell_type": "markdown",
   "metadata": {},
   "source": [
    "## Explore"
   ]
  },
  {
   "cell_type": "code",
   "execution_count": 35,
   "metadata": {},
   "outputs": [],
   "source": [
    "# 차트를 jupyter notebook에 출력해서 보기 위한 명령어\n",
    "%matplotlib inline\n",
    "\n",
    "import seaborn as sns\n",
    "import matplotlib.pyplot as plt"
   ]
  },
  {
   "cell_type": "markdown",
   "metadata": {},
   "source": [
    "### Explore datetime"
   ]
  },
  {
   "cell_type": "code",
   "execution_count": 36,
   "metadata": {},
   "outputs": [
    {
     "name": "stdout",
     "output_type": "stream",
     "text": [
      "(10886, 18)\n"
     ]
    },
    {
     "data": {
      "text/html": [
       "<div>\n",
       "<style>\n",
       "    .dataframe thead tr:only-child th {\n",
       "        text-align: right;\n",
       "    }\n",
       "\n",
       "    .dataframe thead th {\n",
       "        text-align: left;\n",
       "    }\n",
       "\n",
       "    .dataframe tbody tr th {\n",
       "        vertical-align: top;\n",
       "    }\n",
       "</style>\n",
       "<table border=\"1\" class=\"dataframe\">\n",
       "  <thead>\n",
       "    <tr style=\"text-align: right;\">\n",
       "      <th></th>\n",
       "      <th>datetime</th>\n",
       "      <th>datetime-year</th>\n",
       "      <th>datetime-month</th>\n",
       "      <th>datetime-day</th>\n",
       "      <th>datetime-hour</th>\n",
       "      <th>datetime-minute</th>\n",
       "      <th>datetime-second</th>\n",
       "    </tr>\n",
       "  </thead>\n",
       "  <tbody>\n",
       "    <tr>\n",
       "      <th>0</th>\n",
       "      <td>2011-01-01 00:00:00</td>\n",
       "      <td>2011</td>\n",
       "      <td>1</td>\n",
       "      <td>1</td>\n",
       "      <td>0</td>\n",
       "      <td>0</td>\n",
       "      <td>0</td>\n",
       "    </tr>\n",
       "    <tr>\n",
       "      <th>1</th>\n",
       "      <td>2011-01-01 01:00:00</td>\n",
       "      <td>2011</td>\n",
       "      <td>1</td>\n",
       "      <td>1</td>\n",
       "      <td>1</td>\n",
       "      <td>0</td>\n",
       "      <td>0</td>\n",
       "    </tr>\n",
       "    <tr>\n",
       "      <th>2</th>\n",
       "      <td>2011-01-01 02:00:00</td>\n",
       "      <td>2011</td>\n",
       "      <td>1</td>\n",
       "      <td>1</td>\n",
       "      <td>2</td>\n",
       "      <td>0</td>\n",
       "      <td>0</td>\n",
       "    </tr>\n",
       "    <tr>\n",
       "      <th>3</th>\n",
       "      <td>2011-01-01 03:00:00</td>\n",
       "      <td>2011</td>\n",
       "      <td>1</td>\n",
       "      <td>1</td>\n",
       "      <td>3</td>\n",
       "      <td>0</td>\n",
       "      <td>0</td>\n",
       "    </tr>\n",
       "    <tr>\n",
       "      <th>4</th>\n",
       "      <td>2011-01-01 04:00:00</td>\n",
       "      <td>2011</td>\n",
       "      <td>1</td>\n",
       "      <td>1</td>\n",
       "      <td>4</td>\n",
       "      <td>0</td>\n",
       "      <td>0</td>\n",
       "    </tr>\n",
       "  </tbody>\n",
       "</table>\n",
       "</div>"
      ],
      "text/plain": [
       "             datetime  datetime-year  datetime-month  datetime-day  \\\n",
       "0 2011-01-01 00:00:00           2011               1             1   \n",
       "1 2011-01-01 01:00:00           2011               1             1   \n",
       "2 2011-01-01 02:00:00           2011               1             1   \n",
       "3 2011-01-01 03:00:00           2011               1             1   \n",
       "4 2011-01-01 04:00:00           2011               1             1   \n",
       "\n",
       "   datetime-hour  datetime-minute  datetime-second  \n",
       "0              0                0                0  \n",
       "1              1                0                0  \n",
       "2              2                0                0  \n",
       "3              3                0                0  \n",
       "4              4                0                0  "
      ]
     },
     "execution_count": 36,
     "metadata": {},
     "output_type": "execute_result"
    }
   ],
   "source": [
    "# datatime 을 python date type 으로 load 했기 때문에 '.dt' 속성을 이용해서 년/월/일/시/분/초/요일 등의 정보에 접근 가능함\n",
    "# datatime 으로 부터 년/월/일/시/분/초 컬럼 추가\n",
    "train[\"datetime-year\"] = train[\"datetime\"].dt.year\n",
    "train[\"datetime-month\"] = train[\"datetime\"].dt.month\n",
    "train[\"datetime-day\"] = train[\"datetime\"].dt.day\n",
    "train[\"datetime-hour\"] = train[\"datetime\"].dt.hour\n",
    "train[\"datetime-minute\"] = train[\"datetime\"].dt.minute\n",
    "train[\"datetime-second\"] = train[\"datetime\"].dt.second\n",
    "\n",
    "print(train.shape)\n",
    "train[[\"datetime\", \"datetime-year\", \"datetime-month\", \"datetime-day\", \"datetime-hour\", \"datetime-minute\", \"datetime-second\"]].head()"
   ]
  },
  {
   "cell_type": "code",
   "execution_count": 37,
   "metadata": {},
   "outputs": [
    {
     "data": {
      "text/plain": [
       "<matplotlib.axes._subplots.AxesSubplot at 0x28089ed9898>"
      ]
     },
     "execution_count": 37,
     "metadata": {},
     "output_type": "execute_result"
    },
    {
     "data": {
      "image/png": "[encoded data removed]",
      "text/plain": [
       "<matplotlib.figure.Figure at 0x28089715320>"
      ]
     },
     "metadata": {},
     "output_type": "display_data"
    }
   ],
   "source": [
    "# 2 X 3 subplot 선언\n",
    "figure, ((ax1, ax2, ax3), (ax4, ax5, ax6)) = plt.subplots(nrows=2, ncols=3)\n",
    "# subplot size 선언\n",
    "figure.set_size_inches(18, 8)\n",
    "# time 관련 feature 들과 대여 수(count) 관계를 barplot 을 이용해 확인\n",
    "sns.barplot(data=train, x=\"datetime-year\", y=\"count\", ax=ax1)\n",
    "sns.barplot(data=train, x=\"datetime-month\", y=\"count\", ax=ax2)\n",
    "sns.barplot(data=train, x=\"datetime-day\", y=\"count\", ax=ax3)\n",
    "sns.barplot(data=train, x=\"datetime-hour\", y=\"count\", ax=ax4)\n",
    "sns.barplot(data=train, x=\"datetime-minute\", y=\"count\", ax=ax5)\n",
    "sns.barplot(data=train, x=\"datetime-second\", y=\"count\", ax=ax6)"
   ]
  },
  {
   "cell_type": "markdown",
   "metadata": {},
   "source": [
    "** Lesson Learned **\n",
    "  * **datetime-minute**와 **datetime-second**는 현재 기록되고 있지 않다. 그러므로 사용할 필요가 없다.\n",
    "  * train.csv와 test.csv는 **datetime-day**를 기준으로 나뉘어져 있다. 그러므로 **datetime-day**를 feature로 사용해서는 안 된다."
   ]
  },
  {
   "cell_type": "markdown",
   "metadata": {},
   "source": [
    "### Explore hour - workingday"
   ]
  },
  {
   "cell_type": "code",
   "execution_count": 38,
   "metadata": {},
   "outputs": [
    {
     "data": {
      "text/plain": [
       "<matplotlib.axes._subplots.AxesSubplot at 0x2808a1eaeb8>"
      ]
     },
     "execution_count": 38,
     "metadata": {},
     "output_type": "execute_result"
    },
    {
     "data": {
      "image/png": "[encoded data removed]",
      "text/plain": [
       "<matplotlib.figure.Figure at 0x2808971f080>"
      ]
     },
     "metadata": {},
     "output_type": "display_data"
    }
   ],
   "source": [
    "# 2 X 1 subplot 선언\n",
    "figure, (ax1, ax2) = plt.subplots(nrows=2, ncols=1)\n",
    "figure.set_size_inches(18, 8)\n",
    "\n",
    "# 시간과 대여 수(count)의 관계를 pointplot 을 이용해 확인\n",
    "sns.pointplot(data=train, x=\"datetime-hour\", y=\"count\", ax=ax1)\n",
    "# hue=\"workingday\" 를 추가해서 주중 시간대와, 주말 시간대별 대여수 관계를 확인\n",
    "sns.pointplot(data=train, x=\"datetime-hour\", y=\"count\", hue=\"workingday\", ax=ax2)"
   ]
  },
  {
   "cell_type": "markdown",
   "metadata": {},
   "source": [
    "** Lesson Learned **\n",
    "  * 주중(workingday==1)에는 출근 시간과 퇴근 시간에 자전거를 많이 대여한다.\n",
    "  * 주말(workingday==0)에는 오후 시간에 자전거를 많이 대여한다.\n",
    "  * 주중(월,화,수,목,금)이 주말(토,일)보다 많기 때문에, 두 개를 나눠서 보지 않으면 주말의 특성을 파악할 수 없다."
   ]
  },
  {
   "cell_type": "markdown",
   "metadata": {},
   "source": [
    "### Explore hour - dayofweek"
   ]
  },
  {
   "cell_type": "code",
   "execution_count": 39,
   "metadata": {},
   "outputs": [
    {
     "name": "stdout",
     "output_type": "stream",
     "text": [
      "(10886, 19)\n"
     ]
    },
    {
     "data": {
      "text/html": [
       "<div>\n",
       "<style>\n",
       "    .dataframe thead tr:only-child th {\n",
       "        text-align: right;\n",
       "    }\n",
       "\n",
       "    .dataframe thead th {\n",
       "        text-align: left;\n",
       "    }\n",
       "\n",
       "    .dataframe tbody tr th {\n",
       "        vertical-align: top;\n",
       "    }\n",
       "</style>\n",
       "<table border=\"1\" class=\"dataframe\">\n",
       "  <thead>\n",
       "    <tr style=\"text-align: right;\">\n",
       "      <th></th>\n",
       "      <th>datetime</th>\n",
       "      <th>datetime-dayofweek</th>\n",
       "    </tr>\n",
       "  </thead>\n",
       "  <tbody>\n",
       "    <tr>\n",
       "      <th>0</th>\n",
       "      <td>2011-01-01 00:00:00</td>\n",
       "      <td>5</td>\n",
       "    </tr>\n",
       "    <tr>\n",
       "      <th>1</th>\n",
       "      <td>2011-01-01 01:00:00</td>\n",
       "      <td>5</td>\n",
       "    </tr>\n",
       "    <tr>\n",
       "      <th>2</th>\n",
       "      <td>2011-01-01 02:00:00</td>\n",
       "      <td>5</td>\n",
       "    </tr>\n",
       "    <tr>\n",
       "      <th>3</th>\n",
       "      <td>2011-01-01 03:00:00</td>\n",
       "      <td>5</td>\n",
       "    </tr>\n",
       "    <tr>\n",
       "      <th>4</th>\n",
       "      <td>2011-01-01 04:00:00</td>\n",
       "      <td>5</td>\n",
       "    </tr>\n",
       "  </tbody>\n",
       "</table>\n",
       "</div>"
      ],
      "text/plain": [
       "             datetime  datetime-dayofweek\n",
       "0 2011-01-01 00:00:00                   5\n",
       "1 2011-01-01 01:00:00                   5\n",
       "2 2011-01-01 02:00:00                   5\n",
       "3 2011-01-01 03:00:00                   5\n",
       "4 2011-01-01 04:00:00                   5"
      ]
     },
     "execution_count": 39,
     "metadata": {},
     "output_type": "execute_result"
    }
   ],
   "source": [
    "# 요일(dayofweek) 컬럼 추가 (0 = monday, ~ 6 = sunday) \n",
    "train[\"datetime-dayofweek\"] = train[\"datetime\"].dt.dayofweek\n",
    "\n",
    "print(train.shape)\n",
    "train[[\"datetime\", \"datetime-dayofweek\"]].head()"
   ]
  },
  {
   "cell_type": "code",
   "execution_count": 40,
   "metadata": {},
   "outputs": [
    {
     "data": {
      "text/plain": [
       "<matplotlib.axes._subplots.AxesSubplot at 0x280869531d0>"
      ]
     },
     "execution_count": 40,
     "metadata": {},
     "output_type": "execute_result"
    },
    {
     "data": {
      "image/png": "[encoded data removed]",
      "text/plain": [
       "<matplotlib.figure.Figure at 0x2808a226780>"
      ]
     },
     "metadata": {},
     "output_type": "display_data"
    }
   ],
   "source": [
    "# 2 X 1 subplot 선언\n",
    "figure, (ax1, ax2) = plt.subplots(nrows=2, ncols=1)\n",
    "figure.set_size_inches(18, 8)\n",
    "\n",
    "# 주중/주말 시간대별 대여수 차이\n",
    "sns.pointplot(data=train, x=\"datetime-hour\", y=\"count\", hue=\"workingday\", ax=ax1)\n",
    "# 요일 시간대별 대여수 차이\n",
    "sns.pointplot(data=train, x=\"datetime-hour\", y=\"count\", hue=\"datetime-dayofweek\", ax=ax2)"
   ]
  },
  {
   "cell_type": "markdown",
   "metadata": {},
   "source": [
    "** Lesson Learned **\n",
    "  * 금요일(workingday==4)는 주중이지만, 아주 약간 주말의 특성을 반영하고 있다.\n",
    "  * 비슷하게 월요일(workingday==0)도 아주 약간 주말의 특성을 반영하고 있다.\n",
    "  * 사람들이 휴가를 월요일과 금요일에 사용하기 때문이라고 추측할 수 있다."
   ]
  },
  {
   "cell_type": "markdown",
   "metadata": {},
   "source": [
    "### Concatenate year and month"
   ]
  },
  {
   "cell_type": "code",
   "execution_count": 41,
   "metadata": {},
   "outputs": [
    {
     "name": "stdout",
     "output_type": "stream",
     "text": [
      "(10886, 20)\n"
     ]
    },
    {
     "data": {
      "text/html": [
       "<div>\n",
       "<style>\n",
       "    .dataframe thead tr:only-child th {\n",
       "        text-align: right;\n",
       "    }\n",
       "\n",
       "    .dataframe thead th {\n",
       "        text-align: left;\n",
       "    }\n",
       "\n",
       "    .dataframe tbody tr th {\n",
       "        vertical-align: top;\n",
       "    }\n",
       "</style>\n",
       "<table border=\"1\" class=\"dataframe\">\n",
       "  <thead>\n",
       "    <tr style=\"text-align: right;\">\n",
       "      <th></th>\n",
       "      <th>datetime</th>\n",
       "      <th>datetime-year_month</th>\n",
       "    </tr>\n",
       "  </thead>\n",
       "  <tbody>\n",
       "    <tr>\n",
       "      <th>0</th>\n",
       "      <td>2011-01-01 00:00:00</td>\n",
       "      <td>2011-1</td>\n",
       "    </tr>\n",
       "    <tr>\n",
       "      <th>1</th>\n",
       "      <td>2011-01-01 01:00:00</td>\n",
       "      <td>2011-1</td>\n",
       "    </tr>\n",
       "    <tr>\n",
       "      <th>2</th>\n",
       "      <td>2011-01-01 02:00:00</td>\n",
       "      <td>2011-1</td>\n",
       "    </tr>\n",
       "    <tr>\n",
       "      <th>3</th>\n",
       "      <td>2011-01-01 03:00:00</td>\n",
       "      <td>2011-1</td>\n",
       "    </tr>\n",
       "    <tr>\n",
       "      <th>4</th>\n",
       "      <td>2011-01-01 04:00:00</td>\n",
       "      <td>2011-1</td>\n",
       "    </tr>\n",
       "  </tbody>\n",
       "</table>\n",
       "</div>"
      ],
      "text/plain": [
       "             datetime datetime-year_month\n",
       "0 2011-01-01 00:00:00              2011-1\n",
       "1 2011-01-01 01:00:00              2011-1\n",
       "2 2011-01-01 02:00:00              2011-1\n",
       "3 2011-01-01 03:00:00              2011-1\n",
       "4 2011-01-01 04:00:00              2011-1"
      ]
     },
     "execution_count": 41,
     "metadata": {},
     "output_type": "execute_result"
    }
   ],
   "source": [
    "# datetime 을 받아서 '년-월' 값을 만들어 주는 함수 정의\n",
    "def concatenate_year_month(datetime):\n",
    "    return \"{0}-{1}\".format(datetime.year, datetime.month)\n",
    "# 년-월 컬럼 추가 (년-월 별 대여량 차이 확인 하기 위해서)\n",
    "train[\"datetime-year_month\"] = train[\"datetime\"].apply(concatenate_year_month)\n",
    "\n",
    "print(train.shape)\n",
    "train[[\"datetime\", \"datetime-year_month\"]].head()"
   ]
  },
  {
   "cell_type": "code",
   "execution_count": 42,
   "metadata": {
    "scrolled": false
   },
   "outputs": [
    {
     "data": {
      "text/plain": [
       "<matplotlib.axes._subplots.AxesSubplot at 0x2808a807048>"
      ]
     },
     "execution_count": 42,
     "metadata": {},
     "output_type": "execute_result"
    },
    {
     "data": {
      "image/png": "[encoded data removed]",
      "text/plain": [
       "<matplotlib.figure.Figure at 0x2808a8bf860>"
      ]
     },
     "metadata": {},
     "output_type": "display_data"
    },
    {
     "data": {
      "image/png": "[encoded data removed]",
      "text/plain": [
       "<matplotlib.figure.Figure at 0x2808add1a20>"
      ]
     },
     "metadata": {},
     "output_type": "display_data"
    }
   ],
   "source": [
    "# 1 X 1 subplot 선언\n",
    "figure, (ax1, ax2) = plt.subplots(nrows=1, ncols=2)\n",
    "figure.set_size_inches(18, 4)\n",
    "# 연도별 대여수 차이 확인\n",
    "sns.barplot(data=train, x=\"datetime-year\", y=\"count\", ax=ax1)\n",
    "# 월별 대여수 차이 확인\n",
    "sns.barplot(data=train, x=\"datetime-month\", y=\"count\", ax=ax2)\n",
    "\n",
    "# 하나짜리 subplot 선언 (차트 하나를 원하는 사이즈로 출력하고 싶을 때 사용하는 Tip)\n",
    "figure, ax3 = plt.subplots(nrows=1, ncols=1)\n",
    "figure.set_size_inches(18, 4)\n",
    "# 위에서 새로 추가한 년-월 별 대여수 차이 확인\n",
    "sns.barplot(data=train, x=\"datetime-year_month\", y=\"count\", ax=ax3)"
   ]
  },
  {
   "cell_type": "markdown",
   "metadata": {},
   "source": [
    "** Lesson Learned **\n",
    "  * 2011년 12월과 2012년 1월의 자전거 대여량을 비슷하지만, 두 개를 따로 놓고 보면 이를 알 수 없다.\n",
    "  * 2011년에는 8월부터 대여량이 감소하고, 2012년에는 7월부터 대여량이 감소한다. 마찬가지로 따로 놓고 보면 이를 알 수 없다."
   ]
  },
  {
   "cell_type": "markdown",
   "metadata": {},
   "source": [
    "## Reload Dataset"
   ]
  },
  {
   "cell_type": "code",
   "execution_count": 43,
   "metadata": {},
   "outputs": [
    {
     "name": "stdout",
     "output_type": "stream",
     "text": [
      "(10886, 12)\n"
     ]
    },
    {
     "data": {
      "text/html": [
       "<div>\n",
       "<style>\n",
       "    .dataframe thead tr:only-child th {\n",
       "        text-align: right;\n",
       "    }\n",
       "\n",
       "    .dataframe thead th {\n",
       "        text-align: left;\n",
       "    }\n",
       "\n",
       "    .dataframe tbody tr th {\n",
       "        vertical-align: top;\n",
       "    }\n",
       "</style>\n",
       "<table border=\"1\" class=\"dataframe\">\n",
       "  <thead>\n",
       "    <tr style=\"text-align: right;\">\n",
       "      <th></th>\n",
       "      <th>datetime</th>\n",
       "      <th>season</th>\n",
       "      <th>holiday</th>\n",
       "      <th>workingday</th>\n",
       "      <th>weather</th>\n",
       "      <th>temp</th>\n",
       "      <th>atemp</th>\n",
       "      <th>humidity</th>\n",
       "      <th>windspeed</th>\n",
       "      <th>casual</th>\n",
       "      <th>registered</th>\n",
       "      <th>count</th>\n",
       "    </tr>\n",
       "  </thead>\n",
       "  <tbody>\n",
       "    <tr>\n",
       "      <th>0</th>\n",
       "      <td>2011-01-01 00:00:00</td>\n",
       "      <td>1</td>\n",
       "      <td>0</td>\n",
       "      <td>0</td>\n",
       "      <td>1</td>\n",
       "      <td>9.84</td>\n",
       "      <td>14.395</td>\n",
       "      <td>81</td>\n",
       "      <td>0.0</td>\n",
       "      <td>3</td>\n",
       "      <td>13</td>\n",
       "      <td>16</td>\n",
       "    </tr>\n",
       "    <tr>\n",
       "      <th>1</th>\n",
       "      <td>2011-01-01 01:00:00</td>\n",
       "      <td>1</td>\n",
       "      <td>0</td>\n",
       "      <td>0</td>\n",
       "      <td>1</td>\n",
       "      <td>9.02</td>\n",
       "      <td>13.635</td>\n",
       "      <td>80</td>\n",
       "      <td>0.0</td>\n",
       "      <td>8</td>\n",
       "      <td>32</td>\n",
       "      <td>40</td>\n",
       "    </tr>\n",
       "    <tr>\n",
       "      <th>2</th>\n",
       "      <td>2011-01-01 02:00:00</td>\n",
       "      <td>1</td>\n",
       "      <td>0</td>\n",
       "      <td>0</td>\n",
       "      <td>1</td>\n",
       "      <td>9.02</td>\n",
       "      <td>13.635</td>\n",
       "      <td>80</td>\n",
       "      <td>0.0</td>\n",
       "      <td>5</td>\n",
       "      <td>27</td>\n",
       "      <td>32</td>\n",
       "    </tr>\n",
       "    <tr>\n",
       "      <th>3</th>\n",
       "      <td>2011-01-01 03:00:00</td>\n",
       "      <td>1</td>\n",
       "      <td>0</td>\n",
       "      <td>0</td>\n",
       "      <td>1</td>\n",
       "      <td>9.84</td>\n",
       "      <td>14.395</td>\n",
       "      <td>75</td>\n",
       "      <td>0.0</td>\n",
       "      <td>3</td>\n",
       "      <td>10</td>\n",
       "      <td>13</td>\n",
       "    </tr>\n",
       "    <tr>\n",
       "      <th>4</th>\n",
       "      <td>2011-01-01 04:00:00</td>\n",
       "      <td>1</td>\n",
       "      <td>0</td>\n",
       "      <td>0</td>\n",
       "      <td>1</td>\n",
       "      <td>9.84</td>\n",
       "      <td>14.395</td>\n",
       "      <td>75</td>\n",
       "      <td>0.0</td>\n",
       "      <td>0</td>\n",
       "      <td>1</td>\n",
       "      <td>1</td>\n",
       "    </tr>\n",
       "  </tbody>\n",
       "</table>\n",
       "</div>"
      ],
      "text/plain": [
       "             datetime  season  holiday  workingday  weather  temp   atemp  \\\n",
       "0 2011-01-01 00:00:00       1        0           0        1  9.84  14.395   \n",
       "1 2011-01-01 01:00:00       1        0           0        1  9.02  13.635   \n",
       "2 2011-01-01 02:00:00       1        0           0        1  9.02  13.635   \n",
       "3 2011-01-01 03:00:00       1        0           0        1  9.84  14.395   \n",
       "4 2011-01-01 04:00:00       1        0           0        1  9.84  14.395   \n",
       "\n",
       "   humidity  windspeed  casual  registered  count  \n",
       "0        81        0.0       3          13     16  \n",
       "1        80        0.0       8          32     40  \n",
       "2        80        0.0       5          27     32  \n",
       "3        75        0.0       3          10     13  \n",
       "4        75        0.0       0           1      1  "
      ]
     },
     "execution_count": 43,
     "metadata": {},
     "output_type": "execute_result"
    }
   ],
   "source": [
    "# 전처리 하기위해 train 원본 데이터를 다시 load\n",
    "train = pd.read_csv(\"data/train.csv\", parse_dates=[\"datetime\"])\n",
    "\n",
    "print(train.shape)\n",
    "train.head()"
   ]
  },
  {
   "cell_type": "code",
   "execution_count": 44,
   "metadata": {},
   "outputs": [
    {
     "name": "stdout",
     "output_type": "stream",
     "text": [
      "(6493, 9)\n"
     ]
    },
    {
     "data": {
      "text/html": [
       "<div>\n",
       "<style>\n",
       "    .dataframe thead tr:only-child th {\n",
       "        text-align: right;\n",
       "    }\n",
       "\n",
       "    .dataframe thead th {\n",
       "        text-align: left;\n",
       "    }\n",
       "\n",
       "    .dataframe tbody tr th {\n",
       "        vertical-align: top;\n",
       "    }\n",
       "</style>\n",
       "<table border=\"1\" class=\"dataframe\">\n",
       "  <thead>\n",
       "    <tr style=\"text-align: right;\">\n",
       "      <th></th>\n",
       "      <th>datetime</th>\n",
       "      <th>season</th>\n",
       "      <th>holiday</th>\n",
       "      <th>workingday</th>\n",
       "      <th>weather</th>\n",
       "      <th>temp</th>\n",
       "      <th>atemp</th>\n",
       "      <th>humidity</th>\n",
       "      <th>windspeed</th>\n",
       "    </tr>\n",
       "  </thead>\n",
       "  <tbody>\n",
       "    <tr>\n",
       "      <th>0</th>\n",
       "      <td>2011-01-20 00:00:00</td>\n",
       "      <td>1</td>\n",
       "      <td>0</td>\n",
       "      <td>1</td>\n",
       "      <td>1</td>\n",
       "      <td>10.66</td>\n",
       "      <td>11.365</td>\n",
       "      <td>56</td>\n",
       "      <td>26.0027</td>\n",
       "    </tr>\n",
       "    <tr>\n",
       "      <th>1</th>\n",
       "      <td>2011-01-20 01:00:00</td>\n",
       "      <td>1</td>\n",
       "      <td>0</td>\n",
       "      <td>1</td>\n",
       "      <td>1</td>\n",
       "      <td>10.66</td>\n",
       "      <td>13.635</td>\n",
       "      <td>56</td>\n",
       "      <td>0.0000</td>\n",
       "    </tr>\n",
       "    <tr>\n",
       "      <th>2</th>\n",
       "      <td>2011-01-20 02:00:00</td>\n",
       "      <td>1</td>\n",
       "      <td>0</td>\n",
       "      <td>1</td>\n",
       "      <td>1</td>\n",
       "      <td>10.66</td>\n",
       "      <td>13.635</td>\n",
       "      <td>56</td>\n",
       "      <td>0.0000</td>\n",
       "    </tr>\n",
       "    <tr>\n",
       "      <th>3</th>\n",
       "      <td>2011-01-20 03:00:00</td>\n",
       "      <td>1</td>\n",
       "      <td>0</td>\n",
       "      <td>1</td>\n",
       "      <td>1</td>\n",
       "      <td>10.66</td>\n",
       "      <td>12.880</td>\n",
       "      <td>56</td>\n",
       "      <td>11.0014</td>\n",
       "    </tr>\n",
       "    <tr>\n",
       "      <th>4</th>\n",
       "      <td>2011-01-20 04:00:00</td>\n",
       "      <td>1</td>\n",
       "      <td>0</td>\n",
       "      <td>1</td>\n",
       "      <td>1</td>\n",
       "      <td>10.66</td>\n",
       "      <td>12.880</td>\n",
       "      <td>56</td>\n",
       "      <td>11.0014</td>\n",
       "    </tr>\n",
       "  </tbody>\n",
       "</table>\n",
       "</div>"
      ],
      "text/plain": [
       "             datetime  season  holiday  workingday  weather   temp   atemp  \\\n",
       "0 2011-01-20 00:00:00       1        0           1        1  10.66  11.365   \n",
       "1 2011-01-20 01:00:00       1        0           1        1  10.66  13.635   \n",
       "2 2011-01-20 02:00:00       1        0           1        1  10.66  13.635   \n",
       "3 2011-01-20 03:00:00       1        0           1        1  10.66  12.880   \n",
       "4 2011-01-20 04:00:00       1        0           1        1  10.66  12.880   \n",
       "\n",
       "   humidity  windspeed  \n",
       "0        56    26.0027  \n",
       "1        56     0.0000  \n",
       "2        56     0.0000  \n",
       "3        56    11.0014  \n",
       "4        56    11.0014  "
      ]
     },
     "execution_count": 44,
     "metadata": {},
     "output_type": "execute_result"
    }
   ],
   "source": [
    "# test 데이터도 전처리를 같이 해야 하기 때문에 함께 load\n",
    "test = pd.read_csv(\"data/test.csv\", parse_dates=[\"datetime\"])\n",
    "\n",
    "print(test.shape)\n",
    "test.head()"
   ]
  },
  {
   "cell_type": "markdown",
   "metadata": {},
   "source": [
    "## Preprocessing"
   ]
  },
  {
   "cell_type": "markdown",
   "metadata": {},
   "source": [
    "### Parse datetime"
   ]
  },
  {
   "cell_type": "code",
   "execution_count": 45,
   "metadata": {},
   "outputs": [
    {
     "name": "stdout",
     "output_type": "stream",
     "text": [
      "(10886, 17)\n"
     ]
    },
    {
     "data": {
      "text/html": [
       "<div>\n",
       "<style>\n",
       "    .dataframe thead tr:only-child th {\n",
       "        text-align: right;\n",
       "    }\n",
       "\n",
       "    .dataframe thead th {\n",
       "        text-align: left;\n",
       "    }\n",
       "\n",
       "    .dataframe tbody tr th {\n",
       "        vertical-align: top;\n",
       "    }\n",
       "</style>\n",
       "<table border=\"1\" class=\"dataframe\">\n",
       "  <thead>\n",
       "    <tr style=\"text-align: right;\">\n",
       "      <th></th>\n",
       "      <th>datetime</th>\n",
       "      <th>datetime-year</th>\n",
       "      <th>datetime-month</th>\n",
       "      <th>datetime-day</th>\n",
       "      <th>datetime-hour</th>\n",
       "      <th>datetime-dayofweek</th>\n",
       "    </tr>\n",
       "  </thead>\n",
       "  <tbody>\n",
       "    <tr>\n",
       "      <th>0</th>\n",
       "      <td>2011-01-01 00:00:00</td>\n",
       "      <td>2011</td>\n",
       "      <td>1</td>\n",
       "      <td>1</td>\n",
       "      <td>0</td>\n",
       "      <td>5</td>\n",
       "    </tr>\n",
       "    <tr>\n",
       "      <th>1</th>\n",
       "      <td>2011-01-01 01:00:00</td>\n",
       "      <td>2011</td>\n",
       "      <td>1</td>\n",
       "      <td>1</td>\n",
       "      <td>1</td>\n",
       "      <td>5</td>\n",
       "    </tr>\n",
       "    <tr>\n",
       "      <th>2</th>\n",
       "      <td>2011-01-01 02:00:00</td>\n",
       "      <td>2011</td>\n",
       "      <td>1</td>\n",
       "      <td>1</td>\n",
       "      <td>2</td>\n",
       "      <td>5</td>\n",
       "    </tr>\n",
       "    <tr>\n",
       "      <th>3</th>\n",
       "      <td>2011-01-01 03:00:00</td>\n",
       "      <td>2011</td>\n",
       "      <td>1</td>\n",
       "      <td>1</td>\n",
       "      <td>3</td>\n",
       "      <td>5</td>\n",
       "    </tr>\n",
       "    <tr>\n",
       "      <th>4</th>\n",
       "      <td>2011-01-01 04:00:00</td>\n",
       "      <td>2011</td>\n",
       "      <td>1</td>\n",
       "      <td>1</td>\n",
       "      <td>4</td>\n",
       "      <td>5</td>\n",
       "    </tr>\n",
       "  </tbody>\n",
       "</table>\n",
       "</div>"
      ],
      "text/plain": [
       "             datetime  datetime-year  datetime-month  datetime-day  \\\n",
       "0 2011-01-01 00:00:00           2011               1             1   \n",
       "1 2011-01-01 01:00:00           2011               1             1   \n",
       "2 2011-01-01 02:00:00           2011               1             1   \n",
       "3 2011-01-01 03:00:00           2011               1             1   \n",
       "4 2011-01-01 04:00:00           2011               1             1   \n",
       "\n",
       "   datetime-hour  datetime-dayofweek  \n",
       "0              0                   5  \n",
       "1              1                   5  \n",
       "2              2                   5  \n",
       "3              3                   5  \n",
       "4              4                   5  "
      ]
     },
     "execution_count": 45,
     "metadata": {},
     "output_type": "execute_result"
    }
   ],
   "source": [
    "# train 데이터에 년/월/일/시간/요일 컬럼 추가\n",
    "train[\"datetime-year\"] = train[\"datetime\"].dt.year\n",
    "train[\"datetime-month\"] = train[\"datetime\"].dt.month\n",
    "train[\"datetime-day\"] = train[\"datetime\"].dt.day\n",
    "train[\"datetime-hour\"] = train[\"datetime\"].dt.hour\n",
    "train[\"datetime-dayofweek\"] = train[\"datetime\"].dt.dayofweek\n",
    "\n",
    "print(train.shape)\n",
    "train[[\"datetime\", \"datetime-year\", \"datetime-month\", \"datetime-day\", \"datetime-hour\", \"datetime-dayofweek\"]].head()"
   ]
  },
  {
   "cell_type": "code",
   "execution_count": 46,
   "metadata": {},
   "outputs": [
    {
     "name": "stdout",
     "output_type": "stream",
     "text": [
      "(6493, 14)\n"
     ]
    },
    {
     "data": {
      "text/html": [
       "<div>\n",
       "<style>\n",
       "    .dataframe thead tr:only-child th {\n",
       "        text-align: right;\n",
       "    }\n",
       "\n",
       "    .dataframe thead th {\n",
       "        text-align: left;\n",
       "    }\n",
       "\n",
       "    .dataframe tbody tr th {\n",
       "        vertical-align: top;\n",
       "    }\n",
       "</style>\n",
       "<table border=\"1\" class=\"dataframe\">\n",
       "  <thead>\n",
       "    <tr style=\"text-align: right;\">\n",
       "      <th></th>\n",
       "      <th>datetime</th>\n",
       "      <th>datetime-year</th>\n",
       "      <th>datetime-month</th>\n",
       "      <th>datetime-day</th>\n",
       "      <th>datetime-hour</th>\n",
       "      <th>datetime-dayofweek</th>\n",
       "    </tr>\n",
       "  </thead>\n",
       "  <tbody>\n",
       "    <tr>\n",
       "      <th>0</th>\n",
       "      <td>2011-01-20 00:00:00</td>\n",
       "      <td>2011</td>\n",
       "      <td>1</td>\n",
       "      <td>20</td>\n",
       "      <td>0</td>\n",
       "      <td>3</td>\n",
       "    </tr>\n",
       "    <tr>\n",
       "      <th>1</th>\n",
       "      <td>2011-01-20 01:00:00</td>\n",
       "      <td>2011</td>\n",
       "      <td>1</td>\n",
       "      <td>20</td>\n",
       "      <td>1</td>\n",
       "      <td>3</td>\n",
       "    </tr>\n",
       "    <tr>\n",
       "      <th>2</th>\n",
       "      <td>2011-01-20 02:00:00</td>\n",
       "      <td>2011</td>\n",
       "      <td>1</td>\n",
       "      <td>20</td>\n",
       "      <td>2</td>\n",
       "      <td>3</td>\n",
       "    </tr>\n",
       "    <tr>\n",
       "      <th>3</th>\n",
       "      <td>2011-01-20 03:00:00</td>\n",
       "      <td>2011</td>\n",
       "      <td>1</td>\n",
       "      <td>20</td>\n",
       "      <td>3</td>\n",
       "      <td>3</td>\n",
       "    </tr>\n",
       "    <tr>\n",
       "      <th>4</th>\n",
       "      <td>2011-01-20 04:00:00</td>\n",
       "      <td>2011</td>\n",
       "      <td>1</td>\n",
       "      <td>20</td>\n",
       "      <td>4</td>\n",
       "      <td>3</td>\n",
       "    </tr>\n",
       "  </tbody>\n",
       "</table>\n",
       "</div>"
      ],
      "text/plain": [
       "             datetime  datetime-year  datetime-month  datetime-day  \\\n",
       "0 2011-01-20 00:00:00           2011               1            20   \n",
       "1 2011-01-20 01:00:00           2011               1            20   \n",
       "2 2011-01-20 02:00:00           2011               1            20   \n",
       "3 2011-01-20 03:00:00           2011               1            20   \n",
       "4 2011-01-20 04:00:00           2011               1            20   \n",
       "\n",
       "   datetime-hour  datetime-dayofweek  \n",
       "0              0                   3  \n",
       "1              1                   3  \n",
       "2              2                   3  \n",
       "3              3                   3  \n",
       "4              4                   3  "
      ]
     },
     "execution_count": 46,
     "metadata": {},
     "output_type": "execute_result"
    }
   ],
   "source": [
    "# test 데이터에 년/월/일/시간/요일 컬럼 추가\n",
    "test[\"datetime-year\"] = test[\"datetime\"].dt.year\n",
    "test[\"datetime-month\"] = test[\"datetime\"].dt.month\n",
    "test[\"datetime-day\"] = test[\"datetime\"].dt.day\n",
    "test[\"datetime-hour\"] = test[\"datetime\"].dt.hour\n",
    "test[\"datetime-dayofweek\"] = test[\"datetime\"].dt.dayofweek\n",
    "\n",
    "print(test.shape)\n",
    "test[[\"datetime\", \"datetime-year\", \"datetime-month\", \"datetime-day\", \"datetime-hour\", \"datetime-dayofweek\"]].head()"
   ]
  },
  {
   "cell_type": "markdown",
   "metadata": {},
   "source": [
    "### Data for train"
   ]
  },
  {
   "cell_type": "markdown",
   "metadata": {},
   "source": [
    "### Select features for Training"
   ]
  },
  {
   "cell_type": "markdown",
   "metadata": {},
   "source": [
    "**\n",
    "<span style=\"color:red\">\n",
    "One-hot encoding 하기전에는 아무리 해도 좋은 결과가 안나옴 (loss 수렴이 잘 안됨)  \n",
    "One-hot encoding 을 통해 feature를 늘린 후 성능이 크게 개선 됨\n",
    "</span>\n",
    "**"
   ]
  },
  {
   "cell_type": "code",
   "execution_count": 47,
   "metadata": {},
   "outputs": [],
   "source": [
    "# DataFrame.get_dummies() 를 사용해서 한번에 one-hot encoding 하기 위해 \n",
    "# neumeric type을 string type 으로 수정\n",
    "train['season'] = train['season'].astype(str)\n",
    "train['weather'] = train['weather'].astype(str)\n",
    "train['datetime-dayofweek'] = train['datetime-dayofweek'].astype(str)\n",
    "train['datetime-hour'] = train['datetime-hour'].astype(str)"
   ]
  },
  {
   "cell_type": "code",
   "execution_count": 48,
   "metadata": {},
   "outputs": [],
   "source": [
    "# DataFrame.get_dummies() 를 사용해서 한번에 one-hot encoding 하기 위해 \n",
    "# neumeric type을 string type 으로 수정\n",
    "test['season'] = test['season'].astype(str)\n",
    "test['weather'] = test['weather'].astype(str)\n",
    "test['datetime-dayofweek'] = test['datetime-dayofweek'].astype(str)\n",
    "test['datetime-hour'] = test['datetime-hour'].astype(str)"
   ]
  },
  {
   "cell_type": "code",
   "execution_count": 49,
   "metadata": {},
   "outputs": [],
   "source": [
    "#train 시킬 feature 선언\n",
    "feature_names = [\"season\", \"holiday\", \"workingday\", \"weather\",\n",
    "                 \"atemp\", \"humidity\", \"datetime-year\", \n",
    "                 \"datetime-hour\", \"datetime-dayofweek\"]"
   ]
  },
  {
   "cell_type": "code",
   "execution_count": 50,
   "metadata": {},
   "outputs": [
    {
     "name": "stdout",
     "output_type": "stream",
     "text": [
      "(10886, 44)\n"
     ]
    },
    {
     "data": {
      "text/html": [
       "<div>\n",
       "<style>\n",
       "    .dataframe thead tr:only-child th {\n",
       "        text-align: right;\n",
       "    }\n",
       "\n",
       "    .dataframe thead th {\n",
       "        text-align: left;\n",
       "    }\n",
       "\n",
       "    .dataframe tbody tr th {\n",
       "        vertical-align: top;\n",
       "    }\n",
       "</style>\n",
       "<table border=\"1\" class=\"dataframe\">\n",
       "  <thead>\n",
       "    <tr style=\"text-align: right;\">\n",
       "      <th></th>\n",
       "      <th>holiday</th>\n",
       "      <th>workingday</th>\n",
       "      <th>atemp</th>\n",
       "      <th>humidity</th>\n",
       "      <th>datetime-year</th>\n",
       "      <th>season_1</th>\n",
       "      <th>season_2</th>\n",
       "      <th>season_3</th>\n",
       "      <th>season_4</th>\n",
       "      <th>weather_1</th>\n",
       "      <th>...</th>\n",
       "      <th>datetime-hour_7</th>\n",
       "      <th>datetime-hour_8</th>\n",
       "      <th>datetime-hour_9</th>\n",
       "      <th>datetime-dayofweek_0</th>\n",
       "      <th>datetime-dayofweek_1</th>\n",
       "      <th>datetime-dayofweek_2</th>\n",
       "      <th>datetime-dayofweek_3</th>\n",
       "      <th>datetime-dayofweek_4</th>\n",
       "      <th>datetime-dayofweek_5</th>\n",
       "      <th>datetime-dayofweek_6</th>\n",
       "    </tr>\n",
       "  </thead>\n",
       "  <tbody>\n",
       "    <tr>\n",
       "      <th>0</th>\n",
       "      <td>0</td>\n",
       "      <td>0</td>\n",
       "      <td>14.395</td>\n",
       "      <td>81</td>\n",
       "      <td>2011</td>\n",
       "      <td>1</td>\n",
       "      <td>0</td>\n",
       "      <td>0</td>\n",
       "      <td>0</td>\n",
       "      <td>1</td>\n",
       "      <td>...</td>\n",
       "      <td>0</td>\n",
       "      <td>0</td>\n",
       "      <td>0</td>\n",
       "      <td>0</td>\n",
       "      <td>0</td>\n",
       "      <td>0</td>\n",
       "      <td>0</td>\n",
       "      <td>0</td>\n",
       "      <td>1</td>\n",
       "      <td>0</td>\n",
       "    </tr>\n",
       "    <tr>\n",
       "      <th>1</th>\n",
       "      <td>0</td>\n",
       "      <td>0</td>\n",
       "      <td>13.635</td>\n",
       "      <td>80</td>\n",
       "      <td>2011</td>\n",
       "      <td>1</td>\n",
       "      <td>0</td>\n",
       "      <td>0</td>\n",
       "      <td>0</td>\n",
       "      <td>1</td>\n",
       "      <td>...</td>\n",
       "      <td>0</td>\n",
       "      <td>0</td>\n",
       "      <td>0</td>\n",
       "      <td>0</td>\n",
       "      <td>0</td>\n",
       "      <td>0</td>\n",
       "      <td>0</td>\n",
       "      <td>0</td>\n",
       "      <td>1</td>\n",
       "      <td>0</td>\n",
       "    </tr>\n",
       "    <tr>\n",
       "      <th>2</th>\n",
       "      <td>0</td>\n",
       "      <td>0</td>\n",
       "      <td>13.635</td>\n",
       "      <td>80</td>\n",
       "      <td>2011</td>\n",
       "      <td>1</td>\n",
       "      <td>0</td>\n",
       "      <td>0</td>\n",
       "      <td>0</td>\n",
       "      <td>1</td>\n",
       "      <td>...</td>\n",
       "      <td>0</td>\n",
       "      <td>0</td>\n",
       "      <td>0</td>\n",
       "      <td>0</td>\n",
       "      <td>0</td>\n",
       "      <td>0</td>\n",
       "      <td>0</td>\n",
       "      <td>0</td>\n",
       "      <td>1</td>\n",
       "      <td>0</td>\n",
       "    </tr>\n",
       "    <tr>\n",
       "      <th>3</th>\n",
       "      <td>0</td>\n",
       "      <td>0</td>\n",
       "      <td>14.395</td>\n",
       "      <td>75</td>\n",
       "      <td>2011</td>\n",
       "      <td>1</td>\n",
       "      <td>0</td>\n",
       "      <td>0</td>\n",
       "      <td>0</td>\n",
       "      <td>1</td>\n",
       "      <td>...</td>\n",
       "      <td>0</td>\n",
       "      <td>0</td>\n",
       "      <td>0</td>\n",
       "      <td>0</td>\n",
       "      <td>0</td>\n",
       "      <td>0</td>\n",
       "      <td>0</td>\n",
       "      <td>0</td>\n",
       "      <td>1</td>\n",
       "      <td>0</td>\n",
       "    </tr>\n",
       "    <tr>\n",
       "      <th>4</th>\n",
       "      <td>0</td>\n",
       "      <td>0</td>\n",
       "      <td>14.395</td>\n",
       "      <td>75</td>\n",
       "      <td>2011</td>\n",
       "      <td>1</td>\n",
       "      <td>0</td>\n",
       "      <td>0</td>\n",
       "      <td>0</td>\n",
       "      <td>1</td>\n",
       "      <td>...</td>\n",
       "      <td>0</td>\n",
       "      <td>0</td>\n",
       "      <td>0</td>\n",
       "      <td>0</td>\n",
       "      <td>0</td>\n",
       "      <td>0</td>\n",
       "      <td>0</td>\n",
       "      <td>0</td>\n",
       "      <td>1</td>\n",
       "      <td>0</td>\n",
       "    </tr>\n",
       "  </tbody>\n",
       "</table>\n",
       "<p>5 rows × 44 columns</p>\n",
       "</div>"
      ],
      "text/plain": [
       "   holiday  workingday   atemp  humidity  datetime-year  season_1  season_2  \\\n",
       "0        0           0  14.395        81           2011         1         0   \n",
       "1        0           0  13.635        80           2011         1         0   \n",
       "2        0           0  13.635        80           2011         1         0   \n",
       "3        0           0  14.395        75           2011         1         0   \n",
       "4        0           0  14.395        75           2011         1         0   \n",
       "\n",
       "   season_3  season_4  weather_1          ...           datetime-hour_7  \\\n",
       "0         0         0          1          ...                         0   \n",
       "1         0         0          1          ...                         0   \n",
       "2         0         0          1          ...                         0   \n",
       "3         0         0          1          ...                         0   \n",
       "4         0         0          1          ...                         0   \n",
       "\n",
       "   datetime-hour_8  datetime-hour_9  datetime-dayofweek_0  \\\n",
       "0                0                0                     0   \n",
       "1                0                0                     0   \n",
       "2                0                0                     0   \n",
       "3                0                0                     0   \n",
       "4                0                0                     0   \n",
       "\n",
       "   datetime-dayofweek_1  datetime-dayofweek_2  datetime-dayofweek_3  \\\n",
       "0                     0                     0                     0   \n",
       "1                     0                     0                     0   \n",
       "2                     0                     0                     0   \n",
       "3                     0                     0                     0   \n",
       "4                     0                     0                     0   \n",
       "\n",
       "   datetime-dayofweek_4  datetime-dayofweek_5  datetime-dayofweek_6  \n",
       "0                     0                     1                     0  \n",
       "1                     0                     1                     0  \n",
       "2                     0                     1                     0  \n",
       "3                     0                     1                     0  \n",
       "4                     0                     1                     0  \n",
       "\n",
       "[5 rows x 44 columns]"
      ]
     },
     "execution_count": 50,
     "metadata": {},
     "output_type": "execute_result"
    }
   ],
   "source": [
    "# train 시킬 데이터셋(feature) 준비 : X\n",
    "# One-hot encoding (neumeric type 이 아닌 컬럼들은 모두 encoding 됨)\n",
    "X = pd.get_dummies(train[feature_names])\n",
    "\n",
    "print(X.shape)\n",
    "X.head()"
   ]
  },
  {
   "cell_type": "code",
   "execution_count": 51,
   "metadata": {},
   "outputs": [
    {
     "data": {
      "text/plain": [
       "0    2.833213\n",
       "1    3.713572\n",
       "2    3.496508\n",
       "3    2.639057\n",
       "4    0.693147\n",
       "Name: count, dtype: float64"
      ]
     },
     "execution_count": 51,
     "metadata": {},
     "output_type": "execute_result"
    }
   ],
   "source": [
    "label_name = \"count\"\n",
    "# loss 를 RMSLE (Root Mean Square Log Error) 로 측정하기 위해 \n",
    "# label (actual value) 값을 변환\n",
    "y = np.log(train[label_name]+1)\n",
    "\n",
    "y.head(5)"
   ]
  },
  {
   "cell_type": "markdown",
   "metadata": {},
   "source": [
    "### Splitting train, test(evaluate) data set"
   ]
  },
  {
   "cell_type": "code",
   "execution_count": 52,
   "metadata": {},
   "outputs": [
    {
     "name": "stdout",
     "output_type": "stream",
     "text": [
      "(8708, 44) (2178, 44) (8708,) (2178,)\n"
     ]
    }
   ],
   "source": [
    "# train 데이터 검증을 위한 test 데이터 준비\n",
    "# train 데이터에서 일부 검증용으로 test 셋 분리\n",
    "# 데이터 건수가 많지 않기 때문에 test 셋을 줄이고 train 셋을 늘리는 것이 좋을것 같음\n",
    "X_train_df, X_test_df, y_train_df, y_test_df = train_test_split(X, y, test_size = 0.20, random_state = 0)\n",
    "print(X_train_df.shape, X_test_df.shape, y_train_df.shape, y_test_df.shape)"
   ]
  },
  {
   "cell_type": "markdown",
   "metadata": {},
   "source": [
    "### Kaggle submit data set"
   ]
  },
  {
   "cell_type": "code",
   "execution_count": 53,
   "metadata": {},
   "outputs": [
    {
     "name": "stdout",
     "output_type": "stream",
     "text": [
      "(6493, 44)\n"
     ]
    },
    {
     "data": {
      "text/html": [
       "<div>\n",
       "<style>\n",
       "    .dataframe thead tr:only-child th {\n",
       "        text-align: right;\n",
       "    }\n",
       "\n",
       "    .dataframe thead th {\n",
       "        text-align: left;\n",
       "    }\n",
       "\n",
       "    .dataframe tbody tr th {\n",
       "        vertical-align: top;\n",
       "    }\n",
       "</style>\n",
       "<table border=\"1\" class=\"dataframe\">\n",
       "  <thead>\n",
       "    <tr style=\"text-align: right;\">\n",
       "      <th></th>\n",
       "      <th>holiday</th>\n",
       "      <th>workingday</th>\n",
       "      <th>atemp</th>\n",
       "      <th>humidity</th>\n",
       "      <th>datetime-year</th>\n",
       "      <th>season_1</th>\n",
       "      <th>season_2</th>\n",
       "      <th>season_3</th>\n",
       "      <th>season_4</th>\n",
       "      <th>weather_1</th>\n",
       "      <th>...</th>\n",
       "      <th>datetime-hour_7</th>\n",
       "      <th>datetime-hour_8</th>\n",
       "      <th>datetime-hour_9</th>\n",
       "      <th>datetime-dayofweek_0</th>\n",
       "      <th>datetime-dayofweek_1</th>\n",
       "      <th>datetime-dayofweek_2</th>\n",
       "      <th>datetime-dayofweek_3</th>\n",
       "      <th>datetime-dayofweek_4</th>\n",
       "      <th>datetime-dayofweek_5</th>\n",
       "      <th>datetime-dayofweek_6</th>\n",
       "    </tr>\n",
       "  </thead>\n",
       "  <tbody>\n",
       "    <tr>\n",
       "      <th>0</th>\n",
       "      <td>0</td>\n",
       "      <td>1</td>\n",
       "      <td>11.365</td>\n",
       "      <td>56</td>\n",
       "      <td>2011</td>\n",
       "      <td>1</td>\n",
       "      <td>0</td>\n",
       "      <td>0</td>\n",
       "      <td>0</td>\n",
       "      <td>1</td>\n",
       "      <td>...</td>\n",
       "      <td>0</td>\n",
       "      <td>0</td>\n",
       "      <td>0</td>\n",
       "      <td>0</td>\n",
       "      <td>0</td>\n",
       "      <td>0</td>\n",
       "      <td>1</td>\n",
       "      <td>0</td>\n",
       "      <td>0</td>\n",
       "      <td>0</td>\n",
       "    </tr>\n",
       "    <tr>\n",
       "      <th>1</th>\n",
       "      <td>0</td>\n",
       "      <td>1</td>\n",
       "      <td>13.635</td>\n",
       "      <td>56</td>\n",
       "      <td>2011</td>\n",
       "      <td>1</td>\n",
       "      <td>0</td>\n",
       "      <td>0</td>\n",
       "      <td>0</td>\n",
       "      <td>1</td>\n",
       "      <td>...</td>\n",
       "      <td>0</td>\n",
       "      <td>0</td>\n",
       "      <td>0</td>\n",
       "      <td>0</td>\n",
       "      <td>0</td>\n",
       "      <td>0</td>\n",
       "      <td>1</td>\n",
       "      <td>0</td>\n",
       "      <td>0</td>\n",
       "      <td>0</td>\n",
       "    </tr>\n",
       "    <tr>\n",
       "      <th>2</th>\n",
       "      <td>0</td>\n",
       "      <td>1</td>\n",
       "      <td>13.635</td>\n",
       "      <td>56</td>\n",
       "      <td>2011</td>\n",
       "      <td>1</td>\n",
       "      <td>0</td>\n",
       "      <td>0</td>\n",
       "      <td>0</td>\n",
       "      <td>1</td>\n",
       "      <td>...</td>\n",
       "      <td>0</td>\n",
       "      <td>0</td>\n",
       "      <td>0</td>\n",
       "      <td>0</td>\n",
       "      <td>0</td>\n",
       "      <td>0</td>\n",
       "      <td>1</td>\n",
       "      <td>0</td>\n",
       "      <td>0</td>\n",
       "      <td>0</td>\n",
       "    </tr>\n",
       "    <tr>\n",
       "      <th>3</th>\n",
       "      <td>0</td>\n",
       "      <td>1</td>\n",
       "      <td>12.880</td>\n",
       "      <td>56</td>\n",
       "      <td>2011</td>\n",
       "      <td>1</td>\n",
       "      <td>0</td>\n",
       "      <td>0</td>\n",
       "      <td>0</td>\n",
       "      <td>1</td>\n",
       "      <td>...</td>\n",
       "      <td>0</td>\n",
       "      <td>0</td>\n",
       "      <td>0</td>\n",
       "      <td>0</td>\n",
       "      <td>0</td>\n",
       "      <td>0</td>\n",
       "      <td>1</td>\n",
       "      <td>0</td>\n",
       "      <td>0</td>\n",
       "      <td>0</td>\n",
       "    </tr>\n",
       "    <tr>\n",
       "      <th>4</th>\n",
       "      <td>0</td>\n",
       "      <td>1</td>\n",
       "      <td>12.880</td>\n",
       "      <td>56</td>\n",
       "      <td>2011</td>\n",
       "      <td>1</td>\n",
       "      <td>0</td>\n",
       "      <td>0</td>\n",
       "      <td>0</td>\n",
       "      <td>1</td>\n",
       "      <td>...</td>\n",
       "      <td>0</td>\n",
       "      <td>0</td>\n",
       "      <td>0</td>\n",
       "      <td>0</td>\n",
       "      <td>0</td>\n",
       "      <td>0</td>\n",
       "      <td>1</td>\n",
       "      <td>0</td>\n",
       "      <td>0</td>\n",
       "      <td>0</td>\n",
       "    </tr>\n",
       "  </tbody>\n",
       "</table>\n",
       "<p>5 rows × 44 columns</p>\n",
       "</div>"
      ],
      "text/plain": [
       "   holiday  workingday   atemp  humidity  datetime-year  season_1  season_2  \\\n",
       "0        0           1  11.365        56           2011         1         0   \n",
       "1        0           1  13.635        56           2011         1         0   \n",
       "2        0           1  13.635        56           2011         1         0   \n",
       "3        0           1  12.880        56           2011         1         0   \n",
       "4        0           1  12.880        56           2011         1         0   \n",
       "\n",
       "   season_3  season_4  weather_1          ...           datetime-hour_7  \\\n",
       "0         0         0          1          ...                         0   \n",
       "1         0         0          1          ...                         0   \n",
       "2         0         0          1          ...                         0   \n",
       "3         0         0          1          ...                         0   \n",
       "4         0         0          1          ...                         0   \n",
       "\n",
       "   datetime-hour_8  datetime-hour_9  datetime-dayofweek_0  \\\n",
       "0                0                0                     0   \n",
       "1                0                0                     0   \n",
       "2                0                0                     0   \n",
       "3                0                0                     0   \n",
       "4                0                0                     0   \n",
       "\n",
       "   datetime-dayofweek_1  datetime-dayofweek_2  datetime-dayofweek_3  \\\n",
       "0                     0                     0                     1   \n",
       "1                     0                     0                     1   \n",
       "2                     0                     0                     1   \n",
       "3                     0                     0                     1   \n",
       "4                     0                     0                     1   \n",
       "\n",
       "   datetime-dayofweek_4  datetime-dayofweek_5  datetime-dayofweek_6  \n",
       "0                     0                     0                     0  \n",
       "1                     0                     0                     0  \n",
       "2                     0                     0                     0  \n",
       "3                     0                     0                     0  \n",
       "4                     0                     0                     0  \n",
       "\n",
       "[5 rows x 44 columns]"
      ]
     },
     "execution_count": 53,
     "metadata": {},
     "output_type": "execute_result"
    }
   ],
   "source": [
    "# 예측(predict) 할 test 데이터셋 준비 : X_test\n",
    "X_submit = pd.get_dummies(test[feature_names])\n",
    "\n",
    "print(X_submit.shape)\n",
    "X_submit.head()"
   ]
  },
  {
   "cell_type": "markdown",
   "metadata": {},
   "source": [
    "### feature standardization  "
   ]
  },
  {
   "cell_type": "code",
   "execution_count": 54,
   "metadata": {},
   "outputs": [],
   "source": [
    "from sklearn.preprocessing import StandardScaler\n",
    "# StandardScaler를 이용해 standardization 결과 numpy array 값으로 변경\n",
    "X_train = StandardScaler().fit_transform(X_train_df)\n",
    "# DataFrame 을 numpy array 로\n",
    "y_train = np.float32(y_train_df.values)\n",
    "\n",
    "X_test = StandardScaler().fit_transform(X_test_df)\n",
    "y_test = y_test_df.values"
   ]
  },
  {
   "cell_type": "markdown",
   "metadata": {},
   "source": [
    "## Train (tensorflow)"
   ]
  },
  {
   "cell_type": "markdown",
   "metadata": {},
   "source": [
    "### Common constant"
   ]
  },
  {
   "cell_type": "code",
   "execution_count": 55,
   "metadata": {},
   "outputs": [],
   "source": [
    "# 사용할 feature 수\n",
    "n_features = X_train.shape[1]\n",
    "# learning rate\n",
    "learning_rate = 0.001\n",
    "# regualization constant\n",
    "reg_constant = 0.01\n",
    "# epoches \n",
    "EPOCHS = 100\n",
    "# batch size\n",
    "# 여기서는 전체 데이터를 한꺼번에 학습 : 학습 결과에 영향을 크게 미침 --> 검토필요)\n",
    "BATCH_SIZE = int(len(X_train)/1)"
   ]
  },
  {
   "cell_type": "markdown",
   "metadata": {},
   "source": [
    "### Placeholder"
   ]
  },
  {
   "cell_type": "code",
   "execution_count": 123,
   "metadata": {},
   "outputs": [],
   "source": [
    "# Input placeholders\n",
    "with tf.name_scope('input'):\n",
    "    x_placeholder = tf.placeholder(tf.float32,(None, n_features), name='X-input')\n",
    "    y_placeholder = tf.placeholder(tf.float32, (None),name='y-output')    \n",
    "    prob = tf.placeholder(tf.float32)    "
   ]
  },
  {
   "cell_type": "markdown",
   "metadata": {},
   "source": [
    "### Multi Layer"
   ]
  },
  {
   "cell_type": "code",
   "execution_count": 157,
   "metadata": {},
   "outputs": [],
   "source": [
    "# # ReLU 사용한 NN 구성\n",
    "# # initializer 사용 (He)\n",
    "\n",
    "# hidden layer 1\n",
    "with tf.variable_scope(\"W1\", reuse = tf.AUTO_REUSE):\n",
    "    W1 = tf.get_variable(\"W1\", shape=[n_features, 1024], initializer=tf.keras.initializers.he_uniform())\n",
    "b1 = tf.Variable(tf.random_normal([1024]))\n",
    "L1 = tf.nn.relu(tf.matmul(x_placeholder, W1) + b1)\n",
    "\n",
    "# hidden layer 2\n",
    "with tf.variable_scope(\"W2\", reuse = tf.AUTO_REUSE):\n",
    "    W2 = tf.get_variable(\"W2\", shape=[1024, 512], initializer=tf.keras.initializers.he_uniform())\n",
    "b2 = tf.Variable(tf.random_normal([512]))\n",
    "L2 = tf.nn.relu(tf.matmul(L1, W2) + b2)\n",
    "\n",
    "# hidden layer 3\n",
    "with tf.variable_scope(\"W3\", reuse = tf.AUTO_REUSE):\n",
    "    W3 = tf.get_variable(\"W3\", shape=[512, 256], initializer=tf.keras.initializers.he_uniform())\n",
    "b3 = tf.Variable(tf.random_normal([256]))\n",
    "L3 = tf.nn.relu(tf.matmul(L2, W3) + b3)\n",
    "\n",
    "# hidden layer 4\n",
    "with tf.variable_scope(\"W4\", reuse = tf.AUTO_REUSE):\n",
    "    W4 = tf.get_variable(\"W4\", shape=[256, 128], initializer=tf.keras.initializers.he_uniform())\n",
    "b4 = tf.Variable(tf.random_normal([128]))\n",
    "L4 = tf.nn.relu(tf.matmul(L3, W4) + b4)\n",
    "\n",
    "# outfut layer\n",
    "with tf.variable_scope(\"W5\", reuse = tf.AUTO_REUSE):\n",
    "    W5 = tf.get_variable(\"W5\", shape=[128, 1], initializer=tf.keras.initializers.he_uniform())\n",
    "b5 = tf.Variable(tf.random_normal([1]))\n",
    "L5 = tf.matmul(L4, W5) + b5\n",
    "\n",
    "# reduce_sum 을 해야 함. 학습 속도 및 loss 수렴에 큰 영향을 미침\n",
    "# L5 행렬곱 연산 결과는 ([[1]],[2],[3]]) 모양, 차이를 비교해야 하는 y 는 ([1,2,3]) 모양\n",
    "# 그대로 '-' 연산을 하면 결과가 달라짐\n",
    "# L5 를 reduce_sum 하면 y 와 동일하게 ([1,2,3]) 모양이 됨\n",
    "#hypothesis = tf.identity(L5)\n",
    "hypothesis = tf.reduce_sum(L5, 1)"
   ]
  },
  {
   "cell_type": "markdown",
   "metadata": {},
   "source": [
    "### Loss function, Optimizer\n",
    "** RMSLE loss function (Kaggle 의 score evaluation 방식을 따르기 위해) **\n",
    "\n",
    "#### a : 정답, P : 측정값\n",
    "\n",
    "$|P-a|$ = mean absolute error (MAE)  \n",
    "\n",
    "$|P-a|^2$ = mean squared error (MSE)  \n",
    "\n",
    "$ \\sqrt{(p-a)^2}$ = root mean squared error (RMSE)  \n",
    "\n",
    "$ \\sqrt{\\frac{1}{n} \\sum_{i=1}^n (\\log(p_i + 1) - \\log(a_i+1))^2 } $ = root mean squared log error (RMSLE)  \n",
    "\n",
    "- 차이가 크면 클수록 페널티를 주고 싶으면 MSE 를 사용 함  \n",
    "- 차이가 크면 클루록 페널티가 줄어들게 하고 싶으면 RMSLE 사용 함 (RMSLE 로직은 직접 구현해야 함)"
   ]
  },
  {
   "cell_type": "code",
   "execution_count": 158,
   "metadata": {},
   "outputs": [],
   "source": [
    "# 의미 확인 필요\n",
    "regularization_loss = tf.get_collection(tf.GraphKeys.REGULARIZATION_LOSSES)\n",
    "\n",
    "# loss function (Root Mean Square Log Error)\n",
    "diff = hypothesis - y_placeholder\n",
    "squared_diff = tf.square(diff)\n",
    "loss = tf.sqrt(tf.reduce_mean(squared_diff))"
   ]
  },
  {
   "cell_type": "code",
   "execution_count": 159,
   "metadata": {},
   "outputs": [],
   "source": [
    "with tf.variable_scope(\"train\", reuse = tf.AUTO_REUSE):\n",
    "    # optimizer\n",
    "    optimizer = tf.train.AdamOptimizer(learning_rate=learning_rate)\n",
    "    # optimizer 를 통해 loss 를 최소화 하는 방향으로 학습 \n",
    "    training_op = optimizer.minimize(loss)"
   ]
  },
  {
   "cell_type": "markdown",
   "metadata": {},
   "source": [
    "### Loss caculation function"
   ]
  },
  {
   "cell_type": "code",
   "execution_count": 160,
   "metadata": {},
   "outputs": [],
   "source": [
    "def evaluate(x,y,sess):\n",
    "    global BATCH_SIZE\n",
    "    num_examples = len(x)\n",
    "    total_loss = 0\n",
    "    #sess = tf.get_default_session()\n",
    "    for offset in range(0, num_examples, BATCH_SIZE):\n",
    "        batch_x, batch_y = x[offset:offset+BATCH_SIZE], y[offset:offset+BATCH_SIZE]\n",
    "        partial_loss = sess.run(loss, \n",
    "                          feed_dict={x_placeholder: batch_x, y_placeholder:batch_y, prob:1.0})\n",
    "        total_loss += partial_loss*len(batch_x)\n",
    "    return total_loss/num_examples"
   ]
  },
  {
   "cell_type": "markdown",
   "metadata": {},
   "source": [
    "### Initialization of graph (Loss)"
   ]
  },
  {
   "cell_type": "code",
   "execution_count": 161,
   "metadata": {},
   "outputs": [],
   "source": [
    "# initialization of graph\n",
    "import matplotlib.pyplot as plt\n",
    "from sklearn.utils import shuffle\n",
    "\n",
    "epochs = []\n",
    "list_train_loss = []\n",
    "list_valid_loss = []\n",
    "plt.ion()"
   ]
  },
  {
   "cell_type": "markdown",
   "metadata": {},
   "source": [
    "## Train"
   ]
  },
  {
   "cell_type": "code",
   "execution_count": 163,
   "metadata": {},
   "outputs": [
    {
     "name": "stdout",
     "output_type": "stream",
     "text": [
      "Training ..\n",
      "\n",
      "<class 'numpy.float32'> <class 'numpy.ndarray'>\n",
      " EPOCH 1 ... Validation Loss = 11.174 ... Training Loss = 11.247 ...<class 'numpy.float32'> <class 'numpy.ndarray'>\n",
      " EPOCH 2 ... Validation Loss = 6.015 ... Training Loss = 6.036 ...<class 'numpy.float32'> <class 'numpy.ndarray'>\n",
      " EPOCH 3 ... Validation Loss = 1.328 ... Training Loss = 1.296 ...<class 'numpy.float32'> <class 'numpy.ndarray'>\n",
      " EPOCH 4 ... Validation Loss = 3.528 ... Training Loss = 3.525 ...<class 'numpy.float32'> <class 'numpy.ndarray'>\n",
      " EPOCH 5 ... Validation Loss = 3.350 ... Training Loss = 3.340 ...<class 'numpy.float32'> <class 'numpy.ndarray'>\n",
      " EPOCH 6 ... Validation Loss = 1.879 ... Training Loss = 1.856 ...<class 'numpy.float32'> <class 'numpy.ndarray'>\n",
      " EPOCH 7 ... Validation Loss = 1.382 ... Training Loss = 1.382 ...<class 'numpy.float32'> <class 'numpy.ndarray'>\n",
      " EPOCH 8 ... Validation Loss = 1.893 ... Training Loss = 1.907 ...<class 'numpy.float32'> <class 'numpy.ndarray'>\n",
      " EPOCH 9 ... Validation Loss = 1.606 ... Training Loss = 1.611 ...<class 'numpy.float32'> <class 'numpy.ndarray'>\n",
      " EPOCH 10 ... Validation Loss = 1.093 ... Training Loss = 1.073 ...<class 'numpy.float32'> <class 'numpy.ndarray'>\n",
      " EPOCH 11 ... Validation Loss = 1.272 ... Training Loss = 1.244 ...<class 'numpy.float32'> <class 'numpy.ndarray'>\n",
      " EPOCH 12 ... Validation Loss = 1.415 ... Training Loss = 1.391 ...<class 'numpy.float32'> <class 'numpy.ndarray'>\n",
      " EPOCH 13 ... Validation Loss = 1.142 ... Training Loss = 1.117 ...<class 'numpy.float32'> <class 'numpy.ndarray'>\n",
      " EPOCH 14 ... Validation Loss = 0.867 ... Training Loss = 0.841 ...<class 'numpy.float32'> <class 'numpy.ndarray'>\n",
      " EPOCH 15 ... Validation Loss = 1.034 ... Training Loss = 1.020 ...<class 'numpy.float32'> <class 'numpy.ndarray'>\n",
      " EPOCH 16 ... Validation Loss = 1.040 ... Training Loss = 1.026 ...<class 'numpy.float32'> <class 'numpy.ndarray'>\n",
      " EPOCH 17 ... Validation Loss = 0.767 ... Training Loss = 0.746 ...<class 'numpy.float32'> <class 'numpy.ndarray'>\n",
      " EPOCH 18 ... Validation Loss = 0.753 ... Training Loss = 0.737 ...<class 'numpy.float32'> <class 'numpy.ndarray'>\n",
      " EPOCH 19 ... Validation Loss = 0.880 ... Training Loss = 0.868 ...<class 'numpy.float32'> <class 'numpy.ndarray'>\n",
      " EPOCH 20 ... Validation Loss = 0.699 ... Training Loss = 0.680 ...<class 'numpy.float32'> <class 'numpy.ndarray'>\n",
      " EPOCH 21 ... Validation Loss = 0.630 ... Training Loss = 0.609 ...<class 'numpy.float32'> <class 'numpy.ndarray'>\n",
      " EPOCH 22 ... Validation Loss = 0.754 ... Training Loss = 0.741 ...<class 'numpy.float32'> <class 'numpy.ndarray'>\n",
      " EPOCH 23 ... Validation Loss = 0.647 ... Training Loss = 0.630 ...<class 'numpy.float32'> <class 'numpy.ndarray'>\n",
      " EPOCH 24 ... Validation Loss = 0.575 ... Training Loss = 0.549 ...<class 'numpy.float32'> <class 'numpy.ndarray'>\n",
      " EPOCH 25 ... Validation Loss = 0.676 ... Training Loss = 0.651 ...<class 'numpy.float32'> <class 'numpy.ndarray'>\n",
      " EPOCH 26 ... Validation Loss = 0.610 ... Training Loss = 0.583 ...<class 'numpy.float32'> <class 'numpy.ndarray'>\n",
      " EPOCH 27 ... Validation Loss = 0.530 ... Training Loss = 0.506 ...<class 'numpy.float32'> <class 'numpy.ndarray'>\n",
      " EPOCH 28 ... Validation Loss = 0.593 ... Training Loss = 0.578 ...<class 'numpy.float32'> <class 'numpy.ndarray'>\n",
      " EPOCH 29 ... Validation Loss = 0.559 ... Training Loss = 0.541 ...<class 'numpy.float32'> <class 'numpy.ndarray'>\n",
      " EPOCH 30 ... Validation Loss = 0.502 ... Training Loss = 0.474 ...<class 'numpy.float32'> <class 'numpy.ndarray'>\n",
      " EPOCH 31 ... Validation Loss = 0.552 ... Training Loss = 0.521 ...<class 'numpy.float32'> <class 'numpy.ndarray'>\n",
      " EPOCH 32 ... Validation Loss = 0.527 ... Training Loss = 0.495 ...<class 'numpy.float32'> <class 'numpy.ndarray'>\n",
      " EPOCH 33 ... Validation Loss = 0.468 ... Training Loss = 0.437 ...<class 'numpy.float32'> <class 'numpy.ndarray'>\n",
      " EPOCH 34 ... Validation Loss = 0.499 ... Training Loss = 0.474 ...<class 'numpy.float32'> <class 'numpy.ndarray'>\n",
      " EPOCH 35 ... Validation Loss = 0.471 ... Training Loss = 0.443 ...<class 'numpy.float32'> <class 'numpy.ndarray'>\n",
      " EPOCH 36 ... Validation Loss = 0.446 ... Training Loss = 0.409 ...<class 'numpy.float32'> <class 'numpy.ndarray'>\n",
      " EPOCH 37 ... Validation Loss = 0.474 ... Training Loss = 0.437 ...<class 'numpy.float32'> <class 'numpy.ndarray'>\n",
      " EPOCH 38 ... Validation Loss = 0.428 ... Training Loss = 0.390 ...<class 'numpy.float32'> <class 'numpy.ndarray'>\n",
      " EPOCH 39 ... Validation Loss = 0.425 ... Training Loss = 0.395 ...<class 'numpy.float32'> <class 'numpy.ndarray'>\n",
      " EPOCH 40 ... Validation Loss = 0.423 ... Training Loss = 0.394 ...<class 'numpy.float32'> <class 'numpy.ndarray'>\n",
      " EPOCH 41 ... Validation Loss = 0.396 ... Training Loss = 0.359 ...<class 'numpy.float32'> <class 'numpy.ndarray'>\n",
      " EPOCH 42 ... Validation Loss = 0.417 ... Training Loss = 0.380 ...<class 'numpy.float32'> <class 'numpy.ndarray'>\n",
      " EPOCH 43 ... Validation Loss = 0.386 ... Training Loss = 0.351 ...<class 'numpy.float32'> <class 'numpy.ndarray'>\n",
      " EPOCH 44 ... Validation Loss = 0.386 ... Training Loss = 0.358 ...<class 'numpy.float32'> <class 'numpy.ndarray'>\n",
      " EPOCH 45 ... Validation Loss = 0.380 ... Training Loss = 0.352 ...<class 'numpy.float32'> <class 'numpy.ndarray'>\n",
      " EPOCH 46 ... Validation Loss = 0.374 ... Training Loss = 0.339 ...<class 'numpy.float32'> <class 'numpy.ndarray'>\n",
      " EPOCH 47 ... Validation Loss = 0.384 ... Training Loss = 0.349 ...<class 'numpy.float32'> <class 'numpy.ndarray'>\n",
      " EPOCH 48 ... Validation Loss = 0.361 ... Training Loss = 0.328 ...<class 'numpy.float32'> <class 'numpy.ndarray'>\n",
      " EPOCH 49 ... Validation Loss = 0.369 ... Training Loss = 0.341 ...<class 'numpy.float32'> <class 'numpy.ndarray'>\n",
      " EPOCH 50 ... Validation Loss = 0.357 ... Training Loss = 0.323 ...<class 'numpy.float32'> <class 'numpy.ndarray'>\n",
      " EPOCH 51 ... Validation Loss = 0.371 ... Training Loss = 0.333 ...<class 'numpy.float32'> <class 'numpy.ndarray'>\n",
      " EPOCH 52 ... Validation Loss = 0.359 ... Training Loss = 0.320 ...<class 'numpy.float32'> <class 'numpy.ndarray'>\n",
      " EPOCH 53 ... Validation Loss = 0.358 ... Training Loss = 0.324 ...<class 'numpy.float32'> <class 'numpy.ndarray'>\n",
      " EPOCH 54 ... Validation Loss = 0.352 ... Training Loss = 0.316 ...<class 'numpy.float32'> <class 'numpy.ndarray'>\n",
      " EPOCH 55 ... Validation Loss = 0.358 ... Training Loss = 0.316 ...<class 'numpy.float32'> <class 'numpy.ndarray'>\n",
      " EPOCH 56 ... Validation Loss = 0.354 ... Training Loss = 0.313 ...<class 'numpy.float32'> <class 'numpy.ndarray'>\n",
      " EPOCH 57 ... Validation Loss = 0.348 ... Training Loss = 0.311 ...<class 'numpy.float32'> <class 'numpy.ndarray'>\n",
      " EPOCH 58 ... Validation Loss = 0.347 ... Training Loss = 0.309 ...<class 'numpy.float32'> <class 'numpy.ndarray'>\n",
      " EPOCH 59 ... Validation Loss = 0.349 ... Training Loss = 0.306 ...<class 'numpy.float32'> <class 'numpy.ndarray'>\n",
      " EPOCH 60 ... Validation Loss = 0.348 ... Training Loss = 0.305 ...<class 'numpy.float32'> <class 'numpy.ndarray'>\n",
      " EPOCH 61 ... Validation Loss = 0.342 ... Training Loss = 0.303 ...<class 'numpy.float32'> <class 'numpy.ndarray'>\n",
      " EPOCH 62 ... Validation Loss = 0.342 ... Training Loss = 0.301 ...<class 'numpy.float32'> <class 'numpy.ndarray'>\n",
      " EPOCH 63 ... Validation Loss = 0.344 ... Training Loss = 0.299 ...<class 'numpy.float32'> <class 'numpy.ndarray'>\n",
      " EPOCH 64 ... Validation Loss = 0.343 ... Training Loss = 0.297 ...<class 'numpy.float32'> <class 'numpy.ndarray'>\n",
      " EPOCH 65 ... Validation Loss = 0.340 ... Training Loss = 0.296 ...<class 'numpy.float32'> <class 'numpy.ndarray'>\n",
      " EPOCH 66 ... Validation Loss = 0.339 ... Training Loss = 0.293 ...<class 'numpy.float32'> <class 'numpy.ndarray'>\n",
      " EPOCH 67 ... Validation Loss = 0.342 ... Training Loss = 0.293 ...<class 'numpy.float32'> <class 'numpy.ndarray'>\n",
      " EPOCH 68 ... Validation Loss = 0.339 ... Training Loss = 0.290 ...<class 'numpy.float32'> <class 'numpy.ndarray'>\n",
      " EPOCH 69 ... Validation Loss = 0.338 ... Training Loss = 0.290 ...<class 'numpy.float32'> <class 'numpy.ndarray'>\n",
      " EPOCH 70 ... Validation Loss = 0.336 ... Training Loss = 0.287 ...<class 'numpy.float32'> <class 'numpy.ndarray'>\n",
      " EPOCH 71 ... Validation Loss = 0.339 ... Training Loss = 0.288 ...<class 'numpy.float32'> <class 'numpy.ndarray'>\n"
     ]
    },
    {
     "name": "stdout",
     "output_type": "stream",
     "text": [
      " EPOCH 72 ... Validation Loss = 0.336 ... Training Loss = 0.284 ...<class 'numpy.float32'> <class 'numpy.ndarray'>\n",
      " EPOCH 73 ... Validation Loss = 0.336 ... Training Loss = 0.285 ...<class 'numpy.float32'> <class 'numpy.ndarray'>\n",
      " EPOCH 74 ... Validation Loss = 0.336 ... Training Loss = 0.282 ...<class 'numpy.float32'> <class 'numpy.ndarray'>\n",
      " EPOCH 75 ... Validation Loss = 0.336 ... Training Loss = 0.282 ...<class 'numpy.float32'> <class 'numpy.ndarray'>\n",
      " EPOCH 76 ... Validation Loss = 0.334 ... Training Loss = 0.281 ...<class 'numpy.float32'> <class 'numpy.ndarray'>\n",
      " EPOCH 77 ... Validation Loss = 0.334 ... Training Loss = 0.279 ...<class 'numpy.float32'> <class 'numpy.ndarray'>\n",
      " EPOCH 78 ... Validation Loss = 0.335 ... Training Loss = 0.279 ...<class 'numpy.float32'> <class 'numpy.ndarray'>\n",
      " EPOCH 79 ... Validation Loss = 0.333 ... Training Loss = 0.277 ...<class 'numpy.float32'> <class 'numpy.ndarray'>\n",
      " EPOCH 80 ... Validation Loss = 0.332 ... Training Loss = 0.276 ...<class 'numpy.float32'> <class 'numpy.ndarray'>\n",
      " EPOCH 81 ... Validation Loss = 0.333 ... Training Loss = 0.275 ...<class 'numpy.float32'> <class 'numpy.ndarray'>\n",
      " EPOCH 82 ... Validation Loss = 0.332 ... Training Loss = 0.274 ...<class 'numpy.float32'> <class 'numpy.ndarray'>\n",
      " EPOCH 83 ... Validation Loss = 0.331 ... Training Loss = 0.273 ...<class 'numpy.float32'> <class 'numpy.ndarray'>\n",
      " EPOCH 84 ... Validation Loss = 0.331 ... Training Loss = 0.272 ...<class 'numpy.float32'> <class 'numpy.ndarray'>\n",
      " EPOCH 85 ... Validation Loss = 0.331 ... Training Loss = 0.271 ...<class 'numpy.float32'> <class 'numpy.ndarray'>\n",
      " EPOCH 86 ... Validation Loss = 0.330 ... Training Loss = 0.270 ...<class 'numpy.float32'> <class 'numpy.ndarray'>\n",
      " EPOCH 87 ... Validation Loss = 0.330 ... Training Loss = 0.269 ...<class 'numpy.float32'> <class 'numpy.ndarray'>\n",
      " EPOCH 88 ... Validation Loss = 0.331 ... Training Loss = 0.268 ...<class 'numpy.float32'> <class 'numpy.ndarray'>\n",
      " EPOCH 89 ... Validation Loss = 0.329 ... Training Loss = 0.267 ...<class 'numpy.float32'> <class 'numpy.ndarray'>\n",
      " EPOCH 90 ... Validation Loss = 0.329 ... Training Loss = 0.266 ...<class 'numpy.float32'> <class 'numpy.ndarray'>\n",
      " EPOCH 91 ... Validation Loss = 0.330 ... Training Loss = 0.265 ...<class 'numpy.float32'> <class 'numpy.ndarray'>\n",
      " EPOCH 92 ... Validation Loss = 0.328 ... Training Loss = 0.264 ...<class 'numpy.float32'> <class 'numpy.ndarray'>\n",
      " EPOCH 93 ... Validation Loss = 0.328 ... Training Loss = 0.263 ...<class 'numpy.float32'> <class 'numpy.ndarray'>\n",
      " EPOCH 94 ... Validation Loss = 0.329 ... Training Loss = 0.263 ...<class 'numpy.float32'> <class 'numpy.ndarray'>\n",
      " EPOCH 95 ... Validation Loss = 0.327 ... Training Loss = 0.261 ...<class 'numpy.float32'> <class 'numpy.ndarray'>\n",
      " EPOCH 96 ... Validation Loss = 0.327 ... Training Loss = 0.261 ...<class 'numpy.float32'> <class 'numpy.ndarray'>\n",
      " EPOCH 97 ... Validation Loss = 0.328 ... Training Loss = 0.260 ...<class 'numpy.float32'> <class 'numpy.ndarray'>\n",
      " EPOCH 98 ... Validation Loss = 0.327 ... Training Loss = 0.259 ...<class 'numpy.float32'> <class 'numpy.ndarray'>\n",
      " EPOCH 99 ... Validation Loss = 0.327 ... Training Loss = 0.258 ...<class 'numpy.float32'> <class 'numpy.ndarray'>\n",
      " EPOCH 100 ... Validation Loss = 0.327 ... Training Loss = 0.257 ..."
     ]
    },
    {
     "data": {
      "image/png": "[encoded data removed]",
      "text/plain": [
       "<matplotlib.figure.Figure at 0x2808e5aeeb8>"
      ]
     },
     "metadata": {},
     "output_type": "display_data"
    }
   ],
   "source": [
    "sess = tf.Session()\n",
    "# variable 초기화\n",
    "sess.run(tf.global_variables_initializer())    \n",
    "# traing 시킬 데이터 수\n",
    "num_examples = len(X_train)\n",
    "\n",
    "print(\"Training ..\")\n",
    "print()\n",
    "\n",
    "for i in range(EPOCHS):\n",
    "    # train 데이터를 shuffling 후 사용 (여기서는 사용 안함 --> try 해 볼 것)\n",
    "    x_train_sh, y_train_sh = X_train, y_train\n",
    "\n",
    "    # batch size 만큼씩 읽어서 training\n",
    "    for offset in range(0, num_examples, BATCH_SIZE):\n",
    "        end = offset + BATCH_SIZE\n",
    "        batch_x, batch_y = x_train_sh[offset:end], y_train_sh[offset:end]\n",
    "\n",
    "        # feed training data and run\n",
    "        h, l, t = sess.run([hypothesis, L5, training_op],feed_dict={x_placeholder:batch_x, y_placeholder:batch_y,prob:1.0})\n",
    "        print(type(h[0]), type(l[0]))\n",
    "    # 검증용 test data loss 측정 (EPOCH 단위로)\n",
    "    valid_loss = evaluate(X_test, y_test,sess)\n",
    "    # train data loss 측정 (EPOCH 단위로)\n",
    "    train_loss = evaluate(x_train_sh, y_train_sh,sess)\n",
    "    \n",
    "    # for graph\n",
    "    list_train_loss.append(train_loss)\n",
    "    list_valid_loss.append(valid_loss)\n",
    "\n",
    "    print('\\r',\"EPOCH {} ...\".format(i+1),\n",
    "          \"Validation Loss = {:.3f} ...\".format(valid_loss),\n",
    "          \"Training Loss = {0:.3f} ...\".format(train_loss),end='')\n",
    "    \n",
    "    if len(epochs) == 0:\n",
    "        epochs.append(0)\n",
    "    else:\n",
    "        epochs.append(epochs[-1]+1)\n",
    "    \n",
    "#plotting Accuracy graph\n",
    "plt.plot(epochs,list_train_loss,'b-',epochs,list_valid_loss,'r-')\n",
    "plt.show()"
   ]
  },
  {
   "cell_type": "markdown",
   "metadata": {},
   "source": [
    "### Predict"
   ]
  },
  {
   "cell_type": "code",
   "execution_count": 64,
   "metadata": {},
   "outputs": [
    {
     "data": {
      "text/plain": [
       "array([  12.63803864,    4.996099  ,    3.06721067, ...,  115.51982117,\n",
       "         84.89027405,   41.49035645], dtype=float32)"
      ]
     },
     "execution_count": 64,
     "metadata": {},
     "output_type": "execute_result"
    }
   ],
   "source": [
    "pred = hypothesis\n",
    "# train 할 때와 마찬가지로 예측 할 feature 값들의 scale 을 조정\n",
    "predicted_labels = sess.run(pred, feed_dict={x_placeholder: StandardScaler().fit_transform(X_submit),prob: 1.0})\n",
    "\n",
    "# 예측은 log(x+1) 기준으로 학습한 결과값이기 때문에 원래 값으로 원복해야 함\n",
    "predicted_labels = np.exp(predicted_labels)-1\n",
    "predicted_labels"
   ]
  },
  {
   "cell_type": "markdown",
   "metadata": {},
   "source": [
    "## For Kaggle"
   ]
  },
  {
   "cell_type": "code",
   "execution_count": 65,
   "metadata": {},
   "outputs": [
    {
     "name": "stdout",
     "output_type": "stream",
     "text": [
      "(6493, 2)\n"
     ]
    },
    {
     "data": {
      "text/html": [
       "<div>\n",
       "<style>\n",
       "    .dataframe thead tr:only-child th {\n",
       "        text-align: right;\n",
       "    }\n",
       "\n",
       "    .dataframe thead th {\n",
       "        text-align: left;\n",
       "    }\n",
       "\n",
       "    .dataframe tbody tr th {\n",
       "        vertical-align: top;\n",
       "    }\n",
       "</style>\n",
       "<table border=\"1\" class=\"dataframe\">\n",
       "  <thead>\n",
       "    <tr style=\"text-align: right;\">\n",
       "      <th></th>\n",
       "      <th>datetime</th>\n",
       "      <th>count</th>\n",
       "    </tr>\n",
       "  </thead>\n",
       "  <tbody>\n",
       "    <tr>\n",
       "      <th>0</th>\n",
       "      <td>2011-01-20 00:00:00</td>\n",
       "      <td>12.638039</td>\n",
       "    </tr>\n",
       "    <tr>\n",
       "      <th>1</th>\n",
       "      <td>2011-01-20 01:00:00</td>\n",
       "      <td>4.996099</td>\n",
       "    </tr>\n",
       "    <tr>\n",
       "      <th>2</th>\n",
       "      <td>2011-01-20 02:00:00</td>\n",
       "      <td>3.067211</td>\n",
       "    </tr>\n",
       "    <tr>\n",
       "      <th>3</th>\n",
       "      <td>2011-01-20 03:00:00</td>\n",
       "      <td>2.719264</td>\n",
       "    </tr>\n",
       "    <tr>\n",
       "      <th>4</th>\n",
       "      <td>2011-01-20 04:00:00</td>\n",
       "      <td>2.512619</td>\n",
       "    </tr>\n",
       "  </tbody>\n",
       "</table>\n",
       "</div>"
      ],
      "text/plain": [
       "              datetime      count\n",
       "0  2011-01-20 00:00:00  12.638039\n",
       "1  2011-01-20 01:00:00   4.996099\n",
       "2  2011-01-20 02:00:00   3.067211\n",
       "3  2011-01-20 03:00:00   2.719264\n",
       "4  2011-01-20 04:00:00   2.512619"
      ]
     },
     "execution_count": 65,
     "metadata": {},
     "output_type": "execute_result"
    }
   ],
   "source": [
    "# kaggle 제출용 데이터 생성\n",
    "submission = pd.read_csv(\"data/sampleSubmission.csv\")\n",
    "submission[\"count\"] = predicted_labels\n",
    "print(submission.shape)\n",
    "submission.head()"
   ]
  },
  {
   "cell_type": "code",
   "execution_count": 66,
   "metadata": {},
   "outputs": [],
   "source": [
    "# 저장할 파일을 구분하기 위해 파일명에 timestamp 정보 추가 하기 위한 작업 \n",
    "from datetime import datetime\n",
    "\n",
    "current_date = datetime.now()\n",
    "current_date = current_date.strftime(\"%Y-%m-%d_%H-%M-%S\")\n",
    "\n",
    "description = \"bike-tensorflow-basic\"\n",
    "\n",
    "filename = \"{date}_{desc}.csv\".format(date=current_date, desc=description)\n",
    "filepath = \"data/{filename}\".format(filename=filename)\n",
    "\n",
    "submission.to_csv(filepath, index=False)"
   ]
  },
  {
   "cell_type": "code",
   "execution_count": null,
   "metadata": {},
   "outputs": [],
   "source": []
  }
 ],
 "metadata": {
  "kernelspec": {
   "display_name": "Python 3",
   "language": "python",
   "name": "python3"
  },
  "language_info": {
   "codemirror_mode": {
    "name": "ipython",
    "version": 3
   },
   "file_extension": ".py",
   "mimetype": "text/x-python",
   "name": "python",
   "nbconvert_exporter": "python",
   "pygments_lexer": "ipython3",
   "version": "3.6.2"
  }
 },
 "nbformat": 4,
 "nbformat_minor": 1
}
