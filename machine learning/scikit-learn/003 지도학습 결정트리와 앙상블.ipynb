{
 "cells": [
  {
   "cell_type": "code",
   "execution_count": 1,
   "metadata": {},
   "outputs": [],
   "source": [
    "from IPython.display import display\n",
    "import numpy as np\n",
    "import matplotlib.pyplot as plt\n",
    "import pandas as pd\n",
    "import mglearn\n",
    "%matplotlib inline"
   ]
  },
  {
   "cell_type": "code",
   "execution_count": 2,
   "metadata": {},
   "outputs": [],
   "source": [
    "from matplotlib import font_manager, rc\n",
    "\n",
    "font_name = font_manager.FontProperties(fname=\"C:/Windows/Fonts/malgun.ttf\").get_name()\n",
    "plt.rc('font', family=font_name)"
   ]
  },
  {
   "cell_type": "code",
   "execution_count": 3,
   "metadata": {
    "scrolled": true
   },
   "outputs": [
    {
     "data": {
      "image/png": "[encoded data removed]",
      "text/plain": [
       "<matplotlib.figure.Figure at 0x1f635b7bc18>"
      ]
     },
     "metadata": {},
     "output_type": "display_data"
    }
   ],
   "source": [
    "# graphviz, python-graphviz 설치해야 함\n",
    "# [중요] pillow 패키지 버전을 4.0.0 을 사용해야 함 (최선은 5.0.1)\n",
    "# Anaconda Navigator 에서 downgrade 할 수 있음\n",
    "mglearn.plots.plot_animal_tree()"
   ]
  },
  {
   "cell_type": "markdown",
   "metadata": {},
   "source": [
    "유방암데이터를 활용하여 결정트리의 사전 가지치기의 효과를 알아보자\n",
    "\n",
    "사전 가지치기(pre-pruning) \n",
    "- 트리의 최대 깊이나 리프의 최대 개수를 제한 하는 방법\n",
    "- 노드가 분할하기 위한 포인트의 최소 갯수를 지정하는 방법\n",
    "\n",
    "Sci-kit Learn에서 결정트리는 DecisionTreeRegression 과 DecisionTreeClassifier 에 구현 되어 있으며,\n",
    "사전 가지치기만 지원한다"
   ]
  },
  {
   "cell_type": "code",
   "execution_count": 4,
   "metadata": {},
   "outputs": [
    {
     "name": "stdout",
     "output_type": "stream",
     "text": [
      "훈련 세트 정확도: 1.000\n",
      "테스트 세트 정확도: 0.937\n"
     ]
    }
   ],
   "source": [
    "from sklearn.tree import DecisionTreeClassifier\n",
    "\n",
    "from sklearn.datasets import load_breast_cancer\n",
    "cancer = load_breast_cancer()\n",
    "\n",
    "from sklearn.model_selection import train_test_split\n",
    "X_train, X_test, y_train, y_test = train_test_split(\n",
    "    cancer.data, cancer.target, stratify=cancer.target, random_state=42)\n",
    "tree = DecisionTreeClassifier(random_state=0)\n",
    "tree.fit(X_train, y_train)\n",
    "print(\"훈련 세트 정확도: {:.3f}\".format(tree.score(X_train, y_train)))\n",
    "print(\"테스트 세트 정확도: {:.3f}\".format(tree.score(X_test, y_test)))"
   ]
  },
  {
   "cell_type": "markdown",
   "metadata": {},
   "source": [
    "리프노드가 순수노드 이므로 훈련 세트는 100%의 정확도가 나오는데... 과대 적합의 경우일 수 있고...\n",
    "\n",
    "max_depth 옵션을 활용하여 트리의 성장에 제한을 두고 모델을 만들어 보자\n",
    "그러면 테스트 세트의 성능이 개선 될 것이다"
   ]
  },
  {
   "cell_type": "code",
   "execution_count": 5,
   "metadata": {},
   "outputs": [
    {
     "name": "stdout",
     "output_type": "stream",
     "text": [
      "훈련 세트 정확도: 0.988\n",
      "테스트 세트 정확도: 0.951\n"
     ]
    }
   ],
   "source": [
    "tree = DecisionTreeClassifier(max_depth=4, random_state=0)\n",
    "tree.fit(X_train, y_train)\n",
    "print(\"훈련 세트 정확도: {:.3f}\".format(tree.score(X_train, y_train)))\n",
    "print(\"테스트 세트 정확도: {:.3f}\".format(tree.score(X_test, y_test)))"
   ]
  },
  {
   "cell_type": "markdown",
   "metadata": {},
   "source": [
    "결정 트리 시각화를 통한 분석 ???\n",
    "\n",
    "export_graphviz 함수를 사용하여 트리를 시각화 할 수 있다."
   ]
  },
  {
   "cell_type": "code",
   "execution_count": 6,
   "metadata": {},
   "outputs": [],
   "source": [
    "from sklearn.tree import export_graphviz\n",
    "export_graphviz(tree, out_file=\"tree.dot\", class_names=[\"악성\", \"양성\"],\n",
    "                feature_names=cancer.feature_names, impurity=False, filled=True)"
   ]
  },
  {
   "cell_type": "code",
   "execution_count": 28,
   "metadata": {},
   "outputs": [
    {
     "data": {
      "image/svg+xml": [
       "<?xml version=\"1.0\" encoding=\"UTF-8\" standalone=\"no\"?>\r\n",
       "<!DOCTYPE svg PUBLIC \"-//W3C//DTD SVG 1.1//EN\"\r\n",
       " \"http://www.w3.org/Graphics/SVG/1.1/DTD/svg11.dtd\">\r\n",
       "<!-- Generated by graphviz version 2.38.0 (20140413.2041)\r\n",
       " -->\r\n",
       "<!-- Title: Tree Pages: 1 -->\r\n",
       "<svg width=\"997pt\" height=\"477pt\"\r\n",
       " viewBox=\"0.00 0.00 996.50 477.00\" xmlns=\"http://www.w3.org/2000/svg\" xmlns:xlink=\"http://www.w3.org/1999/xlink\">\r\n",
       "<g id=\"graph0\" class=\"graph\" transform=\"scale(1 1) rotate(0) translate(4 473)\">\r\n",
       "<title>Tree</title>\r\n",
       "<polygon fill=\"white\" stroke=\"none\" points=\"-4,4 -4,-473 992.5,-473 992.5,4 -4,4\"/>\r\n",
       "<!-- 0 -->\r\n",
       "<g id=\"node1\" class=\"node\"><title>0</title>\r\n",
       "<polygon fill=\"#399de5\" fill-opacity=\"0.403922\" stroke=\"black\" points=\"614,-469 467,-469 467,-401 614,-401 614,-469\"/>\r\n",
       "<text text-anchor=\"middle\" x=\"540.5\" y=\"-453.8\" font-family=\"Times New Roman,serif\" font-size=\"14.00\">worst radius &lt;= 16.795</text>\r\n",
       "<text text-anchor=\"middle\" x=\"540.5\" y=\"-438.8\" font-family=\"Times New Roman,serif\" font-size=\"14.00\">samples = 426</text>\r\n",
       "<text text-anchor=\"middle\" x=\"540.5\" y=\"-423.8\" font-family=\"Times New Roman,serif\" font-size=\"14.00\">value = [159, 267]</text>\r\n",
       "<text text-anchor=\"middle\" x=\"540.5\" y=\"-408.8\" font-family=\"Times New Roman,serif\" font-size=\"14.00\">class = 양성</text>\r\n",
       "</g>\r\n",
       "<!-- 1 -->\r\n",
       "<g id=\"node2\" class=\"node\"><title>1</title>\r\n",
       "<polygon fill=\"#399de5\" fill-opacity=\"0.901961\" stroke=\"black\" points=\"541,-365 350,-365 350,-297 541,-297 541,-365\"/>\r\n",
       "<text text-anchor=\"middle\" x=\"445.5\" y=\"-349.8\" font-family=\"Times New Roman,serif\" font-size=\"14.00\">worst concave points &lt;= 0.136</text>\r\n",
       "<text text-anchor=\"middle\" x=\"445.5\" y=\"-334.8\" font-family=\"Times New Roman,serif\" font-size=\"14.00\">samples = 284</text>\r\n",
       "<text text-anchor=\"middle\" x=\"445.5\" y=\"-319.8\" font-family=\"Times New Roman,serif\" font-size=\"14.00\">value = [25, 259]</text>\r\n",
       "<text text-anchor=\"middle\" x=\"445.5\" y=\"-304.8\" font-family=\"Times New Roman,serif\" font-size=\"14.00\">class = 양성</text>\r\n",
       "</g>\r\n",
       "<!-- 0&#45;&gt;1 -->\r\n",
       "<g id=\"edge1\" class=\"edge\"><title>0&#45;&gt;1</title>\r\n",
       "<path fill=\"none\" stroke=\"black\" d=\"M509.656,-400.884C501.277,-391.887 492.106,-382.041 483.387,-372.678\"/>\r\n",
       "<polygon fill=\"black\" stroke=\"black\" points=\"485.891,-370.232 476.514,-365.299 480.768,-375.003 485.891,-370.232\"/>\r\n",
       "<text text-anchor=\"middle\" x=\"475.626\" y=\"-386.584\" font-family=\"Times New Roman,serif\" font-size=\"14.00\">True</text>\r\n",
       "</g>\r\n",
       "<!-- 14 -->\r\n",
       "<g id=\"node15\" class=\"node\"><title>14</title>\r\n",
       "<polygon fill=\"#e58139\" fill-opacity=\"0.941176\" stroke=\"black\" points=\"705.5,-365 565.5,-365 565.5,-297 705.5,-297 705.5,-365\"/>\r\n",
       "<text text-anchor=\"middle\" x=\"635.5\" y=\"-349.8\" font-family=\"Times New Roman,serif\" font-size=\"14.00\">texture error &lt;= 0.473</text>\r\n",
       "<text text-anchor=\"middle\" x=\"635.5\" y=\"-334.8\" font-family=\"Times New Roman,serif\" font-size=\"14.00\">samples = 142</text>\r\n",
       "<text text-anchor=\"middle\" x=\"635.5\" y=\"-319.8\" font-family=\"Times New Roman,serif\" font-size=\"14.00\">value = [134, 8]</text>\r\n",
       "<text text-anchor=\"middle\" x=\"635.5\" y=\"-304.8\" font-family=\"Times New Roman,serif\" font-size=\"14.00\">class = 악성</text>\r\n",
       "</g>\r\n",
       "<!-- 0&#45;&gt;14 -->\r\n",
       "<g id=\"edge14\" class=\"edge\"><title>0&#45;&gt;14</title>\r\n",
       "<path fill=\"none\" stroke=\"black\" d=\"M571.344,-400.884C579.723,-391.887 588.894,-382.041 597.613,-372.678\"/>\r\n",
       "<polygon fill=\"black\" stroke=\"black\" points=\"600.232,-375.003 604.486,-365.299 595.109,-370.232 600.232,-375.003\"/>\r\n",
       "<text text-anchor=\"middle\" x=\"605.374\" y=\"-386.584\" font-family=\"Times New Roman,serif\" font-size=\"14.00\">False</text>\r\n",
       "</g>\r\n",
       "<!-- 2 -->\r\n",
       "<g id=\"node3\" class=\"node\"><title>2</title>\r\n",
       "<polygon fill=\"#399de5\" fill-opacity=\"0.984314\" stroke=\"black\" points=\"349.5,-261 213.5,-261 213.5,-193 349.5,-193 349.5,-261\"/>\r\n",
       "<text text-anchor=\"middle\" x=\"281.5\" y=\"-245.8\" font-family=\"Times New Roman,serif\" font-size=\"14.00\">radius error &lt;= 1.048</text>\r\n",
       "<text text-anchor=\"middle\" x=\"281.5\" y=\"-230.8\" font-family=\"Times New Roman,serif\" font-size=\"14.00\">samples = 252</text>\r\n",
       "<text text-anchor=\"middle\" x=\"281.5\" y=\"-215.8\" font-family=\"Times New Roman,serif\" font-size=\"14.00\">value = [4, 248]</text>\r\n",
       "<text text-anchor=\"middle\" x=\"281.5\" y=\"-200.8\" font-family=\"Times New Roman,serif\" font-size=\"14.00\">class = 양성</text>\r\n",
       "</g>\r\n",
       "<!-- 1&#45;&gt;2 -->\r\n",
       "<g id=\"edge2\" class=\"edge\"><title>1&#45;&gt;2</title>\r\n",
       "<path fill=\"none\" stroke=\"black\" d=\"M392.254,-296.884C376.708,-287.214 359.582,-276.563 343.542,-266.587\"/>\r\n",
       "<polygon fill=\"black\" stroke=\"black\" points=\"345.099,-263.434 334.759,-261.125 341.402,-269.378 345.099,-263.434\"/>\r\n",
       "</g>\r\n",
       "<!-- 7 -->\r\n",
       "<g id=\"node8\" class=\"node\"><title>7</title>\r\n",
       "<polygon fill=\"#e58139\" fill-opacity=\"0.474510\" stroke=\"black\" points=\"517.5,-261 373.5,-261 373.5,-193 517.5,-193 517.5,-261\"/>\r\n",
       "<text text-anchor=\"middle\" x=\"445.5\" y=\"-245.8\" font-family=\"Times New Roman,serif\" font-size=\"14.00\">worst texture &lt;= 25.62</text>\r\n",
       "<text text-anchor=\"middle\" x=\"445.5\" y=\"-230.8\" font-family=\"Times New Roman,serif\" font-size=\"14.00\">samples = 32</text>\r\n",
       "<text text-anchor=\"middle\" x=\"445.5\" y=\"-215.8\" font-family=\"Times New Roman,serif\" font-size=\"14.00\">value = [21, 11]</text>\r\n",
       "<text text-anchor=\"middle\" x=\"445.5\" y=\"-200.8\" font-family=\"Times New Roman,serif\" font-size=\"14.00\">class = 악성</text>\r\n",
       "</g>\r\n",
       "<!-- 1&#45;&gt;7 -->\r\n",
       "<g id=\"edge7\" class=\"edge\"><title>1&#45;&gt;7</title>\r\n",
       "<path fill=\"none\" stroke=\"black\" d=\"M445.5,-296.884C445.5,-288.778 445.5,-279.982 445.5,-271.472\"/>\r\n",
       "<polygon fill=\"black\" stroke=\"black\" points=\"449,-271.299 445.5,-261.299 442,-271.299 449,-271.299\"/>\r\n",
       "</g>\r\n",
       "<!-- 3 -->\r\n",
       "<g id=\"node4\" class=\"node\"><title>3</title>\r\n",
       "<polygon fill=\"#399de5\" fill-opacity=\"0.988235\" stroke=\"black\" points=\"218,-157 49,-157 49,-89 218,-89 218,-157\"/>\r\n",
       "<text text-anchor=\"middle\" x=\"133.5\" y=\"-141.8\" font-family=\"Times New Roman,serif\" font-size=\"14.00\">smoothness error &lt;= 0.003</text>\r\n",
       "<text text-anchor=\"middle\" x=\"133.5\" y=\"-126.8\" font-family=\"Times New Roman,serif\" font-size=\"14.00\">samples = 251</text>\r\n",
       "<text text-anchor=\"middle\" x=\"133.5\" y=\"-111.8\" font-family=\"Times New Roman,serif\" font-size=\"14.00\">value = [3, 248]</text>\r\n",
       "<text text-anchor=\"middle\" x=\"133.5\" y=\"-96.8\" font-family=\"Times New Roman,serif\" font-size=\"14.00\">class = 양성</text>\r\n",
       "</g>\r\n",
       "<!-- 2&#45;&gt;3 -->\r\n",
       "<g id=\"edge3\" class=\"edge\"><title>2&#45;&gt;3</title>\r\n",
       "<path fill=\"none\" stroke=\"black\" d=\"M233.449,-192.884C219.549,-183.304 204.251,-172.761 189.892,-162.864\"/>\r\n",
       "<polygon fill=\"black\" stroke=\"black\" points=\"191.783,-159.918 181.563,-157.125 187.811,-165.681 191.783,-159.918\"/>\r\n",
       "</g>\r\n",
       "<!-- 6 -->\r\n",
       "<g id=\"node7\" class=\"node\"><title>6</title>\r\n",
       "<polygon fill=\"#e58139\" stroke=\"black\" points=\"327,-149.5 236,-149.5 236,-96.5 327,-96.5 327,-149.5\"/>\r\n",
       "<text text-anchor=\"middle\" x=\"281.5\" y=\"-134.3\" font-family=\"Times New Roman,serif\" font-size=\"14.00\">samples = 1</text>\r\n",
       "<text text-anchor=\"middle\" x=\"281.5\" y=\"-119.3\" font-family=\"Times New Roman,serif\" font-size=\"14.00\">value = [1, 0]</text>\r\n",
       "<text text-anchor=\"middle\" x=\"281.5\" y=\"-104.3\" font-family=\"Times New Roman,serif\" font-size=\"14.00\">class = 악성</text>\r\n",
       "</g>\r\n",
       "<!-- 2&#45;&gt;6 -->\r\n",
       "<g id=\"edge6\" class=\"edge\"><title>2&#45;&gt;6</title>\r\n",
       "<path fill=\"none\" stroke=\"black\" d=\"M281.5,-192.884C281.5,-182.326 281.5,-170.597 281.5,-159.854\"/>\r\n",
       "<polygon fill=\"black\" stroke=\"black\" points=\"285,-159.52 281.5,-149.52 278,-159.52 285,-159.52\"/>\r\n",
       "</g>\r\n",
       "<!-- 4 -->\r\n",
       "<g id=\"node5\" class=\"node\"><title>4</title>\r\n",
       "<polygon fill=\"#399de5\" fill-opacity=\"0.666667\" stroke=\"black\" points=\"91,-53 0,-53 0,-0 91,-0 91,-53\"/>\r\n",
       "<text text-anchor=\"middle\" x=\"45.5\" y=\"-37.8\" font-family=\"Times New Roman,serif\" font-size=\"14.00\">samples = 4</text>\r\n",
       "<text text-anchor=\"middle\" x=\"45.5\" y=\"-22.8\" font-family=\"Times New Roman,serif\" font-size=\"14.00\">value = [1, 3]</text>\r\n",
       "<text text-anchor=\"middle\" x=\"45.5\" y=\"-7.8\" font-family=\"Times New Roman,serif\" font-size=\"14.00\">class = 양성</text>\r\n",
       "</g>\r\n",
       "<!-- 3&#45;&gt;4 -->\r\n",
       "<g id=\"edge4\" class=\"edge\"><title>3&#45;&gt;4</title>\r\n",
       "<path fill=\"none\" stroke=\"black\" d=\"M102.722,-88.9485C94.2031,-79.8005 84.9554,-69.8697 76.4281,-60.7126\"/>\r\n",
       "<polygon fill=\"black\" stroke=\"black\" points=\"78.8428,-58.1698 69.4665,-53.2367 73.72,-62.9402 78.8428,-58.1698\"/>\r\n",
       "</g>\r\n",
       "<!-- 5 -->\r\n",
       "<g id=\"node6\" class=\"node\"><title>5</title>\r\n",
       "<polygon fill=\"#399de5\" fill-opacity=\"0.992157\" stroke=\"black\" points=\"213.5,-53 109.5,-53 109.5,-0 213.5,-0 213.5,-53\"/>\r\n",
       "<text text-anchor=\"middle\" x=\"161.5\" y=\"-37.8\" font-family=\"Times New Roman,serif\" font-size=\"14.00\">samples = 247</text>\r\n",
       "<text text-anchor=\"middle\" x=\"161.5\" y=\"-22.8\" font-family=\"Times New Roman,serif\" font-size=\"14.00\">value = [2, 245]</text>\r\n",
       "<text text-anchor=\"middle\" x=\"161.5\" y=\"-7.8\" font-family=\"Times New Roman,serif\" font-size=\"14.00\">class = 양성</text>\r\n",
       "</g>\r\n",
       "<!-- 3&#45;&gt;5 -->\r\n",
       "<g id=\"edge5\" class=\"edge\"><title>3&#45;&gt;5</title>\r\n",
       "<path fill=\"none\" stroke=\"black\" d=\"M143.293,-88.9485C145.787,-80.5323 148.477,-71.4536 151.004,-62.9243\"/>\r\n",
       "<polygon fill=\"black\" stroke=\"black\" points=\"154.389,-63.819 153.874,-53.2367 147.678,-61.8304 154.389,-63.819\"/>\r\n",
       "</g>\r\n",
       "<!-- 8 -->\r\n",
       "<g id=\"node9\" class=\"node\"><title>8</title>\r\n",
       "<polygon fill=\"#399de5\" fill-opacity=\"0.666667\" stroke=\"black\" points=\"518,-157 345,-157 345,-89 518,-89 518,-157\"/>\r\n",
       "<text text-anchor=\"middle\" x=\"431.5\" y=\"-141.8\" font-family=\"Times New Roman,serif\" font-size=\"14.00\">worst smoothness &lt;= 0.179</text>\r\n",
       "<text text-anchor=\"middle\" x=\"431.5\" y=\"-126.8\" font-family=\"Times New Roman,serif\" font-size=\"14.00\">samples = 12</text>\r\n",
       "<text text-anchor=\"middle\" x=\"431.5\" y=\"-111.8\" font-family=\"Times New Roman,serif\" font-size=\"14.00\">value = [3, 9]</text>\r\n",
       "<text text-anchor=\"middle\" x=\"431.5\" y=\"-96.8\" font-family=\"Times New Roman,serif\" font-size=\"14.00\">class = 양성</text>\r\n",
       "</g>\r\n",
       "<!-- 7&#45;&gt;8 -->\r\n",
       "<g id=\"edge8\" class=\"edge\"><title>7&#45;&gt;8</title>\r\n",
       "<path fill=\"none\" stroke=\"black\" d=\"M440.955,-192.884C439.842,-184.778 438.635,-175.982 437.467,-167.472\"/>\r\n",
       "<polygon fill=\"black\" stroke=\"black\" points=\"440.898,-166.731 436.071,-157.299 433.963,-167.682 440.898,-166.731\"/>\r\n",
       "</g>\r\n",
       "<!-- 11 -->\r\n",
       "<g id=\"node12\" class=\"node\"><title>11</title>\r\n",
       "<polygon fill=\"#e58139\" fill-opacity=\"0.890196\" stroke=\"black\" points=\"697,-157 536,-157 536,-89 697,-89 697,-157\"/>\r\n",
       "<text text-anchor=\"middle\" x=\"616.5\" y=\"-141.8\" font-family=\"Times New Roman,serif\" font-size=\"14.00\">worst symmetry &lt;= 0.268</text>\r\n",
       "<text text-anchor=\"middle\" x=\"616.5\" y=\"-126.8\" font-family=\"Times New Roman,serif\" font-size=\"14.00\">samples = 20</text>\r\n",
       "<text text-anchor=\"middle\" x=\"616.5\" y=\"-111.8\" font-family=\"Times New Roman,serif\" font-size=\"14.00\">value = [18, 2]</text>\r\n",
       "<text text-anchor=\"middle\" x=\"616.5\" y=\"-96.8\" font-family=\"Times New Roman,serif\" font-size=\"14.00\">class = 악성</text>\r\n",
       "</g>\r\n",
       "<!-- 7&#45;&gt;11 -->\r\n",
       "<g id=\"edge11\" class=\"edge\"><title>7&#45;&gt;11</title>\r\n",
       "<path fill=\"none\" stroke=\"black\" d=\"M501.019,-192.884C517.379,-183.125 535.416,-172.366 552.274,-162.31\"/>\r\n",
       "<polygon fill=\"black\" stroke=\"black\" points=\"554.172,-165.253 560.967,-157.125 550.586,-159.242 554.172,-165.253\"/>\r\n",
       "</g>\r\n",
       "<!-- 9 -->\r\n",
       "<g id=\"node10\" class=\"node\"><title>9</title>\r\n",
       "<polygon fill=\"#399de5\" fill-opacity=\"0.890196\" stroke=\"black\" points=\"371,-53 280,-53 280,-0 371,-0 371,-53\"/>\r\n",
       "<text text-anchor=\"middle\" x=\"325.5\" y=\"-37.8\" font-family=\"Times New Roman,serif\" font-size=\"14.00\">samples = 10</text>\r\n",
       "<text text-anchor=\"middle\" x=\"325.5\" y=\"-22.8\" font-family=\"Times New Roman,serif\" font-size=\"14.00\">value = [1, 9]</text>\r\n",
       "<text text-anchor=\"middle\" x=\"325.5\" y=\"-7.8\" font-family=\"Times New Roman,serif\" font-size=\"14.00\">class = 양성</text>\r\n",
       "</g>\r\n",
       "<!-- 8&#45;&gt;9 -->\r\n",
       "<g id=\"edge9\" class=\"edge\"><title>8&#45;&gt;9</title>\r\n",
       "<path fill=\"none\" stroke=\"black\" d=\"M394.426,-88.9485C383.96,-79.6175 372.58,-69.4722 362.139,-60.1641\"/>\r\n",
       "<polygon fill=\"black\" stroke=\"black\" points=\"364.162,-57.2788 354.369,-53.2367 359.504,-62.5038 364.162,-57.2788\"/>\r\n",
       "</g>\r\n",
       "<!-- 10 -->\r\n",
       "<g id=\"node11\" class=\"node\"><title>10</title>\r\n",
       "<polygon fill=\"#e58139\" stroke=\"black\" points=\"480,-53 389,-53 389,-0 480,-0 480,-53\"/>\r\n",
       "<text text-anchor=\"middle\" x=\"434.5\" y=\"-37.8\" font-family=\"Times New Roman,serif\" font-size=\"14.00\">samples = 2</text>\r\n",
       "<text text-anchor=\"middle\" x=\"434.5\" y=\"-22.8\" font-family=\"Times New Roman,serif\" font-size=\"14.00\">value = [2, 0]</text>\r\n",
       "<text text-anchor=\"middle\" x=\"434.5\" y=\"-7.8\" font-family=\"Times New Roman,serif\" font-size=\"14.00\">class = 악성</text>\r\n",
       "</g>\r\n",
       "<!-- 8&#45;&gt;10 -->\r\n",
       "<g id=\"edge10\" class=\"edge\"><title>8&#45;&gt;10</title>\r\n",
       "<path fill=\"none\" stroke=\"black\" d=\"M432.549,-88.9485C432.811,-80.7153 433.092,-71.848 433.358,-63.4814\"/>\r\n",
       "<polygon fill=\"black\" stroke=\"black\" points=\"436.864,-63.3428 433.683,-53.2367 429.867,-63.1206 436.864,-63.3428\"/>\r\n",
       "</g>\r\n",
       "<!-- 12 -->\r\n",
       "<g id=\"node13\" class=\"node\"><title>12</title>\r\n",
       "<polygon fill=\"#399de5\" fill-opacity=\"0.498039\" stroke=\"black\" points=\"601,-53 510,-53 510,-0 601,-0 601,-53\"/>\r\n",
       "<text text-anchor=\"middle\" x=\"555.5\" y=\"-37.8\" font-family=\"Times New Roman,serif\" font-size=\"14.00\">samples = 3</text>\r\n",
       "<text text-anchor=\"middle\" x=\"555.5\" y=\"-22.8\" font-family=\"Times New Roman,serif\" font-size=\"14.00\">value = [1, 2]</text>\r\n",
       "<text text-anchor=\"middle\" x=\"555.5\" y=\"-7.8\" font-family=\"Times New Roman,serif\" font-size=\"14.00\">class = 양성</text>\r\n",
       "</g>\r\n",
       "<!-- 11&#45;&gt;12 -->\r\n",
       "<g id=\"edge12\" class=\"edge\"><title>11&#45;&gt;12</title>\r\n",
       "<path fill=\"none\" stroke=\"black\" d=\"M595.165,-88.9485C589.496,-80.1664 583.362,-70.6629 577.65,-61.815\"/>\r\n",
       "<polygon fill=\"black\" stroke=\"black\" points=\"580.477,-59.7402 572.113,-53.2367 574.596,-63.5365 580.477,-59.7402\"/>\r\n",
       "</g>\r\n",
       "<!-- 13 -->\r\n",
       "<g id=\"node14\" class=\"node\"><title>13</title>\r\n",
       "<polygon fill=\"#e58139\" stroke=\"black\" points=\"717.5,-53 619.5,-53 619.5,-0 717.5,-0 717.5,-53\"/>\r\n",
       "<text text-anchor=\"middle\" x=\"668.5\" y=\"-37.8\" font-family=\"Times New Roman,serif\" font-size=\"14.00\">samples = 17</text>\r\n",
       "<text text-anchor=\"middle\" x=\"668.5\" y=\"-22.8\" font-family=\"Times New Roman,serif\" font-size=\"14.00\">value = [17, 0]</text>\r\n",
       "<text text-anchor=\"middle\" x=\"668.5\" y=\"-7.8\" font-family=\"Times New Roman,serif\" font-size=\"14.00\">class = 악성</text>\r\n",
       "</g>\r\n",
       "<!-- 11&#45;&gt;13 -->\r\n",
       "<g id=\"edge13\" class=\"edge\"><title>11&#45;&gt;13</title>\r\n",
       "<path fill=\"none\" stroke=\"black\" d=\"M634.687,-88.9485C639.469,-80.2579 644.64,-70.8608 649.465,-62.0917\"/>\r\n",
       "<polygon fill=\"black\" stroke=\"black\" points=\"652.583,-63.6853 654.338,-53.2367 646.451,-60.3105 652.583,-63.6853\"/>\r\n",
       "</g>\r\n",
       "<!-- 15 -->\r\n",
       "<g id=\"node16\" class=\"node\"><title>15</title>\r\n",
       "<polygon fill=\"#399de5\" stroke=\"black\" points=\"681,-253.5 590,-253.5 590,-200.5 681,-200.5 681,-253.5\"/>\r\n",
       "<text text-anchor=\"middle\" x=\"635.5\" y=\"-238.3\" font-family=\"Times New Roman,serif\" font-size=\"14.00\">samples = 5</text>\r\n",
       "<text text-anchor=\"middle\" x=\"635.5\" y=\"-223.3\" font-family=\"Times New Roman,serif\" font-size=\"14.00\">value = [0, 5]</text>\r\n",
       "<text text-anchor=\"middle\" x=\"635.5\" y=\"-208.3\" font-family=\"Times New Roman,serif\" font-size=\"14.00\">class = 양성</text>\r\n",
       "</g>\r\n",
       "<!-- 14&#45;&gt;15 -->\r\n",
       "<g id=\"edge15\" class=\"edge\"><title>14&#45;&gt;15</title>\r\n",
       "<path fill=\"none\" stroke=\"black\" d=\"M635.5,-296.884C635.5,-286.326 635.5,-274.597 635.5,-263.854\"/>\r\n",
       "<polygon fill=\"black\" stroke=\"black\" points=\"639,-263.52 635.5,-253.52 632,-263.52 639,-263.52\"/>\r\n",
       "</g>\r\n",
       "<!-- 16 -->\r\n",
       "<g id=\"node17\" class=\"node\"><title>16</title>\r\n",
       "<polygon fill=\"#e58139\" fill-opacity=\"0.976471\" stroke=\"black\" points=\"871,-261 710,-261 710,-193 871,-193 871,-261\"/>\r\n",
       "<text text-anchor=\"middle\" x=\"790.5\" y=\"-245.8\" font-family=\"Times New Roman,serif\" font-size=\"14.00\">worst concavity &lt;= 0.191</text>\r\n",
       "<text text-anchor=\"middle\" x=\"790.5\" y=\"-230.8\" font-family=\"Times New Roman,serif\" font-size=\"14.00\">samples = 137</text>\r\n",
       "<text text-anchor=\"middle\" x=\"790.5\" y=\"-215.8\" font-family=\"Times New Roman,serif\" font-size=\"14.00\">value = [134, 3]</text>\r\n",
       "<text text-anchor=\"middle\" x=\"790.5\" y=\"-200.8\" font-family=\"Times New Roman,serif\" font-size=\"14.00\">class = 악성</text>\r\n",
       "</g>\r\n",
       "<!-- 14&#45;&gt;16 -->\r\n",
       "<g id=\"edge16\" class=\"edge\"><title>14&#45;&gt;16</title>\r\n",
       "<path fill=\"none\" stroke=\"black\" d=\"M685.824,-296.884C700.381,-287.304 716.403,-276.761 731.441,-266.864\"/>\r\n",
       "<polygon fill=\"black\" stroke=\"black\" points=\"733.734,-269.546 740.163,-261.125 729.886,-263.698 733.734,-269.546\"/>\r\n",
       "</g>\r\n",
       "<!-- 17 -->\r\n",
       "<g id=\"node18\" class=\"node\"><title>17</title>\r\n",
       "<polygon fill=\"#399de5\" fill-opacity=\"0.333333\" stroke=\"black\" points=\"866,-157 715,-157 715,-89 866,-89 866,-157\"/>\r\n",
       "<text text-anchor=\"middle\" x=\"790.5\" y=\"-141.8\" font-family=\"Times New Roman,serif\" font-size=\"14.00\">worst texture &lt;= 30.975</text>\r\n",
       "<text text-anchor=\"middle\" x=\"790.5\" y=\"-126.8\" font-family=\"Times New Roman,serif\" font-size=\"14.00\">samples = 5</text>\r\n",
       "<text text-anchor=\"middle\" x=\"790.5\" y=\"-111.8\" font-family=\"Times New Roman,serif\" font-size=\"14.00\">value = [2, 3]</text>\r\n",
       "<text text-anchor=\"middle\" x=\"790.5\" y=\"-96.8\" font-family=\"Times New Roman,serif\" font-size=\"14.00\">class = 양성</text>\r\n",
       "</g>\r\n",
       "<!-- 16&#45;&gt;17 -->\r\n",
       "<g id=\"edge17\" class=\"edge\"><title>16&#45;&gt;17</title>\r\n",
       "<path fill=\"none\" stroke=\"black\" d=\"M790.5,-192.884C790.5,-184.778 790.5,-175.982 790.5,-167.472\"/>\r\n",
       "<polygon fill=\"black\" stroke=\"black\" points=\"794,-167.299 790.5,-157.299 787,-167.299 794,-167.299\"/>\r\n",
       "</g>\r\n",
       "<!-- 20 -->\r\n",
       "<g id=\"node21\" class=\"node\"><title>20</title>\r\n",
       "<polygon fill=\"#e58139\" stroke=\"black\" points=\"988.5,-149.5 884.5,-149.5 884.5,-96.5 988.5,-96.5 988.5,-149.5\"/>\r\n",
       "<text text-anchor=\"middle\" x=\"936.5\" y=\"-134.3\" font-family=\"Times New Roman,serif\" font-size=\"14.00\">samples = 132</text>\r\n",
       "<text text-anchor=\"middle\" x=\"936.5\" y=\"-119.3\" font-family=\"Times New Roman,serif\" font-size=\"14.00\">value = [132, 0]</text>\r\n",
       "<text text-anchor=\"middle\" x=\"936.5\" y=\"-104.3\" font-family=\"Times New Roman,serif\" font-size=\"14.00\">class = 악성</text>\r\n",
       "</g>\r\n",
       "<!-- 16&#45;&gt;20 -->\r\n",
       "<g id=\"edge20\" class=\"edge\"><title>16&#45;&gt;20</title>\r\n",
       "<path fill=\"none\" stroke=\"black\" d=\"M837.902,-192.884C855.061,-180.896 874.38,-167.399 891.341,-155.549\"/>\r\n",
       "<polygon fill=\"black\" stroke=\"black\" points=\"893.778,-158.116 899.971,-149.52 889.769,-152.378 893.778,-158.116\"/>\r\n",
       "</g>\r\n",
       "<!-- 18 -->\r\n",
       "<g id=\"node19\" class=\"node\"><title>18</title>\r\n",
       "<polygon fill=\"#399de5\" stroke=\"black\" points=\"833,-53 742,-53 742,-0 833,-0 833,-53\"/>\r\n",
       "<text text-anchor=\"middle\" x=\"787.5\" y=\"-37.8\" font-family=\"Times New Roman,serif\" font-size=\"14.00\">samples = 3</text>\r\n",
       "<text text-anchor=\"middle\" x=\"787.5\" y=\"-22.8\" font-family=\"Times New Roman,serif\" font-size=\"14.00\">value = [0, 3]</text>\r\n",
       "<text text-anchor=\"middle\" x=\"787.5\" y=\"-7.8\" font-family=\"Times New Roman,serif\" font-size=\"14.00\">class = 양성</text>\r\n",
       "</g>\r\n",
       "<!-- 17&#45;&gt;18 -->\r\n",
       "<g id=\"edge18\" class=\"edge\"><title>17&#45;&gt;18</title>\r\n",
       "<path fill=\"none\" stroke=\"black\" d=\"M789.451,-88.9485C789.189,-80.7153 788.908,-71.848 788.642,-63.4814\"/>\r\n",
       "<polygon fill=\"black\" stroke=\"black\" points=\"792.133,-63.1206 788.317,-53.2367 785.136,-63.3428 792.133,-63.1206\"/>\r\n",
       "</g>\r\n",
       "<!-- 19 -->\r\n",
       "<g id=\"node20\" class=\"node\"><title>19</title>\r\n",
       "<polygon fill=\"#e58139\" stroke=\"black\" points=\"942,-53 851,-53 851,-0 942,-0 942,-53\"/>\r\n",
       "<text text-anchor=\"middle\" x=\"896.5\" y=\"-37.8\" font-family=\"Times New Roman,serif\" font-size=\"14.00\">samples = 2</text>\r\n",
       "<text text-anchor=\"middle\" x=\"896.5\" y=\"-22.8\" font-family=\"Times New Roman,serif\" font-size=\"14.00\">value = [2, 0]</text>\r\n",
       "<text text-anchor=\"middle\" x=\"896.5\" y=\"-7.8\" font-family=\"Times New Roman,serif\" font-size=\"14.00\">class = 악성</text>\r\n",
       "</g>\r\n",
       "<!-- 17&#45;&gt;19 -->\r\n",
       "<g id=\"edge19\" class=\"edge\"><title>17&#45;&gt;19</title>\r\n",
       "<path fill=\"none\" stroke=\"black\" d=\"M827.574,-88.9485C838.04,-79.6175 849.42,-69.4722 859.861,-60.1641\"/>\r\n",
       "<polygon fill=\"black\" stroke=\"black\" points=\"862.496,-62.5038 867.631,-53.2367 857.838,-57.2788 862.496,-62.5038\"/>\r\n",
       "</g>\r\n",
       "</g>\r\n",
       "</svg>\r\n"
      ],
      "text/plain": [
       "<graphviz.files.Source at 0x1f63a4b5160>"
      ]
     },
     "metadata": {},
     "output_type": "display_data"
    }
   ],
   "source": [
    "import graphviz\n",
    "\n",
    "with open(\"tree.dot\", 'rt', encoding='UTF8') as f:\n",
    "    dot_graph = f.read()\n",
    "display(graphviz.Source(dot_graph))"
   ]
  },
  {
   "cell_type": "markdown",
   "metadata": {},
   "source": [
    "트리의 특성 중요도(Feature Importance)\n",
    "\n",
    "트리의 작동 속성에 대한 요약을 한눈에 볼 수 있다. \n",
    "0 부터 1까지의 값을 가지며 1에 가까울 수록 완벽하게 타겟 클라스를 예측 했다는 의미\n",
    "전체의 합은 항상 1이다."
   ]
  },
  {
   "cell_type": "code",
   "execution_count": 8,
   "metadata": {},
   "outputs": [
    {
     "name": "stdout",
     "output_type": "stream",
     "text": [
      "특성 중요도:\n",
      "[ 0.          0.          0.          0.          0.          0.          0.\n",
      "  0.          0.          0.          0.01019737  0.04839825  0.          0.\n",
      "  0.0024156   0.          0.          0.          0.          0.\n",
      "  0.72682851  0.0458159   0.          0.          0.0141577   0.          0.018188\n",
      "  0.1221132   0.01188548  0.        ]\n"
     ]
    }
   ],
   "source": [
    "print(\"특성 중요도:\\n{}\".format(tree.feature_importances_))"
   ]
  },
  {
   "cell_type": "code",
   "execution_count": 9,
   "metadata": {},
   "outputs": [
    {
     "data": {
      "text/plain": [
       "(569, 30)"
      ]
     },
     "execution_count": 9,
     "metadata": {},
     "output_type": "execute_result"
    }
   ],
   "source": [
    "cancer.data.shape"
   ]
  },
  {
   "cell_type": "code",
   "execution_count": 10,
   "metadata": {},
   "outputs": [
    {
     "data": {
      "image/png": "[encoded data removed]",
      "text/plain": [
       "<matplotlib.figure.Figure at 0x1f639b346a0>"
      ]
     },
     "metadata": {},
     "output_type": "display_data"
    }
   ],
   "source": [
    "def plot_feature_importances_cancer(model):\n",
    "    n_features = cancer.data.shape[1]\n",
    "    plt.barh(range(n_features), model.feature_importances_, align='center')\n",
    "    plt.yticks(np.arange(n_features), cancer.feature_names)\n",
    "    plt.xlabel(\"Feature Importance\")\n",
    "    plt.ylabel(\"Feature\")\n",
    "    plt.ylim(-1, n_features)\n",
    "\n",
    "plot_feature_importances_cancer(tree)"
   ]
  },
  {
   "cell_type": "markdown",
   "metadata": {},
   "source": [
    "첫번째 노드에서 사용한 특성 worst radius 이 가장 중요한 특성으로 나타 나는데, 이는 첫번째 노드가 잘 설정되었다는 우리의 관찰을 뒷받침해 준다."
   ]
  },
  {
   "cell_type": "markdown",
   "metadata": {},
   "source": [
    "그러나 어떤 특성의 feature_importance_ 의 값이 낮다고 해서 이 특성이 유효하지 않다는 의미는 아니다.\n",
    "단지 그 트리가 그 특성을 선택하지 않았다는 것일 뿐이며 다른 특성이 동일한 정보를 지니고 있어서 일 수 있다."
   ]
  },
  {
   "cell_type": "markdown",
   "metadata": {},
   "source": [
    "선형 모델의 계수와는 달리, 특성 중요도는 항상 양수이며 특성이 어떤 클래스를 지지 하는지는 알 수 없다,\n",
    "\n",
    "특성 중요도의 값은 worst radius가 중요하다고는 알려 주지만 양성을 의미하는지 악성을 의미하는지는 알 수 없다.\n",
    "사실 특성과 클래스 사이에는 간단하지 않은 관계가 있을 수 있으며, 다음의 예에서 살펴 보도록 하자."
   ]
  },
  {
   "cell_type": "code",
   "execution_count": 11,
   "metadata": {},
   "outputs": [
    {
     "name": "stdout",
     "output_type": "stream",
     "text": [
      "Feature importances: [ 0.  1.]\n"
     ]
    },
    {
     "data": {
      "image/svg+xml": [
       "<?xml version=\"1.0\" encoding=\"UTF-8\" standalone=\"no\"?>\r\n",
       "<!DOCTYPE svg PUBLIC \"-//W3C//DTD SVG 1.1//EN\"\r\n",
       " \"http://www.w3.org/Graphics/SVG/1.1/DTD/svg11.dtd\">\r\n",
       "<!-- Generated by graphviz version 2.38.0 (20140413.2041)\r\n",
       " -->\r\n",
       "<!-- Title: Tree Pages: 1 -->\r\n",
       "<svg width=\"283pt\" height=\"224pt\"\r\n",
       " viewBox=\"0.00 0.00 283.00 224.00\" xmlns=\"http://www.w3.org/2000/svg\" xmlns:xlink=\"http://www.w3.org/1999/xlink\">\r\n",
       "<g id=\"graph0\" class=\"graph\" transform=\"scale(1 1) rotate(0) translate(4 220)\">\r\n",
       "<title>Tree</title>\r\n",
       "<polygon fill=\"white\" stroke=\"none\" points=\"-4,4 -4,-220 279,-220 279,4 -4,4\"/>\r\n",
       "<!-- 0 -->\r\n",
       "<g id=\"node1\" class=\"node\"><title>0</title>\r\n",
       "<polygon fill=\"none\" stroke=\"black\" points=\"160,-216 56,-216 56,-163 160,-163 160,-216\"/>\r\n",
       "<text text-anchor=\"middle\" x=\"108\" y=\"-200.8\" font-family=\"Times New Roman,serif\" font-size=\"14.00\">X[1] &lt;= &#45;5.814</text>\r\n",
       "<text text-anchor=\"middle\" x=\"108\" y=\"-185.8\" font-family=\"Times New Roman,serif\" font-size=\"14.00\">samples = 100</text>\r\n",
       "<text text-anchor=\"middle\" x=\"108\" y=\"-170.8\" font-family=\"Times New Roman,serif\" font-size=\"14.00\">value = [50, 50]</text>\r\n",
       "</g>\r\n",
       "<!-- 1 -->\r\n",
       "<g id=\"node2\" class=\"node\"><title>1</title>\r\n",
       "<polygon fill=\"#e58139\" stroke=\"black\" points=\"98,-119.5 0,-119.5 0,-81.5 98,-81.5 98,-119.5\"/>\r\n",
       "<text text-anchor=\"middle\" x=\"49\" y=\"-104.3\" font-family=\"Times New Roman,serif\" font-size=\"14.00\">samples = 25</text>\r\n",
       "<text text-anchor=\"middle\" x=\"49\" y=\"-89.3\" font-family=\"Times New Roman,serif\" font-size=\"14.00\">value = [25, 0]</text>\r\n",
       "</g>\r\n",
       "<!-- 0&#45;&gt;1 -->\r\n",
       "<g id=\"edge1\" class=\"edge\"><title>0&#45;&gt;1</title>\r\n",
       "<path fill=\"none\" stroke=\"black\" d=\"M90.6172,-162.868C83.1609,-151.873 74.4545,-139.035 66.9379,-127.951\"/>\r\n",
       "<polygon fill=\"black\" stroke=\"black\" points=\"69.7209,-125.819 61.2114,-119.507 63.9274,-129.747 69.7209,-125.819\"/>\r\n",
       "<text text-anchor=\"middle\" x=\"56.5027\" y=\"-140.359\" font-family=\"Times New Roman,serif\" font-size=\"14.00\">True</text>\r\n",
       "</g>\r\n",
       "<!-- 2 -->\r\n",
       "<g id=\"node3\" class=\"node\"><title>2</title>\r\n",
       "<polygon fill=\"#399de5\" fill-opacity=\"0.498039\" stroke=\"black\" points=\"220,-127 116,-127 116,-74 220,-74 220,-127\"/>\r\n",
       "<text text-anchor=\"middle\" x=\"168\" y=\"-111.8\" font-family=\"Times New Roman,serif\" font-size=\"14.00\">X[1] &lt;= 5.348</text>\r\n",
       "<text text-anchor=\"middle\" x=\"168\" y=\"-96.8\" font-family=\"Times New Roman,serif\" font-size=\"14.00\">samples = 75</text>\r\n",
       "<text text-anchor=\"middle\" x=\"168\" y=\"-81.8\" font-family=\"Times New Roman,serif\" font-size=\"14.00\">value = [25, 50]</text>\r\n",
       "</g>\r\n",
       "<!-- 0&#45;&gt;2 -->\r\n",
       "<g id=\"edge2\" class=\"edge\"><title>0&#45;&gt;2</title>\r\n",
       "<path fill=\"none\" stroke=\"black\" d=\"M125.677,-162.868C131.545,-154.359 138.174,-144.747 144.415,-135.698\"/>\r\n",
       "<polygon fill=\"black\" stroke=\"black\" points=\"147.445,-137.469 150.242,-127.25 141.683,-133.495 147.445,-137.469\"/>\r\n",
       "<text text-anchor=\"middle\" x=\"154.758\" y=\"-148.138\" font-family=\"Times New Roman,serif\" font-size=\"14.00\">False</text>\r\n",
       "</g>\r\n",
       "<!-- 3 -->\r\n",
       "<g id=\"node4\" class=\"node\"><title>3</title>\r\n",
       "<polygon fill=\"#399de5\" stroke=\"black\" points=\"159,-38 61,-38 61,-0 159,-0 159,-38\"/>\r\n",
       "<text text-anchor=\"middle\" x=\"110\" y=\"-22.8\" font-family=\"Times New Roman,serif\" font-size=\"14.00\">samples = 50</text>\r\n",
       "<text text-anchor=\"middle\" x=\"110\" y=\"-7.8\" font-family=\"Times New Roman,serif\" font-size=\"14.00\">value = [0, 50]</text>\r\n",
       "</g>\r\n",
       "<!-- 2&#45;&gt;3 -->\r\n",
       "<g id=\"edge3\" class=\"edge\"><title>2&#45;&gt;3</title>\r\n",
       "<path fill=\"none\" stroke=\"black\" d=\"M149.329,-73.9081C142.905,-65.1022 135.702,-55.2299 129.234,-46.3636\"/>\r\n",
       "<polygon fill=\"black\" stroke=\"black\" points=\"132.028,-44.2546 123.306,-38.2389 126.373,-48.3803 132.028,-44.2546\"/>\r\n",
       "</g>\r\n",
       "<!-- 4 -->\r\n",
       "<g id=\"node5\" class=\"node\"><title>4</title>\r\n",
       "<polygon fill=\"#e58139\" stroke=\"black\" points=\"275,-38 177,-38 177,-0 275,-0 275,-38\"/>\r\n",
       "<text text-anchor=\"middle\" x=\"226\" y=\"-22.8\" font-family=\"Times New Roman,serif\" font-size=\"14.00\">samples = 25</text>\r\n",
       "<text text-anchor=\"middle\" x=\"226\" y=\"-7.8\" font-family=\"Times New Roman,serif\" font-size=\"14.00\">value = [25, 0]</text>\r\n",
       "</g>\r\n",
       "<!-- 2&#45;&gt;4 -->\r\n",
       "<g id=\"edge4\" class=\"edge\"><title>2&#45;&gt;4</title>\r\n",
       "<path fill=\"none\" stroke=\"black\" d=\"M186.671,-73.9081C193.095,-65.1022 200.298,-55.2299 206.766,-46.3636\"/>\r\n",
       "<polygon fill=\"black\" stroke=\"black\" points=\"209.627,-48.3803 212.694,-38.2389 203.972,-44.2546 209.627,-48.3803\"/>\r\n",
       "</g>\r\n",
       "</g>\r\n",
       "</svg>\r\n"
      ],
      "text/plain": [
       "<graphviz.files.Source at 0x1f639e0deb8>"
      ]
     },
     "metadata": {},
     "output_type": "display_data"
    },
    {
     "data": {
      "image/png": "[encoded data removed]",
      "text/plain": [
       "<matplotlib.figure.Figure at 0x1f639b256a0>"
      ]
     },
     "metadata": {},
     "output_type": "display_data"
    }
   ],
   "source": [
    "tree = mglearn.plots.plot_tree_not_monotone()\n",
    "display(tree)"
   ]
  },
  {
   "cell_type": "markdown",
   "metadata": {},
   "source": [
    "이그림은 두개의 특성과 두개의 클래스를 가진 데이터셋을 보여준다.\n",
    "X[1]에 있는 정보만 사용 되었고 X[0]에 있는 정보는 전혀 사용 되지 않았다.\n",
    "\n",
    "하지만 X[1]과 출력 클래스와의 관계는 단순하게 비례 또는 반비례하지도 않는다.\n",
    "즉, X[1]의 값이 높으면 클래스 0 이고 낮으면 클래스 1 이라 말할 수 없다"
   ]
  },
  {
   "cell_type": "markdown",
   "metadata": {},
   "source": [
    "DecisionTreeRegressor를 사용하면 회귀 결정 트리기반의 모델을 만들 수 있는데, Exploration이 어렵다.\n",
    "즉, 회귀를 위한 트리기반 모델은 훈련데이터 밖의 포인트에 대하여 예측을 할 수 없다\n",
    "\n",
    "컴퓨터 메모리 가격 동향 데이터세트를 예로 설명해 보자\n",
    "\n",
    "x축은 날짜 y축은 해당연도의 RAM 1메가 바이트 가격"
   ]
  },
  {
   "cell_type": "code",
   "execution_count": 12,
   "metadata": {},
   "outputs": [
    {
     "data": {
      "text/html": [
       "<div>\n",
       "<style>\n",
       "    .dataframe thead tr:only-child th {\n",
       "        text-align: right;\n",
       "    }\n",
       "\n",
       "    .dataframe thead th {\n",
       "        text-align: left;\n",
       "    }\n",
       "\n",
       "    .dataframe tbody tr th {\n",
       "        vertical-align: top;\n",
       "    }\n",
       "</style>\n",
       "<table border=\"1\" class=\"dataframe\">\n",
       "  <thead>\n",
       "    <tr style=\"text-align: right;\">\n",
       "      <th></th>\n",
       "      <th>Unnamed: 0</th>\n",
       "      <th>date</th>\n",
       "      <th>price</th>\n",
       "    </tr>\n",
       "  </thead>\n",
       "  <tbody>\n",
       "    <tr>\n",
       "      <th>0</th>\n",
       "      <td>0</td>\n",
       "      <td>1957.0</td>\n",
       "      <td>411041792.0</td>\n",
       "    </tr>\n",
       "    <tr>\n",
       "      <th>1</th>\n",
       "      <td>1</td>\n",
       "      <td>1959.0</td>\n",
       "      <td>67947725.0</td>\n",
       "    </tr>\n",
       "    <tr>\n",
       "      <th>2</th>\n",
       "      <td>2</td>\n",
       "      <td>1960.0</td>\n",
       "      <td>5242880.0</td>\n",
       "    </tr>\n",
       "    <tr>\n",
       "      <th>3</th>\n",
       "      <td>3</td>\n",
       "      <td>1965.0</td>\n",
       "      <td>2642412.0</td>\n",
       "    </tr>\n",
       "    <tr>\n",
       "      <th>4</th>\n",
       "      <td>4</td>\n",
       "      <td>1970.0</td>\n",
       "      <td>734003.0</td>\n",
       "    </tr>\n",
       "  </tbody>\n",
       "</table>\n",
       "</div>"
      ],
      "text/plain": [
       "   Unnamed: 0    date        price\n",
       "0           0  1957.0  411041792.0\n",
       "1           1  1959.0   67947725.0\n",
       "2           2  1960.0    5242880.0\n",
       "3           3  1965.0    2642412.0\n",
       "4           4  1970.0     734003.0"
      ]
     },
     "execution_count": 12,
     "metadata": {},
     "output_type": "execute_result"
    }
   ],
   "source": [
    "import pandas as pd\n",
    "import os\n",
    "ram_prices = pd.read_csv(os.path.join(mglearn.datasets.DATA_PATH, \"ram_price.csv\"))\n",
    "ram_prices.head()"
   ]
  },
  {
   "cell_type": "code",
   "execution_count": 13,
   "metadata": {},
   "outputs": [
    {
     "name": "stderr",
     "output_type": "stream",
     "text": [
      "D:\\Anaconda3\\lib\\site-packages\\matplotlib\\mathtext.py:866: MathTextWarning: Font 'default' does not have a glyph for '-' [U+2212]\n",
      "  MathTextWarning)\n",
      "D:\\Anaconda3\\lib\\site-packages\\matplotlib\\mathtext.py:867: MathTextWarning: Substituting with a dummy symbol.\n",
      "  warn(\"Substituting with a dummy symbol.\", MathTextWarning)\n"
     ]
    },
    {
     "data": {
      "image/png": "[encoded data removed]",
      "text/plain": [
       "<matplotlib.figure.Figure at 0x1f639b25cc0>"
      ]
     },
     "metadata": {},
     "output_type": "display_data"
    }
   ],
   "source": [
    "import pandas as pd\n",
    "ram_prices = pd.read_csv(os.path.join(mglearn.datasets.DATA_PATH, \"ram_price.csv\"))\n",
    "\n",
    "plt.semilogy(ram_prices.date, ram_prices.price)\n",
    "plt.xlabel(\"year\")\n",
    "plt.ylabel(\"price ($/Mbyte)\");\n",
    "\n",
    "# 로그 스케일로 그린 RAM 가격 동향 ( 로그를 활용하여 선형적으로 표시하기 위함)"
   ]
  },
  {
   "cell_type": "markdown",
   "metadata": {},
   "source": [
    "날짜 특성 하나만으로 2000년 전까지의 데이터로 부터 2000년 후의 가격을 예측해 보자\n",
    "\n",
    "여기서는 간단히 DecisionTreeRegressor 와 LinearRegression 을 비교해 보자"
   ]
  },
  {
   "cell_type": "code",
   "execution_count": 14,
   "metadata": {},
   "outputs": [],
   "source": [
    "from sklearn.tree import DecisionTreeRegressor\n",
    "from sklearn.linear_model import LinearRegression\n",
    "\n",
    "# 2000년 이전을 훈련 데이터로, 2000년 이후를 테스트 데이터로 만듭니다\n",
    "data_train = ram_prices[ram_prices.date < 2000]\n",
    "data_test = ram_prices[ram_prices.date >= 2000]\n",
    "\n",
    "# 가격 예측을 위해 날짜 특성만을 이용합니다\n",
    "X_train = data_train.date[:, np.newaxis]\n",
    "# 데이터와 타깃 사이의 관계를 간단하게 만들기 위해 로그 스케일로 바꿉니다\n",
    "y_train = np.log(data_train.price)\n",
    "\n",
    "tree = DecisionTreeRegressor().fit(X_train, y_train)\n",
    "linear_reg = LinearRegression().fit(X_train, y_train)\n",
    "\n",
    "# 예측은 전체 기간에 대해서 수행합니다\n",
    "X_all = ram_prices.date[:, np.newaxis]\n",
    "\n",
    "pred_tree = tree.predict(X_all)\n",
    "pred_lr = linear_reg.predict(X_all)\n",
    "\n",
    "# 예측한 값의 로그 스케일을 되돌립니다\n",
    "price_tree = np.exp(pred_tree)\n",
    "price_lr = np.exp(pred_lr)"
   ]
  },
  {
   "cell_type": "code",
   "execution_count": 15,
   "metadata": {},
   "outputs": [
    {
     "name": "stderr",
     "output_type": "stream",
     "text": [
      "D:\\Anaconda3\\lib\\site-packages\\matplotlib\\mathtext.py:866: MathTextWarning: Font 'default' does not have a glyph for '-' [U+2212]\n",
      "  MathTextWarning)\n",
      "D:\\Anaconda3\\lib\\site-packages\\matplotlib\\mathtext.py:867: MathTextWarning: Substituting with a dummy symbol.\n",
      "  warn(\"Substituting with a dummy symbol.\", MathTextWarning)\n"
     ]
    },
    {
     "data": {
      "image/png": "[encoded data removed]",
      "text/plain": [
       "<matplotlib.figure.Figure at 0x1f63a034cf8>"
      ]
     },
     "metadata": {},
     "output_type": "display_data"
    }
   ],
   "source": [
    "plt.semilogy(data_train.date, data_train.price, label=\"training\")\n",
    "plt.semilogy(data_test.date, data_test.price, label=\"test\")\n",
    "plt.semilogy(ram_prices.date, price_tree, label=\"tree pred\")\n",
    "plt.semilogy(ram_prices.date, price_lr, label=\"linear pred\")\n",
    "plt.legend();"
   ]
  },
  {
   "cell_type": "markdown",
   "metadata": {},
   "source": [
    "트리 모델은 트리 복잡도에 제한을 두지 않아서 모든 훈련데이터에 대해 완벽하게 예측을 하는데,\n",
    "모델이 가진 데이터 범위를 벋어나면 단순히 마지막 포인트를 이용해 예측하는 것이 전부 입니다.\n",
    "\n",
    "트리모델은 새로운 데이터를 예측할 능력이 없다. "
   ]
  },
  {
   "cell_type": "markdown",
   "metadata": {},
   "source": [
    "(종합 정리) 트리모델\n",
    "\n",
    "(1) 사전 가지치기 매개 변수\n",
    "- max_depth, max_leaf_nodes, min_samples_leaf 중 하나만 지정해도 과대 적합을 막을 수 있다.\n",
    "\n",
    "(2) 만들어진 모델의 시각화가 뛰어나 비전문가의 이해가 쉬워짐\n",
    "\n",
    "(3) 데이터의 스케일에 구애를 받지 않는다\n",
    "- 각 특성이 개별적으로 처리되어 데이터를 분할 하므로 특성의 정규화나 표준화가 필요 없다\n",
    "- 특히 스케일이 서로 다르거나 이진 특성과 연속적인 특성이 혼합되어 있을 때도 잘 작동한다.\n",
    "\n",
    "(4) 단점은 사전 가지 치기에도 과대적합이 발생하여 일반화 성능이 떨어지는 경우가 있다는 점\n",
    "- 따라서 앙상블 모델을 활용하여 단점을 극복한다."
   ]
  },
  {
   "cell_type": "markdown",
   "metadata": {
    "collapsed": true
   },
   "source": [
    "2.3.6 결정트리의 앙상블\n",
    "\n",
    "앙상블은 여러 머신러닝의 모델을 연결하여 더 강력한 모델을 만드는 기법이다\n",
    "결정트리의 단점인 과대 적합을 피하는방법\n",
    "\n",
    "(1)랜덤 포레스트(random forest)\n",
    "\n",
    "(2)그래디언트 부스팅(gradient boosting)"
   ]
  },
  {
   "cell_type": "markdown",
   "metadata": {},
   "source": [
    "Random Forest\n",
    "\n",
    "(1) 정의\n",
    "조금씩 다른 여러 결정 트리의 묶음\n",
    "\n",
    "(2) 배경 \n",
    "잘 작동하되 서로 다른 방향으로 과대적합된 트리를 많이 만들면 그 결과를 평균냄으로 모델의 예측 성능은 유지하면서 과대적합된 양을 줄일 수 있다.\n",
    "\n",
    "(3) 구현 전략\n",
    "- 결정 트리를 많이 만들어야 한다\n",
    "- 각각의 트리는 타겟 예측을 잘 해야 하고 다른 트리와 구별 되어야 한다\n",
    "- 트리들이 달라지도록 트리생성 시 무작위성을 주입해야 한다.\n",
    "  (가) 트리를 만들 때 사용하는 데이터 포인트를 무작위로 선택하는 방법\n",
    "  (나) 분할 테스트에서 특성을 무작위로 선택하는 방법\n"
   ]
  },
  {
   "cell_type": "markdown",
   "metadata": {},
   "source": [
    "랜덤 포레스트 구축\n",
    "\n",
    "부트스트램 샘플을 사용하여 트리가 조금씩다른 데이터셋을 이용해 만들어지게 하고, 각 노드에서 특성의 일부만을 사용하게 하여 랜덤포레스트의 모든 트리가 서로 달라지도록 만들어 학습 시킴\n",
    "\n",
    "(1) 생성할 트리의 갯수 정하기\n",
    "- n_estimators 매개 변수(RandomForestRegressor 나 RandomForestClassifier)\n",
    "- 여기서는 10개 필요하다고 가정하자\n",
    "\n",
    "(2) 부트스트랩 샘플(bootstrap sample) 생성\n",
    "- 목적: 트리의 독립성 보장을 위해서는 각 트리가 고유하게 만들어 지도록 무작위적인 선택을 해야한다\n",
    "- 방법: n_samples개의 데이터 포인트 중에서 무작위로 데이터를 n_samples 횟수 만큼 반복 추출함\n",
    "- 결과: 원래 데이터셋과 크기는 같지만, 대략 1/3 정도는 누락이 되고 나머지는 반복되는 값으로 채워짐\n",
    "- 예시: [a, b, c, d] ==> [b, d, d, c] or [d, a, d, a] or ....\n",
    "\n",
    "(3) 각각의 데이터셋으로 결정트리 만들기\n",
    "- 차별점: 전체 특성을 대상으로 하는 것이 아니라 후보 특성을 무작위로 선택하여 그 후보들만으로 테스트를 함\n",
    "- max_features 매개변수: 몇개의 후보 특성을 고를지 결정해야 함\n",
    "- 따라서 트리의 각 노드는 다른 후보 특성들을 사용하여 테스트를 진행함\n",
    "\n",
    "(4) max_features 사용시 유의점\n",
    "- max_features의 값을 크게 하면 트리들은 매우 비슷해 지고 가장 두드러진 특성을 이용해 맞추어짐\n",
    "- 예시: max_features 를 n_features로 하면 모든 특성을 고려해야 함으로 특성 선택의 무작위성이 없음\n",
    "- max_features의 값을 작게 하면 트리들은 많이 달라지고 데이터에 맞추기 위해 깊이가 깊어짐\n",
    "- 예시: max_features=1로 하면 테스트할 특성을 고를 필요없이 선택된 특성의 임계치만 찾으면 됨\n",
    "\n",
    "(5) 최종 모델 선택\n",
    "- 먼저 모든 트리의 예측을 하게함\n",
    "- 회귀의 경우는 이 예측들을 평균하여 최종 예측을 만듬\n",
    "- 분류의 경우는 약한 투표 전략 = 각 트리는 출력 레이블의 확률을 제공하고 이를 평균내어 가장 높은 것 선택"
   ]
  },
  {
   "cell_type": "markdown",
   "metadata": {},
   "source": [
    "two_moon 데이터 셋을 가지고 5개의 트리로 구성된 랜덤 포레스트 모델"
   ]
  },
  {
   "cell_type": "code",
   "execution_count": 16,
   "metadata": {},
   "outputs": [
    {
     "ename": "AttributeError",
     "evalue": "'tuple' object has no attribute 'shape'",
     "output_type": "error",
     "traceback": [
      "\u001b[1;31m---------------------------------------------------------------------------\u001b[0m",
      "\u001b[1;31mAttributeError\u001b[0m                            Traceback (most recent call last)",
      "\u001b[1;32m<ipython-input-16-3485e1f90d9e>\u001b[0m in \u001b[0;36m<module>\u001b[1;34m()\u001b[0m\n\u001b[0;32m      2\u001b[0m \u001b[1;33m\u001b[0m\u001b[0m\n\u001b[0;32m      3\u001b[0m \u001b[0mmoons\u001b[0m \u001b[1;33m=\u001b[0m \u001b[0mmake_moons\u001b[0m\u001b[1;33m(\u001b[0m\u001b[1;33m)\u001b[0m\u001b[1;33m\u001b[0m\u001b[0m\n\u001b[1;32m----> 4\u001b[1;33m \u001b[0mmoons\u001b[0m\u001b[1;33m.\u001b[0m\u001b[0mshape\u001b[0m\u001b[1;33m\u001b[0m\u001b[0m\n\u001b[0m",
      "\u001b[1;31mAttributeError\u001b[0m: 'tuple' object has no attribute 'shape'"
     ]
    }
   ],
   "source": [
    "from sklearn.datasets import make_moons\n",
    "\n",
    "moons = make_moons()\n",
    "moons.shape"
   ]
  },
  {
   "cell_type": "code",
   "execution_count": 17,
   "metadata": {},
   "outputs": [
    {
     "data": {
      "text/plain": [
       "(array([[  9.03976974e-01,  -4.95379113e-01],\n",
       "        [  8.71318704e-01,   4.90717552e-01],\n",
       "        [  1.87131870e+00,   9.28244800e-03],\n",
       "        [  9.90311321e-02,   6.61162609e-02],\n",
       "        [  2.22520934e-01,   9.74927912e-01],\n",
       "        [ -5.18392568e-01,   8.55142763e-01],\n",
       "        [  1.99794539e+00,   4.35929780e-01],\n",
       "        [  8.40400105e-01,  -4.87181783e-01],\n",
       "        [ -9.49055747e-01,   3.15108218e-01],\n",
       "        [  1.59599895e-01,   9.87181783e-01],\n",
       "        [  6.23489802e-01,   7.81831482e-01],\n",
       "        [  1.28681296e-01,   9.28244800e-03],\n",
       "        [  5.37461710e-01,  -3.86599306e-01],\n",
       "        [  1.98155916e+00,   3.08841371e-01],\n",
       "        [  3.27699110e-01,  -2.40277997e-01],\n",
       "        [  1.61911895e-01,  -4.55349012e-02],\n",
       "        [  8.20998618e-03,   3.72122838e-01],\n",
       "        [ -3.20515776e-02,   9.99486216e-01],\n",
       "        [  8.38088105e-01,   5.45534901e-01],\n",
       "        [  1.40478334e+00,  -4.14412623e-01],\n",
       "        [ -1.59599895e-01,   9.87181783e-01],\n",
       "        [ -9.81559157e-01,   1.91158629e-01],\n",
       "        [ -9.91790014e-01,   1.27877162e-01],\n",
       "        [ -9.60230259e-02,   9.95379113e-01],\n",
       "        [ -9.97945393e-01,   6.40702200e-02],\n",
       "        [ -4.62538290e-01,   8.86599306e-01],\n",
       "        [  1.00000000e+00,   0.00000000e+00],\n",
       "        [ -1.00000000e+00,   1.22464680e-16],\n",
       "        [  1.57211666e+00,  -3.20172255e-01],\n",
       "        [  6.54634946e-01,  -4.38468422e-01],\n",
       "        [  1.99179001e+00,   3.72122838e-01],\n",
       "        [  2.81650650e-01,  -1.95682551e-01],\n",
       "        [  2.38554042e-01,  -1.48228395e-01],\n",
       "        [  1.83808810e+00,  -4.55349012e-02],\n",
       "        [  1.98586378e-01,  -9.81105305e-02],\n",
       "        [  5.95216657e-01,  -4.14412623e-01],\n",
       "        [  9.91790014e-01,   1.27877162e-01],\n",
       "        [  7.61445958e-01,   6.48228395e-01],\n",
       "        [  7.30832427e-02,   1.24732995e-01],\n",
       "        [  1.28452759e+00,  -4.58667853e-01],\n",
       "        [  9.67948422e-01,  -4.99486216e-01],\n",
       "        [  1.15959990e+00,  -4.87181783e-01],\n",
       "        [ -9.00968868e-01,   4.33883739e-01],\n",
       "        [ -8.71318704e-01,   4.90717552e-01],\n",
       "        [ -3.45365054e-01,   9.38468422e-01],\n",
       "        [ -7.18349350e-01,   6.95682551e-01],\n",
       "        [  1.96729486e+00,   2.46345416e-01],\n",
       "        [  7.18349350e-01,   6.95682551e-01],\n",
       "        [  2.84527587e-01,   9.58667853e-01],\n",
       "        [  5.72116660e-01,   8.20172255e-01],\n",
       "        [  3.20515776e-02,   9.99486216e-01],\n",
       "        [ -9.26916757e-01,   3.75267005e-01],\n",
       "        [ -2.22520934e-01,   9.74927912e-01],\n",
       "        [  4.81607432e-01,  -3.55142763e-01],\n",
       "        [  9.49055747e-01,   3.15108218e-01],\n",
       "        [ -9.67294863e-01,   2.53654584e-01],\n",
       "        [  1.09602303e+00,  -4.95379113e-01],\n",
       "        [ -5.72116660e-01,   8.20172255e-01],\n",
       "        [  7.77479066e-01,  -4.74927912e-01],\n",
       "        [  9.67294863e-01,   2.53654584e-01],\n",
       "        [ -8.38088105e-01,   5.45534901e-01],\n",
       "        [  1.51839257e+00,  -3.55142763e-01],\n",
       "        [ -8.01413622e-01,   5.98110530e-01],\n",
       "        [  9.81559157e-01,   1.91158629e-01],\n",
       "        [  0.00000000e+00,   5.00000000e-01],\n",
       "        [  7.15472413e-01,  -4.58667853e-01],\n",
       "        [  3.27051370e-02,   2.46345416e-01],\n",
       "        [  1.62348980e+00,  -2.81831482e-01],\n",
       "        [  5.18392568e-01,   8.55142763e-01],\n",
       "        [ -2.84527587e-01,   9.58667853e-01],\n",
       "        [  1.22252093e+00,  -4.74927912e-01],\n",
       "        [  8.01413622e-01,   5.98110530e-01],\n",
       "        [  4.62538290e-01,   8.86599306e-01],\n",
       "        [  4.04783343e-01,   9.14412623e-01],\n",
       "        [  3.76510198e-01,  -2.81831482e-01],\n",
       "        [  1.84408430e-02,   3.08841371e-01],\n",
       "        [  9.00968868e-01,   4.33883739e-01],\n",
       "        [  9.97945393e-01,   6.40702200e-02],\n",
       "        [ -4.04783343e-01,   9.14412623e-01],\n",
       "        [  1.80141362e+00,  -9.81105305e-02],\n",
       "        [  2.00000000e+00,   5.00000000e-01],\n",
       "        [  1.67230089e+00,  -2.40277997e-01],\n",
       "        [  1.34536505e+00,  -4.38468422e-01],\n",
       "        [  1.46253829e+00,  -3.86599306e-01],\n",
       "        [  3.45365054e-01,   9.38468422e-01],\n",
       "        [  1.03205158e+00,  -4.99486216e-01],\n",
       "        [  4.27883340e-01,  -3.20172255e-01],\n",
       "        [  2.05460725e-03,   4.35929780e-01],\n",
       "        [  1.76144596e+00,  -1.48228395e-01],\n",
       "        [ -6.23489802e-01,   7.81831482e-01],\n",
       "        [  9.60230259e-02,   9.95379113e-01],\n",
       "        [  5.09442530e-02,   1.84891782e-01],\n",
       "        [  9.26916757e-01,   3.75267005e-01],\n",
       "        [  1.92691676e+00,   1.24732995e-01],\n",
       "        [  1.71834935e+00,  -1.95682551e-01],\n",
       "        [  1.94905575e+00,   1.84891782e-01],\n",
       "        [  6.72300890e-01,   7.40277997e-01],\n",
       "        [  1.90096887e+00,   6.61162609e-02],\n",
       "        [ -7.61445958e-01,   6.48228395e-01],\n",
       "        [ -6.72300890e-01,   7.40277997e-01]]),\n",
       " array([1, 0, 1, 1, 0, 0, 1, 1, 0, 0, 0, 1, 1, 1, 1, 1, 1, 0, 0, 1, 0, 0, 0,\n",
       "        0, 0, 0, 0, 0, 1, 1, 1, 1, 1, 1, 1, 1, 0, 0, 1, 1, 1, 1, 0, 0, 0, 0,\n",
       "        1, 0, 0, 0, 0, 0, 0, 1, 0, 0, 1, 0, 1, 0, 0, 1, 0, 0, 1, 1, 1, 1, 0,\n",
       "        0, 1, 0, 0, 0, 1, 1, 0, 0, 0, 1, 1, 1, 1, 1, 0, 1, 1, 1, 1, 0, 0, 1,\n",
       "        0, 1, 1, 1, 0, 1, 0, 0], dtype=int64))"
      ]
     },
     "execution_count": 17,
     "metadata": {},
     "output_type": "execute_result"
    }
   ],
   "source": [
    "from sklearn.datasets import make_moons\n",
    "\n",
    "moons = make_moons()\n",
    "moons"
   ]
  },
  {
   "cell_type": "code",
   "execution_count": 18,
   "metadata": {},
   "outputs": [
    {
     "data": {
      "text/plain": [
       "0    [[1.94905574701, 0.184891781976], [-0.15959989...\n",
       "1    [1, 0, 0, 1, 0, 0, 0, 0, 0, 1, 0, 1, 1, 0, 1, ...\n",
       "dtype: object"
      ]
     },
     "execution_count": 18,
     "metadata": {},
     "output_type": "execute_result"
    }
   ],
   "source": [
    "from sklearn.datasets import make_moons\n",
    "\n",
    "moons = make_moons()\n",
    "import pandas as pd\n",
    "moons_df = pd.Series(moons)\n",
    "moons_df.head()"
   ]
  },
  {
   "cell_type": "code",
   "execution_count": 19,
   "metadata": {},
   "outputs": [
    {
     "data": {
      "text/plain": [
       "(2,)"
      ]
     },
     "execution_count": 19,
     "metadata": {},
     "output_type": "execute_result"
    }
   ],
   "source": [
    "moons_df.shape"
   ]
  },
  {
   "cell_type": "code",
   "execution_count": 20,
   "metadata": {},
   "outputs": [
    {
     "data": {
      "text/plain": [
       "RandomForestClassifier(bootstrap=True, class_weight=None, criterion='gini',\n",
       "            max_depth=None, max_features='auto', max_leaf_nodes=None,\n",
       "            min_impurity_decrease=0.0, min_impurity_split=None,\n",
       "            min_samples_leaf=1, min_samples_split=2,\n",
       "            min_weight_fraction_leaf=0.0, n_estimators=5, n_jobs=1,\n",
       "            oob_score=False, random_state=2, verbose=0, warm_start=False)"
      ]
     },
     "execution_count": 20,
     "metadata": {},
     "output_type": "execute_result"
    }
   ],
   "source": [
    "from sklearn.ensemble import RandomForestClassifier\n",
    "from sklearn.datasets import make_moons\n",
    "\n",
    "X, y = make_moons(n_samples=100, noise=0.25, random_state=3)\n",
    "X_train, X_test, y_train, y_test = train_test_split(X, y, stratify=y, random_state=42)\n",
    "\n",
    "forest = RandomForestClassifier(n_estimators=5, random_state=2)\n",
    "forest.fit(X_train, y_train)"
   ]
  },
  {
   "cell_type": "markdown",
   "metadata": {},
   "source": [
    "랜덤포레스트 안에 만들어진 트리는 estimator_ 속성에 저장됩니다\n",
    "각 트리에서 학습된 결정 경계와 이를 취합해 만든 결정경계를 함께 시각화 해보자"
   ]
  },
  {
   "cell_type": "code",
   "execution_count": 21,
   "metadata": {},
   "outputs": [
    {
     "data": {
      "image/png": "[encoded data removed]",
      "text/plain": [
       "<matplotlib.figure.Figure at 0x1f639b1d208>"
      ]
     },
     "metadata": {},
     "output_type": "display_data"
    }
   ],
   "source": [
    "fig, axes = plt.subplots(2, 3, figsize=(20, 10))\n",
    "for i, (ax, tree) in enumerate(zip(axes.ravel(), forest.estimators_)):\n",
    "    ax.set_title(\"Tree {}\".format(i))\n",
    "    mglearn.plots.plot_tree_partition(X, y, tree, ax=ax)\n",
    "    \n",
    "mglearn.plots.plot_2d_separator(forest, X, fill=True, ax=axes[-1, -1], alpha=.4)\n",
    "axes[-1, -1].set_title(\"Random Forest\")\n",
    "mglearn.discrete_scatter(X[:, 0], X[:, 1], y);"
   ]
  },
  {
   "cell_type": "markdown",
   "metadata": {},
   "source": [
    "다섯개의 트리가 만든 결정 경계는 확실히 다릅니다.\n",
    "부트스트랩 샘플링 때문에 훈련 포인트가 서로 달라 각 트리는 불완전 합니다.\n",
    "\n",
    "그러나 랜덤포레스트는 개개의 트리보다는 덜 과대적합되고 훨씬 좋은 결정 경계를 만들어 줍니다."
   ]
  },
  {
   "cell_type": "markdown",
   "metadata": {},
   "source": [
    "유방암 데이터 세트로 100개의 트리로 이루어진 랜덤 포레스트 모델 만들기"
   ]
  },
  {
   "cell_type": "code",
   "execution_count": 22,
   "metadata": {},
   "outputs": [
    {
     "name": "stdout",
     "output_type": "stream",
     "text": [
      "훈련 세트 정확도: 1.000\n",
      "테스트 세트 정확도: 0.972\n"
     ]
    }
   ],
   "source": [
    "X_train, X_test, y_train, y_test = train_test_split(\n",
    "    cancer.data, cancer.target, random_state=0)\n",
    "forest = RandomForestClassifier(n_estimators=100, random_state=0)\n",
    "forest.fit(X_train, y_train)\n",
    "\n",
    "print(\"훈련 세트 정확도: {:.3f}\".format(forest.score(X_train, y_train)))\n",
    "print(\"테스트 세트 정확도: {:.3f}\".format(forest.score(X_test, y_test)))"
   ]
  },
  {
   "cell_type": "markdown",
   "metadata": {},
   "source": [
    "랜덤포레스트는 아무런 매개 변수 튜닝 없이 선형 모델이나 단일 결정 트리 보다 높은 97%의 정확도를 나타냄.\n",
    "물론 사전 가기치기나 max_features 매개변수를 활용하여 튜닝도 가능"
   ]
  },
  {
   "cell_type": "markdown",
   "metadata": {
    "collapsed": true
   },
   "source": [
    "랜덤 포레스트의 특성 중요도"
   ]
  },
  {
   "cell_type": "code",
   "execution_count": 23,
   "metadata": {},
   "outputs": [
    {
     "data": {
      "image/png": "[encoded data removed]",
      "text/plain": [
       "<matplotlib.figure.Figure at 0x1f63a322908>"
      ]
     },
     "metadata": {},
     "output_type": "display_data"
    }
   ],
   "source": [
    "plot_feature_importances_cancer(forest)"
   ]
  },
  {
   "cell_type": "markdown",
   "metadata": {},
   "source": [
    "랜덤포레스트의 경우 단일 결정트리 경우 보다 훨씬 많은 특성이 0 이상의 중요도를 갖는다\n",
    "\n",
    "단일 트리와 마찬가지로 worst radius 도 많은 정보를 가지고 있는 것으로 보고 있지만,\n",
    "랜덤 포레스트에서는 worst perimeter 를 가장 많은 정보를 가지고 있는 특성으로 보고 있음"
   ]
  },
  {
   "cell_type": "markdown",
   "metadata": {},
   "source": [
    "랜덤 포레스트에 대해 알아 두기\n",
    "\n",
    "(1) n_jobs 매개변수 \n",
    "- 사용할 CPU 코어의 수\n",
    "- n_jobs=-1 이면 컴퓨터의 모든 코어를 사용함\n",
    "\n",
    "(2) random_state \n",
    "- random_state를 지정하면 혹은 지정하지 않으면 전혀 다른 모델이 만들어 진다.\n",
    "- 랜덤 포레스트의 트리가 많을 수록 random_state 값의 변화에 따른 변동이 작아진다.\n",
    "- 만약 같은 결과를 만들어야 한다면 random_state 를 고정 하여야 한다\n",
    "\n",
    "(3) 고차원의 데이터(예: 텍스트 데이터)나 속도와 메모리 제약이 있는 경우는 선형모델이 유리\n",
    "\n",
    "(4) n_estimators 는 클수록 좋고, max_depth 로 사전 가지치기가 가능함\n",
    "\n",
    "(5) max_features의 경우는 기본값이 분류는 sqrt(n_features) 이고, 회귀는 n_features 인데,\n",
    "    대개의 경우 그대로 쓰는 것이 좋으나 변경 하면 가끔 성능이 좋아짐\n",
    "    \n",
    "(6) max_leaf_nodes 매개 변수도 성능을 향상 시키는데 도움이 될 수 있음"
   ]
  },
  {
   "cell_type": "markdown",
   "metadata": {},
   "source": [
    "Gradient Boosting\n",
    "\n",
    "(1) 정의\n",
    "이전 트리의 오차를 보완하는 방식으로 순차적으로 트리를 만듬. \n",
    "무작위성이 없고, 대신 강력한 사전 가지치기\n",
    "하나에서 다섯 정도의 깊지않은 트리를 사용함\n",
    "\n",
    "(2) 배경 \n",
    "얕은 트리같은 간단한 모델(약한 학습기)을 많이 연결하여 메모리를 적게 사용하게 하고 빠른 예측을 할 수 있음\n",
    "\n",
    "(3) 구현 전략\n",
    "- 매개변수 설정에 조금 더 민감하지만 잘 조정하면 더 높은 정확도를 가져다 줌 \n",
    "- learning_rate: 이전 트리의 오차를 얼마나 강하게 보정할 것인지를 제어함\n",
    "- n_estimators의 값을 키우면 앙상블에 트리가 더 많이 추가되어 모델의 복잡도가 커지고 훈련세트의 실수를 바로 잡   을 기회가 많아짐\n"
   ]
  },
  {
   "cell_type": "markdown",
   "metadata": {},
   "source": [
    "유방암 데이터셋으로 GradientBoostingClassifier를 상요한 예\n",
    "\n",
    "기본값인깊이가 3인 트리 100개와 학습률 0.1을 사용"
   ]
  },
  {
   "cell_type": "code",
   "execution_count": 24,
   "metadata": {},
   "outputs": [
    {
     "name": "stdout",
     "output_type": "stream",
     "text": [
      "훈련 세트 정확도: 1.000\n",
      "테스트 세트 정확도: 0.958\n"
     ]
    }
   ],
   "source": [
    "from sklearn.ensemble import GradientBoostingClassifier\n",
    "\n",
    "X_train, X_test, y_train, y_test = train_test_split(\n",
    "    cancer.data, cancer.target, random_state=0)\n",
    "\n",
    "gbrt = GradientBoostingClassifier(random_state=0)\n",
    "gbrt.fit(X_train, y_train)\n",
    "\n",
    "print(\"훈련 세트 정확도: {:.3f}\".format(gbrt.score(X_train, y_train)))\n",
    "print(\"테스트 세트 정확도: {:.3f}\".format(gbrt.score(X_test, y_test)))"
   ]
  },
  {
   "cell_type": "markdown",
   "metadata": {},
   "source": [
    "훈련세트의 정확도가 100%인것으로 미루어 과대적합임\n",
    "\n",
    "트리의 최대 깊이를 줄여 사전 가기치기를 하거나 학습율울 낮추는 방법을 시도"
   ]
  },
  {
   "cell_type": "code",
   "execution_count": 25,
   "metadata": {},
   "outputs": [
    {
     "name": "stdout",
     "output_type": "stream",
     "text": [
      "훈련 세트 정확도: 0.991\n",
      "테스트 세트 정확도: 0.972\n"
     ]
    }
   ],
   "source": [
    "gbrt = GradientBoostingClassifier(random_state=0, max_depth=1)\n",
    "gbrt.fit(X_train, y_train)\n",
    "\n",
    "print(\"훈련 세트 정확도: {:.3f}\".format(gbrt.score(X_train, y_train)))\n",
    "print(\"테스트 세트 정확도: {:.3f}\".format(gbrt.score(X_test, y_test)))"
   ]
  },
  {
   "cell_type": "code",
   "execution_count": 26,
   "metadata": {},
   "outputs": [
    {
     "name": "stdout",
     "output_type": "stream",
     "text": [
      "훈련 세트 정확도: 0.988\n",
      "테스트 세트 정확도: 0.965\n"
     ]
    }
   ],
   "source": [
    "gbrt = GradientBoostingClassifier(random_state=0, learning_rate=0.01)\n",
    "gbrt.fit(X_train, y_train)\n",
    "\n",
    "print(\"훈련 세트 정확도: {:.3f}\".format(gbrt.score(X_train, y_train)))\n",
    "print(\"테스트 세트 정확도: {:.3f}\".format(gbrt.score(X_test, y_test)))"
   ]
  },
  {
   "cell_type": "markdown",
   "metadata": {},
   "source": [
    "특성 중요도 시각화"
   ]
  },
  {
   "cell_type": "code",
   "execution_count": 27,
   "metadata": {},
   "outputs": [
    {
     "data": {
      "image/png": "[encoded data removed]",
      "text/plain": [
       "<matplotlib.figure.Figure at 0x1f63a346d30>"
      ]
     },
     "metadata": {},
     "output_type": "display_data"
    }
   ],
   "source": [
    "gbrt = GradientBoostingClassifier(random_state=0, max_depth=1)\n",
    "gbrt.fit(X_train, y_train)\n",
    "\n",
    "plot_feature_importances_cancer(gbrt)"
   ]
  },
  {
   "cell_type": "markdown",
   "metadata": {},
   "source": [
    "랜덤포레스트와 비슷하나 그래디언트에서는 일부 특성은 완전 무시되고 있음\n",
    "\n",
    "통상 랜덤포레스트를 먼저 적용해 보고 특별한 경우만 그래디언트 사용한다\n",
    "\n",
    "learning_rate를 낮추면 통상 n_estimators를 높이는 게 좋으며, n_estimators는 많을 수록 좋습니다."
   ]
  },
  {
   "cell_type": "code",
   "execution_count": null,
   "metadata": {
    "collapsed": true
   },
   "outputs": [],
   "source": []
  }
 ],
 "metadata": {
  "kernelspec": {
   "display_name": "Python 3",
   "language": "python",
   "name": "python3"
  },
  "language_info": {
   "codemirror_mode": {
    "name": "ipython",
    "version": 3
   },
   "file_extension": ".py",
   "mimetype": "text/x-python",
   "name": "python",
   "nbconvert_exporter": "python",
   "pygments_lexer": "ipython3",
   "version": "3.6.2"
  }
 },
 "nbformat": 4,
 "nbformat_minor": 2
}
