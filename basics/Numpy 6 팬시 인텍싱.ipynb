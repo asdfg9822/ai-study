{
 "cells": [
  {
   "cell_type": "markdown",
   "metadata": {},
   "source": [
    "팬시 인덱싱\n",
    "\n",
    "단일 스칼라 대신 인덱스 배열을 전달한다 ==> 복잡한 배열 값의 하위 집합에 빠르게 접근 가능함"
   ]
  },
  {
   "cell_type": "code",
   "execution_count": 1,
   "metadata": {},
   "outputs": [
    {
     "data": {
      "text/plain": [
       "array([51, 92, 14, 71, 60, 20, 82, 86, 74, 74])"
      ]
     },
     "execution_count": 1,
     "metadata": {},
     "output_type": "execute_result"
    }
   ],
   "source": [
    "import numpy as np\n",
    "rand = np.random.RandomState(42)\n",
    "x = rand.randint(100, size=10)\n",
    "x"
   ]
  },
  {
   "cell_type": "markdown",
   "metadata": {},
   "source": [
    "Init signature: np.random.RandomState(self, /, *args, **kwargs)\n",
    "Docstring:     \n",
    "RandomState(seed=None)\n",
    "\n",
    "Container for the Mersenne Twister pseudo-random number generator.\n",
    "\n",
    "`RandomState` exposes a number of methods for generating random numbers\n",
    "drawn from a variety of probability distributions. In addition to the\n",
    "distribution-specific arguments, each method takes a keyword argument\n",
    "`size` that defaults to ``None``. If `size` is ``None``, then a single\n",
    "value is generated and returned. If `size` is an integer, then a 1-D\n",
    "array filled with generated values is returned. If `size` is a tuple,\n",
    "then an array with that shape is filled and returned.\n",
    "\n",
    "*Compatibility Guarantee*\n",
    "A fixed seed and a fixed series of calls to 'RandomState' methods using\n",
    "the same parameters will always produce the same results up to roundoff\n",
    "error except when the values were incorrect. Incorrect values will be\n",
    "fixed and the NumPy version in which the fix was made will be noted in\n",
    "the relevant docstring. Extension of existing parameter ranges and the\n",
    "addition of new parameters is allowed as long the previous behavior\n",
    "remains unchanged.\n",
    "\n",
    "Parameters\n",
    "----------\n",
    "seed : {None, int, array_like}, optional\n",
    "    Random seed used to initialize the pseudo-random number generator.  Can\n",
    "    be any integer between 0 and 2**32 - 1 inclusive, an array (or other\n",
    "    sequence) of such integers, or ``None`` (the default).  If `seed` is\n",
    "    ``None``, then `RandomState` will try to read data from\n",
    "    ``/dev/urandom`` (or the Windows analogue) if available or seed from\n",
    "    the clock otherwise.\n",
    "\n",
    "Notes\n",
    "-----\n",
    "The Python stdlib module \"random\" also contains a Mersenne Twister\n",
    "pseudo-random number generator with a number of methods that are similar\n",
    "to the ones available in `RandomState`. `RandomState`, besides being\n",
    "NumPy-aware, has the advantage that it provides a much larger number\n",
    "of probability distributions to choose from.\n",
    "File:           c:\\users\\jsong\\anaconda3\\lib\\site-packages\\numpy\\random\\mtrand.cp36-win_amd64.pyd\n",
    "Type:           type"
   ]
  },
  {
   "cell_type": "code",
   "execution_count": 5,
   "metadata": {},
   "outputs": [
    {
     "data": {
      "text/plain": [
       "[71, 86, 14]"
      ]
     },
     "execution_count": 5,
     "metadata": {},
     "output_type": "execute_result"
    }
   ],
   "source": [
    "[x[3], x[7], x[2]]"
   ]
  },
  {
   "cell_type": "code",
   "execution_count": 6,
   "metadata": {},
   "outputs": [
    {
     "data": {
      "text/plain": [
       "array([71, 86, 14])"
      ]
     },
     "execution_count": 6,
     "metadata": {},
     "output_type": "execute_result"
    }
   ],
   "source": [
    "ind = [3,7,2]\n",
    "x[ind]"
   ]
  },
  {
   "cell_type": "markdown",
   "metadata": {},
   "source": [
    "팬시 인덱싱을 사용하면 인덱싱 대상을 나타내는 것이 아니라 인덱스된 배열 자체를 나타냄"
   ]
  },
  {
   "cell_type": "code",
   "execution_count": 7,
   "metadata": {},
   "outputs": [
    {
     "data": {
      "text/plain": [
       "array([[71, 86],\n",
       "       [60, 20]])"
      ]
     },
     "execution_count": 7,
     "metadata": {},
     "output_type": "execute_result"
    }
   ],
   "source": [
    "ind = np.array([[3,7],\n",
    "               [4,5]])\n",
    "x[ind]"
   ]
  },
  {
   "cell_type": "code",
   "execution_count": 8,
   "metadata": {},
   "outputs": [
    {
     "data": {
      "text/plain": [
       "array([[ 0,  1,  2,  3],\n",
       "       [ 4,  5,  6,  7],\n",
       "       [ 8,  9, 10, 11]])"
      ]
     },
     "execution_count": 8,
     "metadata": {},
     "output_type": "execute_result"
    }
   ],
   "source": [
    "X = np.arange(12).reshape((3,4))\n",
    "X"
   ]
  },
  {
   "cell_type": "code",
   "execution_count": 9,
   "metadata": {},
   "outputs": [
    {
     "data": {
      "text/plain": [
       "array([ 2,  5, 11])"
      ]
     },
     "execution_count": 9,
     "metadata": {},
     "output_type": "execute_result"
    }
   ],
   "source": [
    "row = np.array([0,1,2]) # X[0,1], X[1,1], X[2,3] 을 인텍싱 한 것과 같다\n",
    "col = np.array([2,1,3])\n",
    "X[row,col]"
   ]
  },
  {
   "cell_type": "markdown",
   "metadata": {},
   "source": [
    "팬시 인텍싱은 브로드캐스팅을 그대로 따른다"
   ]
  },
  {
   "cell_type": "code",
   "execution_count": 10,
   "metadata": {},
   "outputs": [
    {
     "data": {
      "text/plain": [
       "array([[ 2,  1,  3],\n",
       "       [ 6,  5,  7],\n",
       "       [10,  9, 11]])"
      ]
     },
     "execution_count": 10,
     "metadata": {},
     "output_type": "execute_result"
    }
   ],
   "source": [
    "X[row[:, np.newaxis], col]"
   ]
  },
  {
   "cell_type": "code",
   "execution_count": 11,
   "metadata": {},
   "outputs": [
    {
     "data": {
      "text/plain": [
       "array([[0, 0, 0],\n",
       "       [2, 1, 3],\n",
       "       [4, 2, 6]])"
      ]
     },
     "execution_count": 11,
     "metadata": {},
     "output_type": "execute_result"
    }
   ],
   "source": [
    "row[:, np.newaxis]*col"
   ]
  },
  {
   "cell_type": "markdown",
   "metadata": {},
   "source": [
    "결합인덱싱(팬시 인덱싱과 기본 인덱싱을 결합하여 더욱 강력한 인덱싱 가능)"
   ]
  },
  {
   "cell_type": "code",
   "execution_count": 13,
   "metadata": {},
   "outputs": [
    {
     "data": {
      "text/plain": [
       "array([[ 0,  1,  2,  3],\n",
       "       [ 4,  5,  6,  7],\n",
       "       [ 8,  9, 10, 11]])"
      ]
     },
     "execution_count": 13,
     "metadata": {},
     "output_type": "execute_result"
    }
   ],
   "source": [
    "X"
   ]
  },
  {
   "cell_type": "code",
   "execution_count": 14,
   "metadata": {},
   "outputs": [
    {
     "data": {
      "text/plain": [
       "array([10,  8,  9])"
      ]
     },
     "execution_count": 14,
     "metadata": {},
     "output_type": "execute_result"
    }
   ],
   "source": [
    "X[2, [2,0,1]]"
   ]
  },
  {
   "cell_type": "code",
   "execution_count": 15,
   "metadata": {},
   "outputs": [
    {
     "data": {
      "text/plain": [
       "array([[ 6,  4,  5],\n",
       "       [10,  8,  9]])"
      ]
     },
     "execution_count": 15,
     "metadata": {},
     "output_type": "execute_result"
    }
   ],
   "source": [
    "X[1:, [2,0,1]]"
   ]
  },
  {
   "cell_type": "code",
   "execution_count": 16,
   "metadata": {},
   "outputs": [
    {
     "data": {
      "text/plain": [
       "array([[ 0,  2],\n",
       "       [ 4,  6],\n",
       "       [ 8, 10]])"
      ]
     },
     "execution_count": 16,
     "metadata": {},
     "output_type": "execute_result"
    }
   ],
   "source": [
    "mask = np.array([1,0,1,0], dtype=bool)\n",
    "X[row[:, np.newaxis], mask]"
   ]
  },
  {
   "cell_type": "markdown",
   "metadata": {},
   "source": [
    "예제: 임의의 점 선택하기"
   ]
  },
  {
   "cell_type": "code",
   "execution_count": 17,
   "metadata": {},
   "outputs": [
    {
     "data": {
      "text/plain": [
       "(100, 2)"
      ]
     },
     "execution_count": 17,
     "metadata": {},
     "output_type": "execute_result"
    }
   ],
   "source": [
    "mean = [0,0]\n",
    "cov = [[1,2],\n",
    "      [2,5]]\n",
    "X = rand.multivariate_normal(mean, cov, 100)\n",
    "X.shape"
   ]
  },
  {
   "cell_type": "code",
   "execution_count": 18,
   "metadata": {},
   "outputs": [
    {
     "data": {
      "image/png": "[encoded data removed]",
      "text/plain": [
       "<matplotlib.figure.Figure at 0x25517b32128>"
      ]
     },
     "metadata": {},
     "output_type": "display_data"
    }
   ],
   "source": [
    "%matplotlib inline\n",
    "import matplotlib.pyplot as plt\n",
    "import seaborn; seaborn.set() # 플롯 스타일 설정\n",
    "plt.scatter(X[:, 0], X[:, 1]);"
   ]
  },
  {
   "cell_type": "code",
   "execution_count": 22,
   "metadata": {},
   "outputs": [
    {
     "data": {
      "text/plain": [
       "array([89,  3, 98, 24, 44, 93, 20, 70, 34,  6, 19, 91, 62, 77,  7, 28, 68,\n",
       "       76, 83, 18])"
      ]
     },
     "execution_count": 22,
     "metadata": {},
     "output_type": "execute_result"
    }
   ],
   "source": [
    "# 팬시 인덱싱을 통하여 임의의 점 20개를 선택하자\n",
    "# 우선 반복 없이임의로 인텍스를 20개 선택하고 그 인덱스를 사용해 원본 배열의 일부를 선택한다\n",
    "\n",
    "indices = np.random.choice(X.shape[0], 20, replace=False)\n",
    "indices"
   ]
  },
  {
   "cell_type": "code",
   "execution_count": 23,
   "metadata": {},
   "outputs": [
    {
     "data": {
      "text/plain": [
       "array([[ 0.51575983,  2.30284639],\n",
       "       [ 2.04998983,  5.97778598],\n",
       "       [-0.99658689, -2.35038099],\n",
       "       [ 0.4299908 ,  0.36324254],\n",
       "       [-1.06505097, -2.88726779],\n",
       "       [-0.83504984, -2.38632016],\n",
       "       [ 1.58115602,  2.86410319],\n",
       "       [-1.16586444, -2.24482237],\n",
       "       [ 0.91181024,  3.32968944],\n",
       "       [ 1.46860232,  1.22961093],\n",
       "       [-0.50886808, -1.81099656],\n",
       "       [-0.16863279,  0.39422355],\n",
       "       [ 0.10259314,  1.24690575],\n",
       "       [ 0.30414557, -0.5828419 ],\n",
       "       [ 0.35282131,  1.49875397],\n",
       "       [-0.88473953, -1.81495444],\n",
       "       [ 0.69758045,  0.72563649],\n",
       "       [-0.53334959, -0.37039911],\n",
       "       [ 0.74577693,  1.95834451],\n",
       "       [ 1.53817376,  1.99973464]])"
      ]
     },
     "execution_count": 23,
     "metadata": {},
     "output_type": "execute_result"
    }
   ],
   "source": [
    "selection = X[indices] # 팬시 인덱싱 사용함\n",
    "selection"
   ]
  },
  {
   "cell_type": "code",
   "execution_count": 24,
   "metadata": {},
   "outputs": [
    {
     "data": {
      "text/plain": [
       "(20, 2)"
      ]
     },
     "execution_count": 24,
     "metadata": {},
     "output_type": "execute_result"
    }
   ],
   "source": [
    "selection.shape"
   ]
  },
  {
   "cell_type": "code",
   "execution_count": 33,
   "metadata": {},
   "outputs": [
    {
     "data": {
      "image/png": "[encoded data removed]",
      "text/plain": [
       "<matplotlib.figure.Figure at 0x2551bbc5940>"
      ]
     },
     "metadata": {},
     "output_type": "display_data"
    }
   ],
   "source": [
    "# 어떤 점이 사용 되었는지 큰 동그라미로 표현하자\n",
    "\n",
    "plt.scatter(X[:, 0], X[:, 1], alpha=1.0)\n",
    "plt.scatter(selection[:, 0], selection[:, 1], facecolor='red', s=200);"
   ]
  },
  {
   "cell_type": "markdown",
   "metadata": {},
   "source": [
    "팬시 인덱싱으로 값 표현하기"
   ]
  },
  {
   "cell_type": "code",
   "execution_count": 35,
   "metadata": {},
   "outputs": [
    {
     "data": {
      "text/plain": [
       "array([ 0, 99, 99,  3, 99,  5,  6,  7, 99,  9])"
      ]
     },
     "execution_count": 35,
     "metadata": {},
     "output_type": "execute_result"
    }
   ],
   "source": [
    "x = np.arange(10)\n",
    "i = np.array([2,1,8,4])\n",
    "x[i] = 99\n",
    "x"
   ]
  },
  {
   "cell_type": "code",
   "execution_count": 36,
   "metadata": {},
   "outputs": [
    {
     "data": {
      "text/plain": [
       "array([ 0, 89, 89,  3, 89,  5,  6,  7, 89,  9])"
      ]
     },
     "execution_count": 36,
     "metadata": {},
     "output_type": "execute_result"
    }
   ],
   "source": [
    "x[i] -= 10\n",
    "x"
   ]
  },
  {
   "cell_type": "code",
   "execution_count": 37,
   "metadata": {},
   "outputs": [
    {
     "data": {
      "text/plain": [
       "array([ 6.,  0.,  0.,  0.,  0.,  0.,  0.,  0.,  0.,  0.])"
      ]
     },
     "execution_count": 37,
     "metadata": {},
     "output_type": "execute_result"
    }
   ],
   "source": [
    "x = np.zeros(10)\n",
    "x[[0,0]] = [4,6] # x[0]에 4가 먼저 할당 그러나 x[0]에 6이 다시 할당 따라서 4는 사라지고...\n",
    "x"
   ]
  },
  {
   "cell_type": "code",
   "execution_count": 38,
   "metadata": {},
   "outputs": [
    {
     "data": {
      "text/plain": [
       "array([ 6.,  0.,  1.,  1.,  1.,  0.,  0.,  0.,  0.,  0.])"
      ]
     },
     "execution_count": 38,
     "metadata": {},
     "output_type": "execute_result"
    }
   ],
   "source": [
    "i = [2,3,3,4,4,4]\n",
    "x[i] += 1 # 해당 인덱스에 1을 더하라는 뜻\n",
    "x"
   ]
  },
  {
   "cell_type": "markdown",
   "metadata": {},
   "source": [
    "연산이 반복되는 곳에서 다른 실행을 원한다면? \n",
    "\n",
    "유니버셜 함수의 at() 메서드를 쓰면 된다"
   ]
  },
  {
   "cell_type": "code",
   "execution_count": 39,
   "metadata": {},
   "outputs": [
    {
     "data": {
      "text/plain": [
       "array([ 0.,  0.,  1.,  2.,  3.,  0.,  0.,  0.,  0.,  0.])"
      ]
     },
     "execution_count": 39,
     "metadata": {},
     "output_type": "execute_result"
    }
   ],
   "source": [
    "x = np.zeros(10)\n",
    "i = [2,3,3,4,4,4]\n",
    "np.add.at(x, i, 1) # 지정한 값 1을 해당 인덱스(i)에 해당연산자(add)를 인덱싱 된 수 만큼 반복\n",
    "x"
   ]
  },
  {
   "cell_type": "markdown",
   "metadata": {},
   "source": [
    "at(a, indices, b=None)\n",
    "\n",
    "Performs unbuffered in place operation on operand 'a' for elements\n",
    "specified by 'indices'. For addition ufunc, this method is equivalent to\n",
    "`a[indices] += b`, except that results are accumulated for elements that\n",
    "are indexed more than once. For example, `a[[0,0]] += 1` will only\n",
    "increment the first element once because of buffering, whereas\n",
    "`add.at(a, [0,0], 1)` will increment the first element twice.\n",
    "\n",
    ".. versionadded:: 1.8.0\n",
    "\n",
    "Parameters\n",
    "----------\n",
    "a : array_like\n",
    "    The array to perform in place operation on.\n",
    "indices : array_like or tuple\n",
    "    Array like index object or slice object for indexing into first\n",
    "    operand. If first operand has multiple dimensions, indices can be a\n",
    "    tuple of array like index objects or slice objects.\n",
    "b : array_like\n",
    "    Second operand for ufuncs requiring two operands. Operand must be\n",
    "    broadcastable over first operand after indexing or slicing.\n",
    "\n",
    "Examples\n",
    "--------\n",
    "Set items 0 and 1 to their negative values:\n",
    "\n",
    ">>> a = np.array([1, 2, 3, 4])\n",
    ">>> np.negative.at(a, [0, 1])\n",
    ">>> print(a)\n",
    "array([-1, -2, 3, 4])\n",
    "\n",
    "::\n",
    "\n",
    "Increment items 0 and 1, and increment item 2 twice:\n",
    "\n",
    ">>> a = np.array([1, 2, 3, 4])\n",
    ">>> np.add.at(a, [0, 1, 2, 2], 1)\n",
    ">>> print(a)\n",
    "array([2, 3, 5, 4])\n",
    "\n",
    "::\n",
    "\n",
    "Add items 0 and 1 in first array to second array,\n",
    "and store results in first array:\n",
    "\n",
    ">>> a = np.array([1, 2, 3, 4])\n",
    ">>> b = np.array([1, 2])\n",
    ">>> np.add.at(a, [0, 1], b)\n",
    ">>> print(a)\n",
    "array([2, 4, 3, 4])\n",
    "Type:      builtin_function_or_method"
   ]
  },
  {
   "cell_type": "markdown",
   "metadata": {},
   "source": [
    "예제: 데이터 구간화 \n",
    "\n",
    "at()를 쓰면 데이터를 구간화 하여 히스토그램을 만들 수 있다\n",
    "즉 값들이 구간내에 속한 위치를 빨리 파악할 수 있다"
   ]
  },
  {
   "cell_type": "code",
   "execution_count": 40,
   "metadata": {
    "collapsed": true
   },
   "outputs": [],
   "source": [
    "np.random.seed(42)\n",
    "x = np.random.randn(100)\n",
    "\n",
    "# 직접 히스토그램 계산하기\n",
    "\n",
    "bins = np.linspace(-5, 5, 20)\n",
    "counts = np.zeros_like(bins)\n",
    "\n",
    "# 각 x에 대한 적절한 구간 찾기\n",
    "\n",
    "i = np.searchsorted(bins, x)\n",
    "\n",
    "# 각 구간에 1 더하기\n",
    "\n",
    "np.add.at(counts, i, 1)\n"
   ]
  },
  {
   "cell_type": "code",
   "execution_count": 41,
   "metadata": {},
   "outputs": [
    {
     "data": {
      "image/png": "[encoded data removed]",
      "text/plain": [
       "<matplotlib.figure.Figure at 0x2551bed8b00>"
      ]
     },
     "metadata": {},
     "output_type": "display_data"
    }
   ],
   "source": [
    "plt.plot(bins, counts, linestyle='steps');"
   ]
  },
  {
   "cell_type": "code",
   "execution_count": null,
   "metadata": {
    "collapsed": true
   },
   "outputs": [],
   "source": []
  },
  {
   "cell_type": "code",
   "execution_count": null,
   "metadata": {
    "collapsed": true
   },
   "outputs": [],
   "source": []
  },
  {
   "cell_type": "code",
   "execution_count": null,
   "metadata": {
    "collapsed": true
   },
   "outputs": [],
   "source": []
  },
  {
   "cell_type": "code",
   "execution_count": null,
   "metadata": {
    "collapsed": true
   },
   "outputs": [],
   "source": []
  }
 ],
 "metadata": {
  "kernelspec": {
   "display_name": "Python 3",
   "language": "python",
   "name": "python3"
  },
  "language_info": {
   "codemirror_mode": {
    "name": "ipython",
    "version": 3
   },
   "file_extension": ".py",
   "mimetype": "text/x-python",
   "name": "python",
   "nbconvert_exporter": "python",
   "pygments_lexer": "ipython3",
   "version": "3.6.3"
  }
 },
 "nbformat": 4,
 "nbformat_minor": 2
}
