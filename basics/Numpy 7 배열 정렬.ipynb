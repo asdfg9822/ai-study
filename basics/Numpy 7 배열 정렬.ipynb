{
 "cells": [
  {
   "cell_type": "markdown",
   "metadata": {},
   "source": [
    "Numpy의 빠른 정렬\n",
    "\n",
    "np.sort ; 바로 배열의 정렬 버전을 리턴한다\n",
    "np.argsort ; 정렬된 요소의 인덱스를 리턴한다"
   ]
  },
  {
   "cell_type": "code",
   "execution_count": 1,
   "metadata": {},
   "outputs": [
    {
     "data": {
      "text/plain": [
       "array([1, 2, 3, 4, 5])"
      ]
     },
     "execution_count": 1,
     "metadata": {},
     "output_type": "execute_result"
    }
   ],
   "source": [
    "import numpy as np\n",
    "\n",
    "x = np.array([2,1,4,3,5])\n",
    "np.sort(x)"
   ]
  },
  {
   "cell_type": "code",
   "execution_count": 2,
   "metadata": {},
   "outputs": [
    {
     "data": {
      "text/plain": [
       "array([1, 2, 3, 4, 5])"
      ]
     },
     "execution_count": 2,
     "metadata": {},
     "output_type": "execute_result"
    }
   ],
   "source": [
    "x.sort()\n",
    "x"
   ]
  },
  {
   "cell_type": "code",
   "execution_count": 3,
   "metadata": {},
   "outputs": [
    {
     "name": "stdout",
     "output_type": "stream",
     "text": [
      "[1 0 3 2 4]\n"
     ]
    }
   ],
   "source": [
    "x = np.array([2,1,4,3,5])\n",
    "i = np.argsort(x)\n",
    "print(i)"
   ]
  },
  {
   "cell_type": "code",
   "execution_count": 4,
   "metadata": {},
   "outputs": [
    {
     "data": {
      "text/plain": [
       "array([1, 0, 3, 2, 4], dtype=int64)"
      ]
     },
     "execution_count": 4,
     "metadata": {},
     "output_type": "execute_result"
    }
   ],
   "source": [
    "x = np.array([2,1,4,3,5])\n",
    "i = np.argsort(x)\n",
    "i"
   ]
  },
  {
   "cell_type": "code",
   "execution_count": 5,
   "metadata": {},
   "outputs": [
    {
     "data": {
      "text/plain": [
       "array([1, 2, 3, 4, 5])"
      ]
     },
     "execution_count": 5,
     "metadata": {},
     "output_type": "execute_result"
    }
   ],
   "source": [
    "x[i] # 팬시 인덱싱을 통한 정렬"
   ]
  },
  {
   "cell_type": "markdown",
   "metadata": {},
   "source": [
    "행이나 열 기준으로 정렬하기\n",
    "\n",
    "axis인수를 사용해 다차원 배열의 특정 행이나 열에 따라 정렬 가능"
   ]
  },
  {
   "cell_type": "code",
   "execution_count": 6,
   "metadata": {},
   "outputs": [
    {
     "data": {
      "text/plain": [
       "array([[6, 3, 7, 4, 6, 9],\n",
       "       [2, 6, 7, 4, 3, 7],\n",
       "       [7, 2, 5, 4, 1, 7],\n",
       "       [5, 1, 4, 0, 9, 5]])"
      ]
     },
     "execution_count": 6,
     "metadata": {},
     "output_type": "execute_result"
    }
   ],
   "source": [
    "rand = np.random.RandomState(42)\n",
    "X = rand.randint(0, 10, (4,6))\n",
    "X"
   ]
  },
  {
   "cell_type": "code",
   "execution_count": 7,
   "metadata": {},
   "outputs": [
    {
     "data": {
      "text/plain": [
       "array([[2, 1, 4, 0, 1, 5],\n",
       "       [5, 2, 5, 4, 3, 7],\n",
       "       [6, 3, 7, 4, 6, 7],\n",
       "       [7, 6, 7, 4, 9, 9]])"
      ]
     },
     "execution_count": 7,
     "metadata": {},
     "output_type": "execute_result"
    }
   ],
   "source": [
    "# X의 각 열을 정렬\n",
    "np.sort(X, axis=0)"
   ]
  },
  {
   "cell_type": "code",
   "execution_count": 8,
   "metadata": {},
   "outputs": [
    {
     "data": {
      "text/plain": [
       "array([[3, 4, 6, 6, 7, 9],\n",
       "       [2, 3, 4, 6, 7, 7],\n",
       "       [1, 2, 4, 5, 7, 7],\n",
       "       [0, 1, 4, 5, 5, 9]])"
      ]
     },
     "execution_count": 8,
     "metadata": {},
     "output_type": "execute_result"
    }
   ],
   "source": [
    "# X의 각 행을 정렬\n",
    "np.sort(X, axis=1)"
   ]
  },
  {
   "cell_type": "markdown",
   "metadata": {},
   "source": [
    "부분 정렬: 파티션 나누기 np.partition 함수==> k개의 가장 작은 값이 먼저 임의로 나열되고 오른쪽에는 나머지가 임의의 순서로 채워짐"
   ]
  },
  {
   "cell_type": "markdown",
   "metadata": {},
   "source": [
    "Signature: np.partition(a, kth, axis=-1, kind='introselect', order=None)\n",
    "Docstring:\n",
    "Return a partitioned copy of an array.\n",
    "\n",
    "Creates a copy of the array with its elements rearranged in such a\n",
    "way that the value of the element in k-th position is in the\n",
    "position it would be in a sorted array. All elements smaller than\n",
    "the k-th element are moved before this element and all equal or\n",
    "greater are moved behind it. The ordering of the elements in the two\n",
    "partitions is undefined.\n",
    "\n",
    ".. versionadded:: 1.8.0\n",
    "\n",
    "Parameters\n",
    "----------\n",
    "a : array_like\n",
    "    Array to be sorted.\n",
    "kth : int or sequence of ints\n",
    "    Element index to partition by. The k-th value of the element\n",
    "    will be in its final sorted position and all smaller elements\n",
    "    will be moved before it and all equal or greater elements behind\n",
    "    it. The order all elements in the partitions is undefined. If\n",
    "    provided with a sequence of k-th it will partition all elements\n",
    "    indexed by k-th  of them into their sorted position at once.\n",
    "axis : int or None, optional\n",
    "    Axis along which to sort. If None, the array is flattened before\n",
    "    sorting. The default is -1, which sorts along the last axis.\n",
    "kind : {'introselect'}, optional\n",
    "    Selection algorithm. Default is 'introselect'.\n",
    "order : str or list of str, optional\n",
    "    When `a` is an array with fields defined, this argument\n",
    "    specifies which fields to compare first, second, etc.  A single\n",
    "    field can be specified as a string.  Not all fields need be\n",
    "    specified, but unspecified fields will still be used, in the\n",
    "    order in which they come up in the dtype, to break ties.\n",
    "\n",
    "Returns\n",
    "-------\n",
    "partitioned_array : ndarray\n",
    "    Array of the same type and shape as `a`.\n",
    "\n",
    "See Also\n",
    "--------\n",
    "ndarray.partition : Method to sort an array in-place.\n",
    "argpartition : Indirect partition.\n",
    "sort : Full sorting\n",
    "\n",
    "Notes\n",
    "-----\n",
    "The various selection algorithms are characterized by their average\n",
    "speed, worst case performance, work space size, and whether they are\n",
    "stable. A stable sort keeps items with the same key in the same\n",
    "relative order. The available algorithms have the following\n",
    "properties:\n",
    "\n",
    "================= ======= ============= ============ =======\n",
    "   kind            speed   worst case    work space  stable\n",
    "================= ======= ============= ============ =======\n",
    "'introselect'        1        O(n)           0         no\n",
    "================= ======= ============= ============ =======\n",
    "\n",
    "All the partition algorithms make temporary copies of the data when\n",
    "partitioning along any but the last axis.  Consequently,\n",
    "partitioning along the last axis is faster and uses less space than\n",
    "partitioning along any other axis.\n",
    "\n",
    "The sort order for complex numbers is lexicographic. If both the\n",
    "real and imaginary parts are non-nan then the order is determined by\n",
    "the real parts except when they are equal, in which case the order\n",
    "is determined by the imaginary parts.\n",
    "\n",
    "Examples\n",
    "--------\n",
    ">>> a = np.array([3, 4, 2, 1])\n",
    ">>> np.partition(a, 3)\n",
    "array([2, 1, 3, 4])\n",
    "\n",
    ">>> np.partition(a, (1, 3))\n",
    "array([1, 2, 3, 4])\n",
    "File:      c:\\users\\jsong\\anaconda3\\lib\\site-packages\\numpy\\core\\fromnumeric.py\n",
    "Type:      function"
   ]
  },
  {
   "cell_type": "code",
   "execution_count": 9,
   "metadata": {},
   "outputs": [
    {
     "data": {
      "text/plain": [
       "array([2, 1, 3, 4, 6, 5, 7])"
      ]
     },
     "execution_count": 9,
     "metadata": {},
     "output_type": "execute_result"
    }
   ],
   "source": [
    "x = np.array([7,2,3,1,6,5,4])\n",
    "np.partition(x, 3)"
   ]
  },
  {
   "cell_type": "code",
   "execution_count": 10,
   "metadata": {},
   "outputs": [
    {
     "data": {
      "text/plain": [
       "array([2, 1, 3, 4, 5, 6, 7])"
      ]
     },
     "execution_count": 10,
     "metadata": {},
     "output_type": "execute_result"
    }
   ],
   "source": [
    "x = np.array([7,2,3,1,6,5,4])\n",
    "np.partition(x, 5)"
   ]
  },
  {
   "cell_type": "code",
   "execution_count": 11,
   "metadata": {},
   "outputs": [
    {
     "data": {
      "text/plain": [
       "array([1, 2, 3, 7, 6, 5, 4])"
      ]
     },
     "execution_count": 11,
     "metadata": {},
     "output_type": "execute_result"
    }
   ],
   "source": [
    "x = np.array([7,2,3,1,6,5,4])\n",
    "np.partition(x, 1)"
   ]
  },
  {
   "cell_type": "code",
   "execution_count": 12,
   "metadata": {},
   "outputs": [
    {
     "data": {
      "text/plain": [
       "array([[6, 3, 7, 4, 6, 9],\n",
       "       [2, 6, 7, 4, 3, 7],\n",
       "       [7, 2, 5, 4, 1, 7],\n",
       "       [5, 1, 4, 0, 9, 5]])"
      ]
     },
     "execution_count": 12,
     "metadata": {},
     "output_type": "execute_result"
    }
   ],
   "source": [
    "X"
   ]
  },
  {
   "cell_type": "code",
   "execution_count": 13,
   "metadata": {},
   "outputs": [
    {
     "data": {
      "text/plain": [
       "array([[6, 6, 3, 4, 7, 9],\n",
       "       [3, 2, 6, 4, 7, 7],\n",
       "       [1, 5, 2, 4, 7, 7],\n",
       "       [0, 4, 1, 5, 5, 9]])"
      ]
     },
     "execution_count": 13,
     "metadata": {},
     "output_type": "execute_result"
    }
   ],
   "source": [
    "np.partition(X, 4, axis=1)"
   ]
  },
  {
   "cell_type": "code",
   "execution_count": 14,
   "metadata": {},
   "outputs": [
    {
     "data": {
      "text/plain": [
       "array([[3, 4, 6, 6, 7, 9],\n",
       "       [2, 3, 4, 6, 7, 7],\n",
       "       [2, 1, 4, 5, 7, 7],\n",
       "       [0, 4, 1, 5, 9, 5]])"
      ]
     },
     "execution_count": 14,
     "metadata": {},
     "output_type": "execute_result"
    }
   ],
   "source": [
    "np.partition(X, 3, axis=1)"
   ]
  },
  {
   "cell_type": "markdown",
   "metadata": {},
   "source": [
    "예제: 최근접 이웃 알고리즘\n",
    "\n",
    "집합에서 각 점의 가장 가까운 이웃들을 찾기 위해서 여러 축을 따라 argsort 함수를 어떻게 사용하는지 알아 보자\n"
   ]
  },
  {
   "cell_type": "code",
   "execution_count": 15,
   "metadata": {},
   "outputs": [
    {
     "data": {
      "text/plain": [
       "array([[ 0.00706631,  0.02306243],\n",
       "       [ 0.52477466,  0.39986097],\n",
       "       [ 0.04666566,  0.97375552],\n",
       "       [ 0.23277134,  0.09060643],\n",
       "       [ 0.61838601,  0.38246199],\n",
       "       [ 0.98323089,  0.46676289],\n",
       "       [ 0.85994041,  0.68030754],\n",
       "       [ 0.45049925,  0.01326496],\n",
       "       [ 0.94220176,  0.56328822],\n",
       "       [ 0.3854165 ,  0.01596625]])"
      ]
     },
     "execution_count": 15,
     "metadata": {},
     "output_type": "execute_result"
    }
   ],
   "source": [
    "X = rand.rand(10,2)\n",
    "X"
   ]
  },
  {
   "cell_type": "code",
   "execution_count": 16,
   "metadata": {},
   "outputs": [
    {
     "data": {
      "image/png": "[encoded data removed]",
      "text/plain": [
       "<matplotlib.figure.Figure at 0x1e2de1b8e10>"
      ]
     },
     "metadata": {},
     "output_type": "display_data"
    }
   ],
   "source": [
    "%matplotlib inline\n",
    "import matplotlib.pyplot as plt\n",
    "import seaborn; seaborn.set()\n",
    "plt.scatter(X[:, 0], X[:, 1], s=100);"
   ]
  },
  {
   "cell_type": "code",
   "execution_count": 23,
   "metadata": {},
   "outputs": [
    {
     "data": {
      "text/plain": [
       "array([[[ 0.        ,  0.        ],\n",
       "        [-0.51770836, -0.37679855],\n",
       "        [-0.03959936, -0.95069309],\n",
       "        [-0.22570504, -0.06754401],\n",
       "        [-0.6113197 , -0.35939957],\n",
       "        [-0.97616458, -0.44370047],\n",
       "        [-0.8528741 , -0.65724511],\n",
       "        [-0.44343295,  0.00979746],\n",
       "        [-0.93513545, -0.54022579],\n",
       "        [-0.3783502 ,  0.00709617]],\n",
       "\n",
       "       [[ 0.51770836,  0.37679855],\n",
       "        [ 0.        ,  0.        ],\n",
       "        [ 0.478109  , -0.57389455],\n",
       "        [ 0.29200332,  0.30925454],\n",
       "        [-0.09361135,  0.01739898],\n",
       "        [-0.45845623, -0.06690192],\n",
       "        [-0.33516575, -0.28044657],\n",
       "        [ 0.07427541,  0.38659601],\n",
       "        [-0.4174271 , -0.16342725],\n",
       "        [ 0.13935816,  0.38389472]],\n",
       "\n",
       "       [[ 0.03959936,  0.95069309],\n",
       "        [-0.478109  ,  0.57389455],\n",
       "        [ 0.        ,  0.        ],\n",
       "        [-0.18610568,  0.88314908],\n",
       "        [-0.57172035,  0.59129353],\n",
       "        [-0.93656522,  0.50699263],\n",
       "        [-0.81327474,  0.29344798],\n",
       "        [-0.40383359,  0.96049056],\n",
       "        [-0.89553609,  0.4104673 ],\n",
       "        [-0.33875084,  0.95778927]],\n",
       "\n",
       "       [[ 0.22570504,  0.06754401],\n",
       "        [-0.29200332, -0.30925454],\n",
       "        [ 0.18610568, -0.88314908],\n",
       "        [ 0.        ,  0.        ],\n",
       "        [-0.38561467, -0.29185556],\n",
       "        [-0.75045955, -0.37615646],\n",
       "        [-0.62716907, -0.5897011 ],\n",
       "        [-0.21772791,  0.07734147],\n",
       "        [-0.70943042, -0.47268178],\n",
       "        [-0.15264516,  0.07464018]],\n",
       "\n",
       "       [[ 0.6113197 ,  0.35939957],\n",
       "        [ 0.09361135, -0.01739898],\n",
       "        [ 0.57172035, -0.59129353],\n",
       "        [ 0.38561467,  0.29185556],\n",
       "        [ 0.        ,  0.        ],\n",
       "        [-0.36484488, -0.0843009 ],\n",
       "        [-0.2415544 , -0.29784555],\n",
       "        [ 0.16788676,  0.36919703],\n",
       "        [-0.32381575, -0.18082623],\n",
       "        [ 0.23296951,  0.36649574]],\n",
       "\n",
       "       [[ 0.97616458,  0.44370047],\n",
       "        [ 0.45845623,  0.06690192],\n",
       "        [ 0.93656522, -0.50699263],\n",
       "        [ 0.75045955,  0.37615646],\n",
       "        [ 0.36484488,  0.0843009 ],\n",
       "        [ 0.        ,  0.        ],\n",
       "        [ 0.12329048, -0.21354465],\n",
       "        [ 0.53273163,  0.45349793],\n",
       "        [ 0.04102913, -0.09652532],\n",
       "        [ 0.59781438,  0.45079664]],\n",
       "\n",
       "       [[ 0.8528741 ,  0.65724511],\n",
       "        [ 0.33516575,  0.28044657],\n",
       "        [ 0.81327474, -0.29344798],\n",
       "        [ 0.62716907,  0.5897011 ],\n",
       "        [ 0.2415544 ,  0.29784555],\n",
       "        [-0.12329048,  0.21354465],\n",
       "        [ 0.        ,  0.        ],\n",
       "        [ 0.40944115,  0.66704258],\n",
       "        [-0.08226135,  0.11701932],\n",
       "        [ 0.4745239 ,  0.66434129]],\n",
       "\n",
       "       [[ 0.44343295, -0.00979746],\n",
       "        [-0.07427541, -0.38659601],\n",
       "        [ 0.40383359, -0.96049056],\n",
       "        [ 0.21772791, -0.07734147],\n",
       "        [-0.16788676, -0.36919703],\n",
       "        [-0.53273163, -0.45349793],\n",
       "        [-0.40944115, -0.66704258],\n",
       "        [ 0.        ,  0.        ],\n",
       "        [-0.4917025 , -0.55002326],\n",
       "        [ 0.06508275, -0.00270129]],\n",
       "\n",
       "       [[ 0.93513545,  0.54022579],\n",
       "        [ 0.4174271 ,  0.16342725],\n",
       "        [ 0.89553609, -0.4104673 ],\n",
       "        [ 0.70943042,  0.47268178],\n",
       "        [ 0.32381575,  0.18082623],\n",
       "        [-0.04102913,  0.09652532],\n",
       "        [ 0.08226135, -0.11701932],\n",
       "        [ 0.4917025 ,  0.55002326],\n",
       "        [ 0.        ,  0.        ],\n",
       "        [ 0.55678525,  0.54732197]],\n",
       "\n",
       "       [[ 0.3783502 , -0.00709617],\n",
       "        [-0.13935816, -0.38389472],\n",
       "        [ 0.33875084, -0.95778927],\n",
       "        [ 0.15264516, -0.07464018],\n",
       "        [-0.23296951, -0.36649574],\n",
       "        [-0.59781438, -0.45079664],\n",
       "        [-0.4745239 , -0.66434129],\n",
       "        [-0.06508275,  0.00270129],\n",
       "        [-0.55678525, -0.54732197],\n",
       "        [ 0.        ,  0.        ]]])"
      ]
     },
     "execution_count": 23,
     "metadata": {},
     "output_type": "execute_result"
    }
   ],
   "source": [
    "difference = X[:, np.newaxis,:] - X[np.newaxis,:,:]\n",
    "difference"
   ]
  },
  {
   "cell_type": "code",
   "execution_count": 22,
   "metadata": {},
   "outputs": [
    {
     "data": {
      "text/plain": [
       "array([[ 0.        ,  0.40999909,  0.90538547,  0.05550496,  0.50287983,\n",
       "         1.14976739,  1.15936537,  0.19672877,  1.16632222,  0.14319923],\n",
       "       [ 0.40999909,  0.        ,  0.55794316,  0.18090431,  0.00906581,\n",
       "         0.21465798,  0.19098635,  0.15497331,  0.20095384,  0.16679585],\n",
       "       [ 0.90538547,  0.55794316,  0.        ,  0.81458763,  0.67649219,\n",
       "         1.13419594,  0.74752753,  1.08562368,  0.9704683 ,  1.03211241],\n",
       "       [ 0.05550496,  0.18090431,  0.81458763,  0.        ,  0.23387834,\n",
       "         0.70468321,  0.74108843,  0.05338715,  0.72671958,  0.0288717 ],\n",
       "       [ 0.50287983,  0.00906581,  0.67649219,  0.23387834,  0.        ,\n",
       "         0.14021843,  0.1470605 ,  0.16449241,  0.13755476,  0.18859392],\n",
       "       [ 1.14976739,  0.21465798,  1.13419594,  0.70468321,  0.14021843,\n",
       "         0.        ,  0.06080186,  0.48946337,  0.01100053,  0.56059965],\n",
       "       [ 1.15936537,  0.19098635,  0.74752753,  0.74108843,  0.1470605 ,\n",
       "         0.06080186,  0.        ,  0.61258786,  0.02046045,  0.66652228],\n",
       "       [ 0.19672877,  0.15497331,  1.08562368,  0.05338715,  0.16449241,\n",
       "         0.48946337,  0.61258786,  0.        ,  0.54429694,  0.00424306],\n",
       "       [ 1.16632222,  0.20095384,  0.9704683 ,  0.72671958,  0.13755476,\n",
       "         0.01100053,  0.02046045,  0.54429694,  0.        ,  0.60957115],\n",
       "       [ 0.14319923,  0.16679585,  1.03211241,  0.0288717 ,  0.18859392,\n",
       "         0.56059965,  0.66652228,  0.00424306,  0.60957115,  0.        ]])"
      ]
     },
     "execution_count": 22,
     "metadata": {},
     "output_type": "execute_result"
    }
   ],
   "source": [
    "dist_sq = np.sum((X[:, np.newaxis,:] - X[np.newaxis,:,:]) ** 2, axis=-1)\n",
    "dist_sq"
   ]
  },
  {
   "cell_type": "code",
   "execution_count": 18,
   "metadata": {},
   "outputs": [
    {
     "data": {
      "text/plain": [
       "array([ 0.,  0.,  0.,  0.,  0.,  0.,  0.,  0.,  0.,  0.])"
      ]
     },
     "execution_count": 18,
     "metadata": {},
     "output_type": "execute_result"
    }
   ],
   "source": [
    "dist_sq.diagonal() # 행렬의 대각선의 합이 0인지 확인"
   ]
  },
  {
   "cell_type": "markdown",
   "metadata": {},
   "source": [
    "제곱 거리를 기준으로 np.argsort를 활용하여 정렬된 인덱스를 행별로 정리해 보자"
   ]
  },
  {
   "cell_type": "code",
   "execution_count": 19,
   "metadata": {},
   "outputs": [
    {
     "data": {
      "text/plain": [
       "array([[0, 3, 9, 7, 1, 4, 2, 5, 6, 8],\n",
       "       [1, 4, 7, 9, 3, 6, 8, 5, 0, 2],\n",
       "       [2, 1, 4, 6, 3, 0, 8, 9, 7, 5],\n",
       "       [3, 9, 7, 0, 1, 4, 5, 8, 6, 2],\n",
       "       [4, 1, 8, 5, 6, 7, 9, 3, 0, 2],\n",
       "       [5, 8, 6, 4, 1, 7, 9, 3, 2, 0],\n",
       "       [6, 8, 5, 4, 1, 7, 9, 3, 2, 0],\n",
       "       [7, 9, 3, 1, 4, 0, 5, 8, 6, 2],\n",
       "       [8, 5, 6, 4, 1, 7, 9, 3, 2, 0],\n",
       "       [9, 7, 3, 0, 1, 4, 5, 8, 6, 2]], dtype=int64)"
      ]
     },
     "execution_count": 19,
     "metadata": {},
     "output_type": "execute_result"
    }
   ],
   "source": [
    "nearest = np.argsort(dist_sq, axis=1)\n",
    "nearest"
   ]
  },
  {
   "cell_type": "markdown",
   "metadata": {},
   "source": [
    "첫번째 열은 0부터 9까지 순서대로 나타난다. 각 점의 가장 가까운 이웃은 바로 자기 자신임"
   ]
  },
  {
   "cell_type": "code",
   "execution_count": 20,
   "metadata": {
    "collapsed": true
   },
   "outputs": [],
   "source": [
    "# 가장 가까운 K 이웃을 구하기만 하면 된다면 각행을 파티션으로 나누어 가장 작은 K+1 개의 제곱거리가\n",
    "# 먼저 오고 그보다 큰 요소는 나머지에 위치 시키면 됨\n",
    "K=2\n",
    "nearest_partition = np.argpartition(dist_sq, K+1, axis=1)"
   ]
  },
  {
   "cell_type": "code",
   "execution_count": 21,
   "metadata": {},
   "outputs": [
    {
     "data": {
      "image/png": "[encoded data removed]",
      "text/plain": [
       "<matplotlib.figure.Figure at 0x1e2e1f28ac8>"
      ]
     },
     "metadata": {},
     "output_type": "display_data"
    }
   ],
   "source": [
    "plt.scatter(X[:, 0], X[:, 1], s=100)\n",
    "\n",
    "# 각 점을 두개의 가장 가까운 이웃과 선으로 연결\n",
    "\n",
    "K=2\n",
    "for i in range(X.shape[0]):\n",
    "    for j in nearest_partition[i, :K+1]:\n",
    "        plt.plot(*zip(X[j], X[i]), color='black')"
   ]
  },
  {
   "cell_type": "code",
   "execution_count": null,
   "metadata": {
    "collapsed": true
   },
   "outputs": [],
   "source": []
  },
  {
   "cell_type": "code",
   "execution_count": null,
   "metadata": {
    "collapsed": true
   },
   "outputs": [],
   "source": []
  },
  {
   "cell_type": "code",
   "execution_count": null,
   "metadata": {
    "collapsed": true
   },
   "outputs": [],
   "source": []
  },
  {
   "cell_type": "code",
   "execution_count": null,
   "metadata": {
    "collapsed": true
   },
   "outputs": [],
   "source": []
  },
  {
   "cell_type": "code",
   "execution_count": null,
   "metadata": {
    "collapsed": true
   },
   "outputs": [],
   "source": []
  },
  {
   "cell_type": "code",
   "execution_count": null,
   "metadata": {
    "collapsed": true
   },
   "outputs": [],
   "source": []
  }
 ],
 "metadata": {
  "kernelspec": {
   "display_name": "Python 3",
   "language": "python",
   "name": "python3"
  },
  "language_info": {
   "codemirror_mode": {
    "name": "ipython",
    "version": 3
   },
   "file_extension": ".py",
   "mimetype": "text/x-python",
   "name": "python",
   "nbconvert_exporter": "python",
   "pygments_lexer": "ipython3",
   "version": "3.6.3"
  }
 },
 "nbformat": 4,
 "nbformat_minor": 2
}
