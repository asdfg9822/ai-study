{
 "cells": [
  {
   "cell_type": "code",
   "execution_count": 1,
   "metadata": {},
   "outputs": [],
   "source": [
    "%matplotlib inline\n",
    "import numpy as np\n",
    "import pandas as pd\n",
    "import matplotlib.pyplot as plt"
   ]
  },
  {
   "cell_type": "markdown",
   "metadata": {},
   "source": [
    "## Load Dataset"
   ]
  },
  {
   "cell_type": "code",
   "execution_count": 2,
   "metadata": {},
   "outputs": [],
   "source": [
    "from sklearn.datasets import load_digits\n",
    "\n",
    "digits = load_digits()"
   ]
  },
  {
   "cell_type": "code",
   "execution_count": 3,
   "metadata": {},
   "outputs": [
    {
     "name": "stdout",
     "output_type": "stream",
     "text": [
      "(1797, 64)\n"
     ]
    },
    {
     "data": {
      "text/plain": [
       "array([[  0.,   0.,   5., ...,   0.,   0.,   0.],\n",
       "       [  0.,   0.,   0., ...,  10.,   0.,   0.],\n",
       "       [  0.,   0.,   0., ...,  16.,   9.,   0.],\n",
       "       ..., \n",
       "       [  0.,   0.,   1., ...,   6.,   0.,   0.],\n",
       "       [  0.,   0.,   2., ...,  12.,   0.,   0.],\n",
       "       [  0.,   0.,  10., ...,  12.,   1.,   0.]])"
      ]
     },
     "execution_count": 3,
     "metadata": {},
     "output_type": "execute_result"
    }
   ],
   "source": [
    "X = digits[\"data\"]\n",
    "\n",
    "print(X.shape)\n",
    "X"
   ]
  },
  {
   "cell_type": "markdown",
   "metadata": {},
   "source": [
    "### Visualize"
   ]
  },
  {
   "cell_type": "code",
   "execution_count": 4,
   "metadata": {},
   "outputs": [
    {
     "data": {
      "text/plain": [
       "<matplotlib.image.AxesImage at 0x21545987cf8>"
      ]
     },
     "execution_count": 4,
     "metadata": {},
     "output_type": "execute_result"
    },
    {
     "data": {
      "text/plain": [
       "<matplotlib.figure.Figure at 0x21541e8c898>"
      ]
     },
     "metadata": {},
     "output_type": "display_data"
    },
    {
     "data": {
      "image/png": "[encoded data removed]",
      "text/plain": [
       "<matplotlib.figure.Figure at 0x215423fe4e0>"
      ]
     },
     "metadata": {},
     "output_type": "display_data"
    }
   ],
   "source": [
    "%matplotlib inline\n",
    "import matplotlib.pyplot as plt\n",
    "\n",
    "plt.gray()\n",
    "\n",
    "figure, axes = plt.subplots(nrows=2, ncols=5)\n",
    "figure.set_size_inches(18, 8)\n",
    "\n",
    "axes[0][0].matshow(X[0].reshape(8, 8))\n",
    "axes[0][1].matshow(X[1].reshape(8, 8))\n",
    "axes[0][2].matshow(X[2].reshape(8, 8))\n",
    "axes[0][3].matshow(X[3].reshape(8, 8))\n",
    "axes[0][4].matshow(X[4].reshape(8, 8))\n",
    "axes[1][0].matshow(X[5].reshape(8, 8))\n",
    "axes[1][1].matshow(X[6].reshape(8, 8))\n",
    "axes[1][2].matshow(X[7].reshape(8, 8))\n",
    "axes[1][3].matshow(X[8].reshape(8, 8))\n",
    "axes[1][4].matshow(X[9].reshape(8, 8))"
   ]
  },
  {
   "cell_type": "code",
   "execution_count": 5,
   "metadata": {},
   "outputs": [
    {
     "name": "stdout",
     "output_type": "stream",
     "text": [
      "(1797,)\n"
     ]
    },
    {
     "data": {
      "text/plain": [
       "array([0, 1, 2, ..., 8, 9, 8])"
      ]
     },
     "execution_count": 5,
     "metadata": {},
     "output_type": "execute_result"
    }
   ],
   "source": [
    "y = digits[\"target\"]\n",
    "\n",
    "print(y.shape)\n",
    "y"
   ]
  },
  {
   "cell_type": "markdown",
   "metadata": {},
   "source": [
    "## Preprocessing"
   ]
  },
  {
   "cell_type": "code",
   "execution_count": 6,
   "metadata": {},
   "outputs": [
    {
     "data": {
      "text/plain": [
       "(8.995463126623417e-17, -4.8841645798553142, 11.115835420144686)"
      ]
     },
     "execution_count": 6,
     "metadata": {},
     "output_type": "execute_result"
    }
   ],
   "source": [
    "X_mean = X.mean()\n",
    "\n",
    "X = X - X_mean\n",
    "\n",
    "X.mean(), X.min(), X.max()"
   ]
  },
  {
   "cell_type": "code",
   "execution_count": 7,
   "metadata": {},
   "outputs": [
    {
     "name": "stderr",
     "output_type": "stream",
     "text": [
      "Using TensorFlow backend.\n"
     ]
    },
    {
     "name": "stdout",
     "output_type": "stream",
     "text": [
      "(1797,) (1797, 10)\n"
     ]
    }
   ],
   "source": [
    "from keras.utils import to_categorical\n",
    "\n",
    "y_hot = to_categorical(y)\n",
    "\n",
    "print(y.shape, y_hot.shape)"
   ]
  },
  {
   "cell_type": "markdown",
   "metadata": {},
   "source": [
    "## Define Activation"
   ]
  },
  {
   "cell_type": "markdown",
   "metadata": {},
   "source": [
    "### Sigmoid"
   ]
  },
  {
   "cell_type": "code",
   "execution_count": 8,
   "metadata": {},
   "outputs": [
    {
     "data": {
      "text/plain": [
       "[<matplotlib.lines.Line2D at 0x2154a5b3898>]"
      ]
     },
     "execution_count": 8,
     "metadata": {},
     "output_type": "execute_result"
    },
    {
     "data": {
      "image/png": "[encoded data removed]",
      "text/plain": [
       "<matplotlib.figure.Figure at 0x2154a57d0b8>"
      ]
     },
     "metadata": {},
     "output_type": "display_data"
    }
   ],
   "source": [
    "def sigmoid(n):\n",
    "    return 1 / (1 + np.exp(-n))\n",
    "\n",
    "xx = np.linspace(start=-9, stop=+9)\n",
    "yy = sigmoid(xx)\n",
    "\n",
    "plt.plot(xx, yy)"
   ]
  },
  {
   "cell_type": "code",
   "execution_count": 9,
   "metadata": {},
   "outputs": [
    {
     "data": {
      "text/plain": [
       "[<matplotlib.lines.Line2D at 0x2154a61cc18>]"
      ]
     },
     "execution_count": 9,
     "metadata": {},
     "output_type": "execute_result"
    },
    {
     "data": {
      "image/png": "[encoded data removed]",
      "text/plain": [
       "<matplotlib.figure.Figure at 0x2154a5a0e10>"
      ]
     },
     "metadata": {},
     "output_type": "display_data"
    }
   ],
   "source": [
    "def sigmoid_derivative(n):\n",
    "    return sigmoid(n) * (1 - sigmoid(n))\n",
    "\n",
    "xx = np.linspace(start=-9, stop=+9)\n",
    "yy = sigmoid_derivative(xx)\n",
    "\n",
    "plt.plot(xx, yy)"
   ]
  },
  {
   "cell_type": "markdown",
   "metadata": {},
   "source": [
    "## Build a Model"
   ]
  },
  {
   "cell_type": "code",
   "execution_count": 10,
   "metadata": {},
   "outputs": [],
   "source": [
    "from time import time\n",
    "\n",
    "def train(X, y, num_epoch, learning_rate, update_method):\n",
    "    errors = []\n",
    "\n",
    "    start = time()\n",
    "\n",
    "    w1 = np.random.uniform(low=-np.sqrt(6 / (64+100)),\n",
    "                           high=+np.sqrt(6 / (64+100)),\n",
    "                           size=(64, 100))\n",
    "\n",
    "    w2 = np.random.uniform(low=-np.sqrt(6 / (100+10)),\n",
    "                           high=+np.sqrt(6 / (100+10)),\n",
    "                           size=(100, 10))\n",
    "\n",
    "    for epoch in range(num_epoch):\n",
    "        # Forward Propagation\n",
    "        z1 = X.dot(w1)\n",
    "        a1 = sigmoid(z1)\n",
    "        z2 = a1.dot(w2)\n",
    "        a2 = sigmoid(z2)\n",
    "\n",
    "        y_predict = np.argmax(a2, axis=1)\n",
    "        error = (y_predict != y).mean()\n",
    "\n",
    "        if epoch % (num_epoch // 10) == 0:\n",
    "            print(\"{0:3} error = {1:.5f}\".format(epoch, error))\n",
    "\n",
    "        errors.append({\n",
    "            'epoch': epoch,\n",
    "            'elapsed': time() - start,\n",
    "            'error': error,\n",
    "        })\n",
    "\n",
    "        # Backpropagation\n",
    "        d2 = (a2 - y_hot)\n",
    "        d1 = d2.dot(w2.T) * sigmoid_derivative(z1)\n",
    "\n",
    "        # Weight gradients\n",
    "        dw2 = a1.T.dot(d2)\n",
    "        dw1 = X.T.dot(d1)\n",
    "\n",
    "        w1, w2 = update_method(epoch, learning_rate, w1, w2, dw1, dw2)\n",
    "\n",
    "    print(\"----\" * 10)\n",
    "    print(\"{0:3} error = {1:.5f}\".format(epoch, error))\n",
    "    \n",
    "    errors = pd.DataFrame(errors)\n",
    "    errors = errors[[\"epoch\", \"elapsed\", \"error\"]]\n",
    "\n",
    "    return errors"
   ]
  },
  {
   "cell_type": "markdown",
   "metadata": {
    "collapsed": true
   },
   "source": [
    "### Stochastic Gradient Descent"
   ]
  },
  {
   "cell_type": "code",
   "execution_count": 11,
   "metadata": {},
   "outputs": [
    {
     "name": "stdout",
     "output_type": "stream",
     "text": [
      "  0 error = 0.90651\n",
      " 10 error = 0.16138\n",
      " 20 error = 0.08459\n",
      " 30 error = 0.06511\n",
      " 40 error = 0.05676\n",
      " 50 error = 0.04841\n",
      " 60 error = 0.04452\n",
      " 70 error = 0.03728\n",
      " 80 error = 0.03395\n",
      " 90 error = 0.03061\n",
      "----------------------------------------\n",
      " 99 error = 0.02949\n"
     ]
    },
    {
     "data": {
      "text/html": [
       "<div>\n",
       "<style>\n",
       "    .dataframe thead tr:only-child th {\n",
       "        text-align: right;\n",
       "    }\n",
       "\n",
       "    .dataframe thead th {\n",
       "        text-align: left;\n",
       "    }\n",
       "\n",
       "    .dataframe tbody tr th {\n",
       "        vertical-align: top;\n",
       "    }\n",
       "</style>\n",
       "<table border=\"1\" class=\"dataframe\">\n",
       "  <thead>\n",
       "    <tr style=\"text-align: right;\">\n",
       "      <th></th>\n",
       "      <th>epoch</th>\n",
       "      <th>elapsed</th>\n",
       "      <th>error</th>\n",
       "    </tr>\n",
       "  </thead>\n",
       "  <tbody>\n",
       "    <tr>\n",
       "      <th>0</th>\n",
       "      <td>0</td>\n",
       "      <td>0.023709</td>\n",
       "      <td>0.906511</td>\n",
       "    </tr>\n",
       "    <tr>\n",
       "      <th>1</th>\n",
       "      <td>1</td>\n",
       "      <td>0.063718</td>\n",
       "      <td>0.879243</td>\n",
       "    </tr>\n",
       "    <tr>\n",
       "      <th>2</th>\n",
       "      <td>2</td>\n",
       "      <td>0.096233</td>\n",
       "      <td>0.782415</td>\n",
       "    </tr>\n",
       "    <tr>\n",
       "      <th>3</th>\n",
       "      <td>3</td>\n",
       "      <td>0.113170</td>\n",
       "      <td>0.584307</td>\n",
       "    </tr>\n",
       "    <tr>\n",
       "      <th>4</th>\n",
       "      <td>4</td>\n",
       "      <td>0.147022</td>\n",
       "      <td>0.428492</td>\n",
       "    </tr>\n",
       "    <tr>\n",
       "      <th>5</th>\n",
       "      <td>5</td>\n",
       "      <td>0.178291</td>\n",
       "      <td>0.339455</td>\n",
       "    </tr>\n",
       "    <tr>\n",
       "      <th>6</th>\n",
       "      <td>6</td>\n",
       "      <td>0.222030</td>\n",
       "      <td>0.287702</td>\n",
       "    </tr>\n",
       "    <tr>\n",
       "      <th>7</th>\n",
       "      <td>7</td>\n",
       "      <td>0.257684</td>\n",
       "      <td>0.241514</td>\n",
       "    </tr>\n",
       "    <tr>\n",
       "      <th>8</th>\n",
       "      <td>8</td>\n",
       "      <td>0.290395</td>\n",
       "      <td>0.208681</td>\n",
       "    </tr>\n",
       "    <tr>\n",
       "      <th>9</th>\n",
       "      <td>9</td>\n",
       "      <td>0.317478</td>\n",
       "      <td>0.178075</td>\n",
       "    </tr>\n",
       "  </tbody>\n",
       "</table>\n",
       "</div>"
      ],
      "text/plain": [
       "   epoch   elapsed     error\n",
       "0      0  0.023709  0.906511\n",
       "1      1  0.063718  0.879243\n",
       "2      2  0.096233  0.782415\n",
       "3      3  0.113170  0.584307\n",
       "4      4  0.147022  0.428492\n",
       "5      5  0.178291  0.339455\n",
       "6      6  0.222030  0.287702\n",
       "7      7  0.257684  0.241514\n",
       "8      8  0.290395  0.208681\n",
       "9      9  0.317478  0.178075"
      ]
     },
     "execution_count": 11,
     "metadata": {},
     "output_type": "execute_result"
    }
   ],
   "source": [
    "def update_sgd(epoch, learning_rate, w1, w2, dw1, dw2):\n",
    "    w2 = w2 - learning_rate * dw2\n",
    "    w1 = w1 - learning_rate * dw1\n",
    "    \n",
    "    return w1, w2\n",
    "\n",
    "num_epoch = 100\n",
    "learning_rate = 0.0001\n",
    "\n",
    "errors_sgd = train(X, y, num_epoch, learning_rate, update_method=update_sgd)\n",
    "\n",
    "errors_sgd.head(10)"
   ]
  },
  {
   "cell_type": "code",
   "execution_count": 12,
   "metadata": {},
   "outputs": [
    {
     "data": {
      "text/plain": [
       "<matplotlib.legend.Legend at 0x2154a652668>"
      ]
     },
     "execution_count": 12,
     "metadata": {},
     "output_type": "execute_result"
    },
    {
     "data": {
      "image/png": "[encoded data removed]",
      "text/plain": [
       "<matplotlib.figure.Figure at 0x2154a652278>"
      ]
     },
     "metadata": {},
     "output_type": "display_data"
    }
   ],
   "source": [
    "plt.plot(errors_sgd['elapsed'],\n",
    "         errors_sgd['error'],\n",
    "         label=\"SGD\")\n",
    "\n",
    "plt.legend()"
   ]
  },
  {
   "cell_type": "markdown",
   "metadata": {},
   "source": [
    "### Momentum"
   ]
  },
  {
   "cell_type": "code",
   "execution_count": 15,
   "metadata": {},
   "outputs": [
    {
     "name": "stdout",
     "output_type": "stream",
     "text": [
      "  0 error = 0.90262\n",
      " 10 error = 0.23205\n",
      " 20 error = 0.07902\n",
      " 30 error = 0.03895\n",
      " 40 error = 0.02449\n",
      " 50 error = 0.01391\n",
      " 60 error = 0.00946\n",
      " 70 error = 0.00668\n",
      " 80 error = 0.00612\n",
      " 90 error = 0.00501\n",
      "----------------------------------------\n",
      " 99 error = 0.00390\n"
     ]
    },
    {
     "data": {
      "text/html": [
       "<div>\n",
       "<style>\n",
       "    .dataframe thead tr:only-child th {\n",
       "        text-align: right;\n",
       "    }\n",
       "\n",
       "    .dataframe thead th {\n",
       "        text-align: left;\n",
       "    }\n",
       "\n",
       "    .dataframe tbody tr th {\n",
       "        vertical-align: top;\n",
       "    }\n",
       "</style>\n",
       "<table border=\"1\" class=\"dataframe\">\n",
       "  <thead>\n",
       "    <tr style=\"text-align: right;\">\n",
       "      <th></th>\n",
       "      <th>epoch</th>\n",
       "      <th>elapsed</th>\n",
       "      <th>error</th>\n",
       "    </tr>\n",
       "  </thead>\n",
       "  <tbody>\n",
       "    <tr>\n",
       "      <th>0</th>\n",
       "      <td>0</td>\n",
       "      <td>0.009186</td>\n",
       "      <td>0.902615</td>\n",
       "    </tr>\n",
       "    <tr>\n",
       "      <th>1</th>\n",
       "      <td>1</td>\n",
       "      <td>0.052054</td>\n",
       "      <td>0.864218</td>\n",
       "    </tr>\n",
       "    <tr>\n",
       "      <th>2</th>\n",
       "      <td>2</td>\n",
       "      <td>0.086257</td>\n",
       "      <td>0.813578</td>\n",
       "    </tr>\n",
       "    <tr>\n",
       "      <th>3</th>\n",
       "      <td>3</td>\n",
       "      <td>0.122877</td>\n",
       "      <td>0.740679</td>\n",
       "    </tr>\n",
       "    <tr>\n",
       "      <th>4</th>\n",
       "      <td>4</td>\n",
       "      <td>0.153928</td>\n",
       "      <td>0.703951</td>\n",
       "    </tr>\n",
       "    <tr>\n",
       "      <th>5</th>\n",
       "      <td>5</td>\n",
       "      <td>0.180852</td>\n",
       "      <td>0.646077</td>\n",
       "    </tr>\n",
       "    <tr>\n",
       "      <th>6</th>\n",
       "      <td>6</td>\n",
       "      <td>0.224812</td>\n",
       "      <td>0.513077</td>\n",
       "    </tr>\n",
       "    <tr>\n",
       "      <th>7</th>\n",
       "      <td>7</td>\n",
       "      <td>0.254501</td>\n",
       "      <td>0.376183</td>\n",
       "    </tr>\n",
       "    <tr>\n",
       "      <th>8</th>\n",
       "      <td>8</td>\n",
       "      <td>0.290305</td>\n",
       "      <td>0.235392</td>\n",
       "    </tr>\n",
       "    <tr>\n",
       "      <th>9</th>\n",
       "      <td>9</td>\n",
       "      <td>0.330293</td>\n",
       "      <td>0.219811</td>\n",
       "    </tr>\n",
       "  </tbody>\n",
       "</table>\n",
       "</div>"
      ],
      "text/plain": [
       "   epoch   elapsed     error\n",
       "0      0  0.009186  0.902615\n",
       "1      1  0.052054  0.864218\n",
       "2      2  0.086257  0.813578\n",
       "3      3  0.122877  0.740679\n",
       "4      4  0.153928  0.703951\n",
       "5      5  0.180852  0.646077\n",
       "6      6  0.224812  0.513077\n",
       "7      7  0.254501  0.376183\n",
       "8      8  0.290305  0.235392\n",
       "9      9  0.330293  0.219811"
      ]
     },
     "execution_count": 15,
     "metadata": {},
     "output_type": "execute_result"
    }
   ],
   "source": [
    "mu = 0.9\n",
    "cache_dw1, cache_dw2 = 0, 0\n",
    "\n",
    "def update_momentum(epoch, learning_rate, w1, w2, dw1, dw2):\n",
    "    # global 로 하면 안됨. class 로 변경 추후에\n",
    "    global cache_dw1, cache_dw2\n",
    "    \n",
    "    cache_dw2 = mu * cache_dw2 - learning_rate * dw2\n",
    "    w2 = w2 + cache_dw2\n",
    "    \n",
    "    cache_dw1 = mu * cache_dw1 - learning_rate * dw1\n",
    "    w1 = w1 + cache_dw1\n",
    "    \n",
    "    return w1, w2\n",
    "\n",
    "num_epoch = 100\n",
    "learning_rate = 0.0001\n",
    "\n",
    "errors_momentum = train(X, y, num_epoch, learning_rate, update_method=update_momentum)\n",
    "\n",
    "errors_momentum.head(10)\n"
   ]
  },
  {
   "cell_type": "code",
   "execution_count": 18,
   "metadata": {},
   "outputs": [
    {
     "data": {
      "text/plain": [
       "<matplotlib.legend.Legend at 0x2154b295b70>"
      ]
     },
     "execution_count": 18,
     "metadata": {},
     "output_type": "execute_result"
    },
    {
     "data": {
      "image/png": "[encoded data removed]",
      "text/plain": [
       "<matplotlib.figure.Figure at 0x2154b2515c0>"
      ]
     },
     "metadata": {},
     "output_type": "display_data"
    }
   ],
   "source": [
    "plt.plot(errors_sgd['elapsed'],\n",
    "         errors_sgd['error'],\n",
    "         label=\"SGD\")\n",
    "plt.plot(errors_momentum['elapsed'],\n",
    "         errors_momentum['error'],\n",
    "         label=\"momentum\")\n",
    "\n",
    "plt.legend()"
   ]
  },
  {
   "cell_type": "markdown",
   "metadata": {},
   "source": [
    "### Nesterov Momentum"
   ]
  },
  {
   "cell_type": "code",
   "execution_count": 19,
   "metadata": {},
   "outputs": [
    {
     "name": "stdout",
     "output_type": "stream",
     "text": [
      "  0 error = 0.88592\n",
      " 10 error = 0.15693\n",
      " 20 error = 0.05008\n",
      " 30 error = 0.02949\n",
      " 40 error = 0.01781\n",
      " 50 error = 0.01002\n",
      " 60 error = 0.00668\n",
      " 70 error = 0.00556\n",
      " 80 error = 0.00390\n",
      " 90 error = 0.00334\n",
      "----------------------------------------\n",
      " 99 error = 0.00278\n"
     ]
    },
    {
     "data": {
      "text/html": [
       "<div>\n",
       "<style>\n",
       "    .dataframe thead tr:only-child th {\n",
       "        text-align: right;\n",
       "    }\n",
       "\n",
       "    .dataframe thead th {\n",
       "        text-align: left;\n",
       "    }\n",
       "\n",
       "    .dataframe tbody tr th {\n",
       "        vertical-align: top;\n",
       "    }\n",
       "</style>\n",
       "<table border=\"1\" class=\"dataframe\">\n",
       "  <thead>\n",
       "    <tr style=\"text-align: right;\">\n",
       "      <th></th>\n",
       "      <th>epoch</th>\n",
       "      <th>elapsed</th>\n",
       "      <th>error</th>\n",
       "    </tr>\n",
       "  </thead>\n",
       "  <tbody>\n",
       "    <tr>\n",
       "      <th>0</th>\n",
       "      <td>0</td>\n",
       "      <td>0.011641</td>\n",
       "      <td>0.885921</td>\n",
       "    </tr>\n",
       "    <tr>\n",
       "      <th>1</th>\n",
       "      <td>1</td>\n",
       "      <td>0.043377</td>\n",
       "      <td>0.821369</td>\n",
       "    </tr>\n",
       "    <tr>\n",
       "      <th>2</th>\n",
       "      <td>2</td>\n",
       "      <td>0.077945</td>\n",
       "      <td>0.800223</td>\n",
       "    </tr>\n",
       "    <tr>\n",
       "      <th>3</th>\n",
       "      <td>3</td>\n",
       "      <td>0.109716</td>\n",
       "      <td>0.669449</td>\n",
       "    </tr>\n",
       "    <tr>\n",
       "      <th>4</th>\n",
       "      <td>4</td>\n",
       "      <td>0.130714</td>\n",
       "      <td>0.556483</td>\n",
       "    </tr>\n",
       "    <tr>\n",
       "      <th>5</th>\n",
       "      <td>5</td>\n",
       "      <td>0.161971</td>\n",
       "      <td>0.527546</td>\n",
       "    </tr>\n",
       "    <tr>\n",
       "      <th>6</th>\n",
       "      <td>6</td>\n",
       "      <td>0.194358</td>\n",
       "      <td>0.351141</td>\n",
       "    </tr>\n",
       "    <tr>\n",
       "      <th>7</th>\n",
       "      <td>7</td>\n",
       "      <td>0.241214</td>\n",
       "      <td>0.383973</td>\n",
       "    </tr>\n",
       "    <tr>\n",
       "      <th>8</th>\n",
       "      <td>8</td>\n",
       "      <td>0.275821</td>\n",
       "      <td>0.300501</td>\n",
       "    </tr>\n",
       "    <tr>\n",
       "      <th>9</th>\n",
       "      <td>9</td>\n",
       "      <td>0.294028</td>\n",
       "      <td>0.176405</td>\n",
       "    </tr>\n",
       "  </tbody>\n",
       "</table>\n",
       "</div>"
      ],
      "text/plain": [
       "   epoch   elapsed     error\n",
       "0      0  0.011641  0.885921\n",
       "1      1  0.043377  0.821369\n",
       "2      2  0.077945  0.800223\n",
       "3      3  0.109716  0.669449\n",
       "4      4  0.130714  0.556483\n",
       "5      5  0.161971  0.527546\n",
       "6      6  0.194358  0.351141\n",
       "7      7  0.241214  0.383973\n",
       "8      8  0.275821  0.300501\n",
       "9      9  0.294028  0.176405"
      ]
     },
     "execution_count": 19,
     "metadata": {},
     "output_type": "execute_result"
    }
   ],
   "source": [
    "mu = 0.9\n",
    "cache_dw1, cache_dw2 = 0, 0\n",
    "\n",
    "def update_nesterov(epoch, learning_rate, w1, w2, dw1, dw2):\n",
    "    # global 로 하면 안됨. class 로 변경 추후에\n",
    "    global cache_dw1, cache_dw2\n",
    "    \n",
    "    dw2_prev = cache_dw2\n",
    "    cache_dw2 = mu * cache_dw2 - learning_rate * dw2\n",
    "    w2 = w2 + (-mu * dw2_prev) + (1 + mu) * cache_dw2\n",
    "    \n",
    "    dw1_prev = cache_dw1\n",
    "    cache_dw1 = mu * cache_dw1 - learning_rate * dw1\n",
    "    w1 = w1 + (-mu * dw1_prev) + (1 + mu) * cache_dw1\n",
    "    \n",
    "    return w1, w2\n",
    "\n",
    "num_epoch = 100\n",
    "learning_rate = 0.0001\n",
    "\n",
    "errors_nesterov = train(X, y, num_epoch, learning_rate, update_method=update_nesterov)\n",
    "\n",
    "errors_nesterov.head(10)\n"
   ]
  },
  {
   "cell_type": "code",
   "execution_count": 23,
   "metadata": {},
   "outputs": [
    {
     "data": {
      "text/plain": [
       "<matplotlib.legend.Legend at 0x2154bbac5c0>"
      ]
     },
     "execution_count": 23,
     "metadata": {},
     "output_type": "execute_result"
    },
    {
     "data": {
      "image/png": "[encoded data removed]",
      "text/plain": [
       "<matplotlib.figure.Figure at 0x2154bb31358>"
      ]
     },
     "metadata": {},
     "output_type": "display_data"
    }
   ],
   "source": [
    "plt.plot(errors_sgd['elapsed'],\n",
    "         errors_sgd['error'],\n",
    "         label=\"SGD\")\n",
    "plt.plot(errors_momentum['elapsed'],\n",
    "         errors_momentum['error'],\n",
    "         label=\"momentum\")\n",
    "plt.plot(errors_nesterov['elapsed'],\n",
    "         errors_nesterov['error'],\n",
    "         label=\"nesterov\", c='blue')\n",
    "\n",
    "plt.legend()"
   ]
  },
  {
   "cell_type": "markdown",
   "metadata": {
    "collapsed": true
   },
   "source": [
    "### AdaGrad"
   ]
  },
  {
   "cell_type": "code",
   "execution_count": 29,
   "metadata": {},
   "outputs": [
    {
     "name": "stdout",
     "output_type": "stream",
     "text": [
      "  0 error = 0.88703\n",
      " 10 error = 0.23873\n",
      " 20 error = 0.12465\n",
      " 30 error = 0.08514\n",
      " 40 error = 0.06400\n",
      " 50 error = 0.05565\n",
      " 60 error = 0.05064\n",
      " 70 error = 0.04674\n",
      " 80 error = 0.04285\n",
      " 90 error = 0.04062\n",
      "----------------------------------------\n",
      " 99 error = 0.03784\n"
     ]
    },
    {
     "data": {
      "text/html": [
       "<div>\n",
       "<style>\n",
       "    .dataframe thead tr:only-child th {\n",
       "        text-align: right;\n",
       "    }\n",
       "\n",
       "    .dataframe thead th {\n",
       "        text-align: left;\n",
       "    }\n",
       "\n",
       "    .dataframe tbody tr th {\n",
       "        vertical-align: top;\n",
       "    }\n",
       "</style>\n",
       "<table border=\"1\" class=\"dataframe\">\n",
       "  <thead>\n",
       "    <tr style=\"text-align: right;\">\n",
       "      <th></th>\n",
       "      <th>epoch</th>\n",
       "      <th>elapsed</th>\n",
       "      <th>error</th>\n",
       "    </tr>\n",
       "  </thead>\n",
       "  <tbody>\n",
       "    <tr>\n",
       "      <th>0</th>\n",
       "      <td>0</td>\n",
       "      <td>0.008342</td>\n",
       "      <td>0.887034</td>\n",
       "    </tr>\n",
       "    <tr>\n",
       "      <th>1</th>\n",
       "      <td>1</td>\n",
       "      <td>0.041280</td>\n",
       "      <td>0.860879</td>\n",
       "    </tr>\n",
       "    <tr>\n",
       "      <th>2</th>\n",
       "      <td>2</td>\n",
       "      <td>0.083099</td>\n",
       "      <td>0.761825</td>\n",
       "    </tr>\n",
       "    <tr>\n",
       "      <th>3</th>\n",
       "      <td>3</td>\n",
       "      <td>0.101051</td>\n",
       "      <td>0.649416</td>\n",
       "    </tr>\n",
       "    <tr>\n",
       "      <th>4</th>\n",
       "      <td>4</td>\n",
       "      <td>0.113150</td>\n",
       "      <td>0.526433</td>\n",
       "    </tr>\n",
       "    <tr>\n",
       "      <th>5</th>\n",
       "      <td>5</td>\n",
       "      <td>0.148673</td>\n",
       "      <td>0.416249</td>\n",
       "    </tr>\n",
       "    <tr>\n",
       "      <th>6</th>\n",
       "      <td>6</td>\n",
       "      <td>0.191293</td>\n",
       "      <td>0.356706</td>\n",
       "    </tr>\n",
       "    <tr>\n",
       "      <th>7</th>\n",
       "      <td>7</td>\n",
       "      <td>0.222309</td>\n",
       "      <td>0.317195</td>\n",
       "    </tr>\n",
       "    <tr>\n",
       "      <th>8</th>\n",
       "      <td>8</td>\n",
       "      <td>0.242454</td>\n",
       "      <td>0.279911</td>\n",
       "    </tr>\n",
       "    <tr>\n",
       "      <th>9</th>\n",
       "      <td>9</td>\n",
       "      <td>0.265352</td>\n",
       "      <td>0.258208</td>\n",
       "    </tr>\n",
       "  </tbody>\n",
       "</table>\n",
       "</div>"
      ],
      "text/plain": [
       "   epoch   elapsed     error\n",
       "0      0  0.008342  0.887034\n",
       "1      1  0.041280  0.860879\n",
       "2      2  0.083099  0.761825\n",
       "3      3  0.101051  0.649416\n",
       "4      4  0.113150  0.526433\n",
       "5      5  0.148673  0.416249\n",
       "6      6  0.191293  0.356706\n",
       "7      7  0.222309  0.317195\n",
       "8      8  0.242454  0.279911\n",
       "9      9  0.265352  0.258208"
      ]
     },
     "execution_count": 29,
     "metadata": {},
     "output_type": "execute_result"
    }
   ],
   "source": [
    "eps = 0.0000000001\n",
    "cache_dw1, cache_dw2 = 0, 0\n",
    "\n",
    "def update_adagrad(epoch, learning_rate, w1, w2, dw1, dw2):\n",
    "    # global 로 하면 안됨. class 로 변경 추후에\n",
    "    global cache_dw1, cache_dw2\n",
    "    \n",
    "    cache_dw2 = cache_dw2 + dw2 ** 2\n",
    "    w2 = w2 - learning_rate * dw2 / (np.sqrt(cache_dw2) + eps)\n",
    "    \n",
    "    cache_dw1 = cache_dw1 + dw1 ** 2\n",
    "    w1 = w1 - learning_rate * dw1 / (np.sqrt(cache_dw1) + eps)\n",
    "    \n",
    "    return w1, w2\n",
    "\n",
    "num_epoch = 100\n",
    "learning_rate = 0.01\n",
    "\n",
    "errors_adagrad = train(X, y, num_epoch, learning_rate, update_method=update_adagrad)\n",
    "\n",
    "errors_adagrad.head(10)\n",
    "# write your code here!"
   ]
  },
  {
   "cell_type": "code",
   "execution_count": 33,
   "metadata": {},
   "outputs": [
    {
     "data": {
      "text/plain": [
       "<matplotlib.legend.Legend at 0x2154c02f1d0>"
      ]
     },
     "execution_count": 33,
     "metadata": {},
     "output_type": "execute_result"
    },
    {
     "data": {
      "image/png": "[encoded data removed]",
      "text/plain": [
       "<matplotlib.figure.Figure at 0x2154bcfef98>"
      ]
     },
     "metadata": {},
     "output_type": "display_data"
    }
   ],
   "source": [
    "plt.plot(errors_momentum['elapsed'], errors_momentum['error'],label=\"momentum\")\n",
    "plt.plot(errors_nesterov['elapsed'], errors_nesterov['error'],label=\"nesterov\", c='blue')\n",
    "plt.plot(errors_adagrad['elapsed'], errors_adagrad['error'],label=\"adagrad\", c='red')\n",
    "plt.legend()"
   ]
  },
  {
   "cell_type": "markdown",
   "metadata": {},
   "source": [
    "### RMSProp"
   ]
  },
  {
   "cell_type": "code",
   "execution_count": 48,
   "metadata": {},
   "outputs": [
    {
     "name": "stdout",
     "output_type": "stream",
     "text": [
      "  0 error = 0.92209\n",
      " 10 error = 0.10462\n",
      " 20 error = 0.05231\n",
      " 30 error = 0.03506\n",
      " 40 error = 0.02504\n",
      " 50 error = 0.02226\n",
      " 60 error = 0.01836\n",
      " 70 error = 0.01558\n",
      " 80 error = 0.01224\n",
      " 90 error = 0.01113\n",
      "----------------------------------------\n",
      " 99 error = 0.00946\n"
     ]
    },
    {
     "data": {
      "text/html": [
       "<div>\n",
       "<style>\n",
       "    .dataframe thead tr:only-child th {\n",
       "        text-align: right;\n",
       "    }\n",
       "\n",
       "    .dataframe thead th {\n",
       "        text-align: left;\n",
       "    }\n",
       "\n",
       "    .dataframe tbody tr th {\n",
       "        vertical-align: top;\n",
       "    }\n",
       "</style>\n",
       "<table border=\"1\" class=\"dataframe\">\n",
       "  <thead>\n",
       "    <tr style=\"text-align: right;\">\n",
       "      <th></th>\n",
       "      <th>epoch</th>\n",
       "      <th>elapsed</th>\n",
       "      <th>error</th>\n",
       "    </tr>\n",
       "  </thead>\n",
       "  <tbody>\n",
       "    <tr>\n",
       "      <th>0</th>\n",
       "      <td>0</td>\n",
       "      <td>0.023461</td>\n",
       "      <td>0.922092</td>\n",
       "    </tr>\n",
       "    <tr>\n",
       "      <th>1</th>\n",
       "      <td>1</td>\n",
       "      <td>0.102221</td>\n",
       "      <td>0.821925</td>\n",
       "    </tr>\n",
       "    <tr>\n",
       "      <th>2</th>\n",
       "      <td>2</td>\n",
       "      <td>0.182796</td>\n",
       "      <td>0.702838</td>\n",
       "    </tr>\n",
       "    <tr>\n",
       "      <th>3</th>\n",
       "      <td>3</td>\n",
       "      <td>0.213436</td>\n",
       "      <td>0.308848</td>\n",
       "    </tr>\n",
       "    <tr>\n",
       "      <th>4</th>\n",
       "      <td>4</td>\n",
       "      <td>0.241143</td>\n",
       "      <td>0.257652</td>\n",
       "    </tr>\n",
       "    <tr>\n",
       "      <th>5</th>\n",
       "      <td>5</td>\n",
       "      <td>0.265839</td>\n",
       "      <td>0.173066</td>\n",
       "    </tr>\n",
       "    <tr>\n",
       "      <th>6</th>\n",
       "      <td>6</td>\n",
       "      <td>0.291642</td>\n",
       "      <td>0.216472</td>\n",
       "    </tr>\n",
       "    <tr>\n",
       "      <th>7</th>\n",
       "      <td>7</td>\n",
       "      <td>0.315974</td>\n",
       "      <td>0.144686</td>\n",
       "    </tr>\n",
       "    <tr>\n",
       "      <th>8</th>\n",
       "      <td>8</td>\n",
       "      <td>0.354500</td>\n",
       "      <td>0.155259</td>\n",
       "    </tr>\n",
       "    <tr>\n",
       "      <th>9</th>\n",
       "      <td>9</td>\n",
       "      <td>0.384225</td>\n",
       "      <td>0.122426</td>\n",
       "    </tr>\n",
       "  </tbody>\n",
       "</table>\n",
       "</div>"
      ],
      "text/plain": [
       "   epoch   elapsed     error\n",
       "0      0  0.023461  0.922092\n",
       "1      1  0.102221  0.821925\n",
       "2      2  0.182796  0.702838\n",
       "3      3  0.213436  0.308848\n",
       "4      4  0.241143  0.257652\n",
       "5      5  0.265839  0.173066\n",
       "6      6  0.291642  0.216472\n",
       "7      7  0.315974  0.144686\n",
       "8      8  0.354500  0.155259\n",
       "9      9  0.384225  0.122426"
      ]
     },
     "execution_count": 48,
     "metadata": {},
     "output_type": "execute_result"
    }
   ],
   "source": [
    "eps = 0.0000000001\n",
    "decay = 0.995\n",
    "\n",
    "cache_dw1, cache_dw2 = 0, 0\n",
    "\n",
    "def update_rmsprop(epoch, learning_rate, w1, w2, dw1, dw2):\n",
    "    # global 로 하면 안됨. class 로 변경 추후에\n",
    "    global cache_dw1, cache_dw2\n",
    "    \n",
    "    cache_dw2 = decay * cache_dw2 + (1 - decay) * dw2 ** 2\n",
    "    w2 = w2 - learning_rate * dw2 / (np.sqrt(cache_dw2) + eps)\n",
    "    \n",
    "    cache_dw1 = decay * cache_dw1 + (1 - decay) * dw1 ** 2\n",
    "    w1 = w1 - learning_rate * dw1 / (np.sqrt(cache_dw1) + eps)\n",
    "    \n",
    "    return w1, w2\n",
    "\n",
    "num_epoch = 100\n",
    "learning_rate = 0.003\n",
    "\n",
    "errors_rmsprop = train(X, y, num_epoch, learning_rate, update_method=update_rmsprop)\n",
    "\n",
    "errors_rmsprop.head(10)\n",
    "# write your code here!"
   ]
  },
  {
   "cell_type": "code",
   "execution_count": 52,
   "metadata": {},
   "outputs": [
    {
     "data": {
      "text/plain": [
       "<matplotlib.legend.Legend at 0x2154e8f85c0>"
      ]
     },
     "execution_count": 52,
     "metadata": {},
     "output_type": "execute_result"
    },
    {
     "data": {
      "image/png": "[encoded data removed]",
      "text/plain": [
       "<matplotlib.figure.Figure at 0x2154e8aacc0>"
      ]
     },
     "metadata": {},
     "output_type": "display_data"
    }
   ],
   "source": [
    "plt.plot(errors_nesterov['elapsed'], errors_nesterov['error'],label=\"nesterov\", c='blue')\n",
    "plt.plot(errors_adagrad['elapsed'], errors_adagrad['error'],label=\"adagrad\", c='red')\n",
    "plt.plot(errors_rmsprop['elapsed'], errors_rmsprop['error'],label=\"RMSProp\", c='purple')\n",
    "plt.legend()"
   ]
  },
  {
   "cell_type": "markdown",
   "metadata": {},
   "source": [
    "### Adam"
   ]
  },
  {
   "cell_type": "code",
   "execution_count": 60,
   "metadata": {},
   "outputs": [
    {
     "name": "stdout",
     "output_type": "stream",
     "text": [
      "  0 error = 0.89649\n",
      " 10 error = 0.21146\n",
      " 20 error = 0.09850\n",
      " 30 error = 0.05676\n",
      " 40 error = 0.03840\n",
      " 50 error = 0.02671\n",
      " 60 error = 0.01725\n",
      " 70 error = 0.01224\n",
      " 80 error = 0.01057\n",
      " 90 error = 0.00835\n",
      "----------------------------------------\n",
      " 99 error = 0.00723\n"
     ]
    },
    {
     "data": {
      "text/html": [
       "<div>\n",
       "<style>\n",
       "    .dataframe thead tr:only-child th {\n",
       "        text-align: right;\n",
       "    }\n",
       "\n",
       "    .dataframe thead th {\n",
       "        text-align: left;\n",
       "    }\n",
       "\n",
       "    .dataframe tbody tr th {\n",
       "        vertical-align: top;\n",
       "    }\n",
       "</style>\n",
       "<table border=\"1\" class=\"dataframe\">\n",
       "  <thead>\n",
       "    <tr style=\"text-align: right;\">\n",
       "      <th></th>\n",
       "      <th>epoch</th>\n",
       "      <th>elapsed</th>\n",
       "      <th>error</th>\n",
       "    </tr>\n",
       "  </thead>\n",
       "  <tbody>\n",
       "    <tr>\n",
       "      <th>0</th>\n",
       "      <td>0</td>\n",
       "      <td>0.029599</td>\n",
       "      <td>0.896494</td>\n",
       "    </tr>\n",
       "    <tr>\n",
       "      <th>1</th>\n",
       "      <td>1</td>\n",
       "      <td>0.067217</td>\n",
       "      <td>0.832499</td>\n",
       "    </tr>\n",
       "    <tr>\n",
       "      <th>2</th>\n",
       "      <td>2</td>\n",
       "      <td>0.108015</td>\n",
       "      <td>0.662771</td>\n",
       "    </tr>\n",
       "    <tr>\n",
       "      <th>3</th>\n",
       "      <td>3</td>\n",
       "      <td>0.145696</td>\n",
       "      <td>0.510295</td>\n",
       "    </tr>\n",
       "    <tr>\n",
       "      <th>4</th>\n",
       "      <td>4</td>\n",
       "      <td>0.170783</td>\n",
       "      <td>0.461881</td>\n",
       "    </tr>\n",
       "    <tr>\n",
       "      <th>5</th>\n",
       "      <td>5</td>\n",
       "      <td>0.214612</td>\n",
       "      <td>0.459098</td>\n",
       "    </tr>\n",
       "    <tr>\n",
       "      <th>6</th>\n",
       "      <td>6</td>\n",
       "      <td>0.257700</td>\n",
       "      <td>0.412354</td>\n",
       "    </tr>\n",
       "    <tr>\n",
       "      <th>7</th>\n",
       "      <td>7</td>\n",
       "      <td>0.307792</td>\n",
       "      <td>0.335003</td>\n",
       "    </tr>\n",
       "    <tr>\n",
       "      <th>8</th>\n",
       "      <td>8</td>\n",
       "      <td>0.346241</td>\n",
       "      <td>0.273233</td>\n",
       "    </tr>\n",
       "    <tr>\n",
       "      <th>9</th>\n",
       "      <td>9</td>\n",
       "      <td>0.381050</td>\n",
       "      <td>0.231497</td>\n",
       "    </tr>\n",
       "  </tbody>\n",
       "</table>\n",
       "</div>"
      ],
      "text/plain": [
       "   epoch   elapsed     error\n",
       "0      0  0.029599  0.896494\n",
       "1      1  0.067217  0.832499\n",
       "2      2  0.108015  0.662771\n",
       "3      3  0.145696  0.510295\n",
       "4      4  0.170783  0.461881\n",
       "5      5  0.214612  0.459098\n",
       "6      6  0.257700  0.412354\n",
       "7      7  0.307792  0.335003\n",
       "8      8  0.346241  0.273233\n",
       "9      9  0.381050  0.231497"
      ]
     },
     "execution_count": 60,
     "metadata": {},
     "output_type": "execute_result"
    }
   ],
   "source": [
    "beta1 = 0.9\n",
    "beta2 = 0.99\n",
    "eps = 0.0000000001\n",
    "\n",
    "dw1m, dw2m = 0,0\n",
    "dw1v, dw2v = 0,0\n",
    "\n",
    "cache_dw1, cache_dw2 = 0, 0\n",
    "\n",
    "def update_adam(epoch, learning_rate, w1, w2, dw1, dw2):\n",
    "    # global 로 하면 안됨. class 로 변경 추후에\n",
    "    global dw1m, dw2m\n",
    "    global dw1v, dw2v\n",
    "    \n",
    "    dw2m = beta1 * dw2m + (1 - beta1) * dw2\n",
    "    dw2v = beta2 * dw2v + (1 - beta2) * (dw2 ** 2)   \n",
    "    dw2mb = dw2m / (1 - beta1 ** (1 + epoch))\n",
    "    dw2vb = dw2v / (1 - beta2 ** (1 + epoch))\n",
    "    \n",
    "    w2 = w2 - learning_rate * dw2mb / (np.sqrt(dw2vb) + eps)\n",
    "    \n",
    "    dw1m = beta1 * dw1m + (1 - beta1) * dw1\n",
    "    dw1v = beta2 * dw1v + (1 - beta2) * (dw1 ** 2)\n",
    "    dw1mb = dw1m / (1 - beta1 ** (1 + epoch))\n",
    "    dw1vb = dw1v / (1 - beta2 ** (1 + epoch))\n",
    "    \n",
    "    w1 = w1 - learning_rate * dw1mb / (np.sqrt(dw1vb) + eps)\n",
    "    \n",
    "    return w1, w2\n",
    "\n",
    "num_epoch = 100\n",
    "learning_rate = 0.01\n",
    "\n",
    "errors_adam = train(X, y, num_epoch, learning_rate, update_method=update_adam)\n",
    "\n",
    "errors_adam.head(10)\n",
    "# write your code here!"
   ]
  },
  {
   "cell_type": "code",
   "execution_count": 61,
   "metadata": {},
   "outputs": [
    {
     "data": {
      "text/plain": [
       "<matplotlib.legend.Legend at 0x2154eafe160>"
      ]
     },
     "execution_count": 61,
     "metadata": {},
     "output_type": "execute_result"
    },
    {
     "data": {
      "image/png": "[encoded data removed]",
      "text/plain": [
       "<matplotlib.figure.Figure at 0x2154e9f4588>"
      ]
     },
     "metadata": {},
     "output_type": "display_data"
    }
   ],
   "source": [
    "plt.plot(errors_nesterov['elapsed'], errors_nesterov['error'],label=\"nesterov\", c='blue')\n",
    "plt.plot(errors_rmsprop['elapsed'], errors_rmsprop['error'],label=\"RMSProp\", c='purple')\n",
    "plt.plot(errors_adam['elapsed'], errors_adam['error'],label=\"ADAM\", c='red')\n",
    "plt.legend()"
   ]
  },
  {
   "cell_type": "code",
   "execution_count": null,
   "metadata": {},
   "outputs": [],
   "source": []
  }
 ],
 "metadata": {
  "kernelspec": {
   "display_name": "Python 3",
   "language": "python",
   "name": "python3"
  },
  "language_info": {
   "codemirror_mode": {
    "name": "ipython",
    "version": 3
   },
   "file_extension": ".py",
   "mimetype": "text/x-python",
   "name": "python",
   "nbconvert_exporter": "python",
   "pygments_lexer": "ipython3",
   "version": "3.6.3"
  }
 },
 "nbformat": 4,
 "nbformat_minor": 2
}
