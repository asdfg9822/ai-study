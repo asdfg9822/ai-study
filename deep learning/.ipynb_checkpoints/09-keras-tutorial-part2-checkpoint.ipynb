{
 "cells": [
  {
   "cell_type": "markdown",
   "metadata": {},
   "source": [
    "## Prerequisites"
   ]
  },
  {
   "cell_type": "code",
   "execution_count": 1,
   "metadata": {},
   "outputs": [],
   "source": [
    "#!pip install keras"
   ]
  },
  {
   "cell_type": "code",
   "execution_count": 2,
   "metadata": {},
   "outputs": [
    {
     "name": "stderr",
     "output_type": "stream",
     "text": [
      "Using TensorFlow backend.\n"
     ]
    }
   ],
   "source": [
    "import numpy as np\n",
    "import keras"
   ]
  },
  {
   "cell_type": "markdown",
   "metadata": {},
   "source": [
    "## Load Dataset"
   ]
  },
  {
   "cell_type": "code",
   "execution_count": 3,
   "metadata": {},
   "outputs": [
    {
     "name": "stdout",
     "output_type": "stream",
     "text": [
      "(60000, 28, 28) (60000,)\n",
      "(10000, 28, 28) (10000,)\n"
     ]
    }
   ],
   "source": [
    "from keras.datasets import mnist\n",
    "\n",
    "((X_train, y_train), (X_test, y_test)) = mnist.load_data()\n",
    " \n",
    "print(X_train.shape, y_train.shape)\n",
    "print(X_test.shape, y_test.shape)"
   ]
  },
  {
   "cell_type": "markdown",
   "metadata": {},
   "source": [
    "### Visualize"
   ]
  },
  {
   "cell_type": "code",
   "execution_count": 4,
   "metadata": {},
   "outputs": [
    {
     "name": "stdout",
     "output_type": "stream",
     "text": [
      "[5 0 4 1 9 2 1 3 1 4]\n"
     ]
    },
    {
     "data": {
      "text/plain": [
       "<matplotlib.image.AxesImage at 0x1e599d52550>"
      ]
     },
     "execution_count": 4,
     "metadata": {},
     "output_type": "execute_result"
    },
    {
     "data": {
      "text/plain": [
       "<matplotlib.figure.Figure at 0x1e599577160>"
      ]
     },
     "metadata": {},
     "output_type": "display_data"
    },
    {
     "data": {
      "image/png": "[encoded data removed]",
      "text/plain": [
       "<matplotlib.figure.Figure at 0x1e599649c50>"
      ]
     },
     "metadata": {},
     "output_type": "display_data"
    }
   ],
   "source": [
    "%matplotlib inline\n",
    "import matplotlib.pyplot as plt\n",
    "\n",
    "plt.gray()\n",
    "\n",
    "print(y_train[0:10])\n",
    "\n",
    "figures, axes = plt.subplots(nrows=2, ncols=5)\n",
    "figures.set_size_inches(18, 8)\n",
    "\n",
    "axes[0][0].matshow(X_train[0])\n",
    "axes[0][1].matshow(X_train[1])\n",
    "axes[0][2].matshow(X_train[2])\n",
    "axes[0][3].matshow(X_train[3])\n",
    "axes[0][4].matshow(X_train[4])\n",
    "axes[1][0].matshow(X_train[5])\n",
    "axes[1][1].matshow(X_train[6])\n",
    "axes[1][2].matshow(X_train[7])\n",
    "axes[1][3].matshow(X_train[8])\n",
    "axes[1][4].matshow(X_train[9])"
   ]
  },
  {
   "cell_type": "markdown",
   "metadata": {},
   "source": [
    "## Preprocessing"
   ]
  },
  {
   "cell_type": "code",
   "execution_count": 5,
   "metadata": {},
   "outputs": [
    {
     "name": "stdout",
     "output_type": "stream",
     "text": [
      "(60000, 28, 28, 1) (10000, 28, 28, 1)\n"
     ]
    }
   ],
   "source": [
    "# Dimension 기준\n",
    "# X = number of data / input height / input width / input channel\n",
    "# W = output channel / input channel / weight height / weight width\n",
    "# Y = number of data / output height / output width / output channel\n",
    "X_train = X_train.reshape(60000, 28, 28, 1)\n",
    "X_test = X_test.reshape(10000, 28, 28, 1)\n",
    "\n",
    "print(X_train.shape, X_test.shape)"
   ]
  },
  {
   "cell_type": "code",
   "execution_count": 6,
   "metadata": {},
   "outputs": [
    {
     "name": "stdout",
     "output_type": "stream",
     "text": [
      "(60000, 10) (10000, 10)\n"
     ]
    }
   ],
   "source": [
    "from keras.utils import to_categorical\n",
    "\n",
    "# One hot encoding을 합니다.\n",
    "# np.eye(10)[y_train]과 동일합니다.\n",
    "y_train_hot = to_categorical(y_train)\n",
    "\n",
    "# np.eye(10)[y_test]와 동일합니다.\n",
    "y_test_hot = to_categorical(y_test)\n",
    "\n",
    "print(y_train_hot.shape, y_test_hot.shape)"
   ]
  },
  {
   "cell_type": "markdown",
   "metadata": {},
   "source": [
    "## Build a Model"
   ]
  },
  {
   "cell_type": "markdown",
   "metadata": {},
   "source": [
    "### Convolutional Neural Network"
   ]
  },
  {
   "cell_type": "code",
   "execution_count": 7,
   "metadata": {},
   "outputs": [
    {
     "name": "stdout",
     "output_type": "stream",
     "text": [
      "WARNING:tensorflow:From C:\\AI\\Anaconda3\\lib\\site-packages\\keras\\backend\\tensorflow_backend.py:1205: calling reduce_prod (from tensorflow.python.ops.math_ops) with keep_dims is deprecated and will be removed in a future version.\n",
      "Instructions for updating:\n",
      "keep_dims is deprecated, use keepdims instead\n",
      "WARNING:tensorflow:From C:\\AI\\Anaconda3\\lib\\site-packages\\keras\\backend\\tensorflow_backend.py:2755: calling reduce_sum (from tensorflow.python.ops.math_ops) with keep_dims is deprecated and will be removed in a future version.\n",
      "Instructions for updating:\n",
      "keep_dims is deprecated, use keepdims instead\n",
      "WARNING:tensorflow:From C:\\AI\\Anaconda3\\lib\\site-packages\\keras\\backend\\tensorflow_backend.py:1290: calling reduce_mean (from tensorflow.python.ops.math_ops) with keep_dims is deprecated and will be removed in a future version.\n",
      "Instructions for updating:\n",
      "keep_dims is deprecated, use keepdims instead\n"
     ]
    }
   ],
   "source": [
    "from keras.models import Sequential\n",
    "from keras.layers import Conv2D, MaxPooling2D, Flatten, Dense\n",
    "\n",
    "model = Sequential()\n",
    "\n",
    "model.add(Conv2D(filters=6,\n",
    "                 kernel_initializer='random_uniform',\n",
    "                 activation='sigmoid',\n",
    "                 kernel_size=(5, 5),\n",
    "                 input_shape=(28, 28, 1)))\n",
    "model.add(MaxPooling2D(pool_size=(2, 2),\n",
    "                       strides=(2, 2)))\n",
    "\n",
    "model.add(Conv2D(filters=12,\n",
    "                 kernel_initializer='random_uniform',\n",
    "                 activation='sigmoid',\n",
    "                 kernel_size=(5, 5)))\n",
    "model.add(MaxPooling2D(pool_size=(2, 2),\n",
    "                       strides=(2, 2)))\n",
    "\n",
    "model.add(Flatten())\n",
    "\n",
    "model.add(Dense(units=128,\n",
    "                kernel_initializer='random_uniform',\n",
    "                activation='sigmoid'))\n",
    "model.add(Dense(units=10,\n",
    "                kernel_initializer='random_uniform',\n",
    "                activation='sigmoid'))\n",
    "\n",
    "from keras.optimizers import SGD\n",
    "\n",
    "optimizer = SGD(lr=0.1)\n",
    "\n",
    "model.compile(optimizer=optimizer,\n",
    "              loss='categorical_crossentropy',\n",
    "              metrics=['accuracy'])"
   ]
  },
  {
   "cell_type": "code",
   "execution_count": null,
   "metadata": {},
   "outputs": [
    {
     "name": "stdout",
     "output_type": "stream",
     "text": [
      "Train on 60000 samples, validate on 10000 samples\n",
      "Epoch 1/30\n",
      "60000/60000 [==============================] - 35s 583us/step - loss: 2.3024 - acc: 0.1095 - val_loss: 2.2979 - val_acc: 0.1135\n",
      "Epoch 2/30\n",
      "60000/60000 [==============================] - 37s 618us/step - loss: 1.4392 - acc: 0.5109 - val_loss: 0.3593 - val_acc: 0.9047\n",
      "Epoch 3/30\n",
      "60000/60000 [==============================] - 40s 666us/step - loss: 0.2679 - acc: 0.9237 - val_loss: 0.1874 - val_acc: 0.9440\n",
      "Epoch 4/30\n",
      "60000/60000 [==============================] - 44s 734us/step - loss: 0.1709 - acc: 0.9507 - val_loss: 0.1345 - val_acc: 0.9608\n",
      "Epoch 5/30\n",
      "60000/60000 [==============================] - 42s 705us/step - loss: 0.1384 - acc: 0.9589 - val_loss: 0.1097 - val_acc: 0.9654\n",
      "Epoch 6/30\n",
      "60000/60000 [==============================] - 45s 754us/step - loss: 0.1118 - acc: 0.9666 - val_loss: 0.0922 - val_acc: 0.9703\n",
      "Epoch 7/30\n",
      "60000/60000 [==============================] - 53s 881us/step - loss: 0.1001 - acc: 0.9691 - val_loss: 0.0825 - val_acc: 0.9740\n",
      "Epoch 8/30\n",
      "60000/60000 [==============================] - 50s 827us/step - loss: 0.0906 - acc: 0.9729 - val_loss: 0.0861 - val_acc: 0.9716\n",
      "Epoch 9/30\n",
      "60000/60000 [==============================] - 54s 895us/step - loss: 0.0843 - acc: 0.9741 - val_loss: 0.0744 - val_acc: 0.9764\n",
      "Epoch 10/30\n",
      "60000/60000 [==============================] - 53s 888us/step - loss: 0.0786 - acc: 0.9757 - val_loss: 0.0670 - val_acc: 0.9787\n",
      "Epoch 11/30\n",
      "60000/60000 [==============================] - 54s 905us/step - loss: 0.0742 - acc: 0.9773 - val_loss: 0.0622 - val_acc: 0.9798\n",
      "Epoch 12/30\n",
      "60000/60000 [==============================] - 54s 904us/step - loss: 0.0703 - acc: 0.9782 - val_loss: 0.0599 - val_acc: 0.9809\n",
      "Epoch 13/30\n",
      "60000/60000 [==============================] - 56s 938us/step - loss: 0.0720 - acc: 0.9778 - val_loss: 0.0639 - val_acc: 0.9781\n",
      "Epoch 14/30\n",
      "60000/60000 [==============================] - 76s 1ms/step - loss: 0.0691 - acc: 0.9781 - val_loss: 0.0598 - val_acc: 0.9811\n",
      "Epoch 15/30\n",
      "60000/60000 [==============================] - 60s 1ms/step - loss: 0.0642 - acc: 0.9797 - val_loss: 0.0542 - val_acc: 0.9820\n",
      "Epoch 16/30\n",
      "60000/60000 [==============================] - 51s 852us/step - loss: 0.0632 - acc: 0.9809 - val_loss: 0.0584 - val_acc: 0.9812\n",
      "Epoch 17/30\n",
      "60000/60000 [==============================] - 64s 1ms/step - loss: 0.0616 - acc: 0.9806 - val_loss: 0.0540 - val_acc: 0.9822\n",
      "Epoch 18/30\n",
      "60000/60000 [==============================] - 46s 759us/step - loss: 0.0567 - acc: 0.9821 - val_loss: 0.0544 - val_acc: 0.9823\n",
      "Epoch 19/30\n",
      "60000/60000 [==============================] - 53s 889us/step - loss: 0.0582 - acc: 0.9822 - val_loss: 0.0494 - val_acc: 0.9838\n",
      "Epoch 20/30\n",
      "60000/60000 [==============================] - 43s 719us/step - loss: 0.0507 - acc: 0.9845 - val_loss: 0.0502 - val_acc: 0.9837\n",
      "Epoch 21/30\n",
      "60000/60000 [==============================] - 49s 822us/step - loss: 0.0518 - acc: 0.9838 - val_loss: 0.0511 - val_acc: 0.9836\n",
      "Epoch 22/30\n",
      "60000/60000 [==============================] - 51s 852us/step - loss: 0.0505 - acc: 0.9836 - val_loss: 0.0547 - val_acc: 0.9817\n",
      "Epoch 23/30\n",
      "14560/60000 [======>.......................] - ETA: 41s - loss: 0.0461 - acc: 0.9857 ETA: 41s - loss: 0.04"
     ]
    }
   ],
   "source": [
    "model.fit(X_train,\n",
    "          y_train_hot,\n",
    "          epochs=30,\n",
    "          validation_data=(X_test, y_test_hot))"
   ]
  },
  {
   "cell_type": "code",
   "execution_count": null,
   "metadata": {
    "collapsed": true
   },
   "outputs": [],
   "source": []
  },
  {
   "cell_type": "code",
   "execution_count": null,
   "metadata": {
    "collapsed": true
   },
   "outputs": [],
   "source": []
  },
  {
   "cell_type": "code",
   "execution_count": null,
   "metadata": {
    "collapsed": true
   },
   "outputs": [],
   "source": []
  },
  {
   "cell_type": "code",
   "execution_count": null,
   "metadata": {
    "collapsed": true
   },
   "outputs": [],
   "source": []
  }
 ],
 "metadata": {
  "kernelspec": {
   "display_name": "Python 3",
   "language": "python",
   "name": "python3"
  },
  "language_info": {
   "codemirror_mode": {
    "name": "ipython",
    "version": 3
   },
   "file_extension": ".py",
   "mimetype": "text/x-python",
   "name": "python",
   "nbconvert_exporter": "python",
   "pygments_lexer": "ipython3",
   "version": "3.6.2"
  }
 },
 "nbformat": 4,
 "nbformat_minor": 2
}
