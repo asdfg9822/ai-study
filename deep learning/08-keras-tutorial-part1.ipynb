{
 "cells": [
  {
   "cell_type": "markdown",
   "metadata": {},
   "source": [
    "## Prerequisites"
   ]
  },
  {
   "cell_type": "code",
   "execution_count": 1,
   "metadata": {},
   "outputs": [],
   "source": [
    "#!pip install keras"
   ]
  },
  {
   "cell_type": "code",
   "execution_count": 2,
   "metadata": {},
   "outputs": [
    {
     "name": "stderr",
     "output_type": "stream",
     "text": [
      "Using TensorFlow backend.\n"
     ]
    }
   ],
   "source": [
    "import numpy as np\n",
    "import keras"
   ]
  },
  {
   "cell_type": "markdown",
   "metadata": {},
   "source": [
    "## Load Dataset"
   ]
  },
  {
   "cell_type": "code",
   "execution_count": 3,
   "metadata": {},
   "outputs": [
    {
     "name": "stdout",
     "output_type": "stream",
     "text": [
      "(60000, 28, 28) (60000,)\n",
      "(10000, 28, 28) (10000,)\n"
     ]
    }
   ],
   "source": [
    "from keras.datasets import mnist\n",
    "\n",
    "((X_train, y_train), (X_test, y_test)) = mnist.load_data()\n",
    " \n",
    "print(X_train.shape, y_train.shape)\n",
    "print(X_test.shape, y_test.shape)"
   ]
  },
  {
   "cell_type": "markdown",
   "metadata": {},
   "source": [
    "### Visualize"
   ]
  },
  {
   "cell_type": "code",
   "execution_count": 4,
   "metadata": {},
   "outputs": [
    {
     "name": "stdout",
     "output_type": "stream",
     "text": [
      "[5 0 4 1 9 2 1 3 1 4]\n"
     ]
    },
    {
     "data": {
      "text/plain": [
       "<matplotlib.image.AxesImage at 0x1ba06f15668>"
      ]
     },
     "execution_count": 4,
     "metadata": {},
     "output_type": "execute_result"
    },
    {
     "data": {
      "text/plain": [
       "<matplotlib.figure.Figure at 0x1ba069950b8>"
      ]
     },
     "metadata": {},
     "output_type": "display_data"
    },
    {
     "data": {
      "image/png": "[encoded data removed]",
      "text/plain": [
       "<matplotlib.figure.Figure at 0x1ba06a6db70>"
      ]
     },
     "metadata": {},
     "output_type": "display_data"
    }
   ],
   "source": [
    "%matplotlib inline\n",
    "import matplotlib.pyplot as plt\n",
    "\n",
    "plt.gray()\n",
    "\n",
    "print(y_train[0:10])\n",
    "\n",
    "figures, axes = plt.subplots(nrows=2, ncols=5)\n",
    "figures.set_size_inches(18, 8)\n",
    "\n",
    "axes[0][0].matshow(X_train[0])\n",
    "axes[0][1].matshow(X_train[1])\n",
    "axes[0][2].matshow(X_train[2])\n",
    "axes[0][3].matshow(X_train[3])\n",
    "axes[0][4].matshow(X_train[4])\n",
    "axes[1][0].matshow(X_train[5])\n",
    "axes[1][1].matshow(X_train[6])\n",
    "axes[1][2].matshow(X_train[7])\n",
    "axes[1][3].matshow(X_train[8])\n",
    "axes[1][4].matshow(X_train[9])"
   ]
  },
  {
   "cell_type": "markdown",
   "metadata": {},
   "source": [
    "## Preprocessing"
   ]
  },
  {
   "cell_type": "code",
   "execution_count": 5,
   "metadata": {},
   "outputs": [
    {
     "name": "stdout",
     "output_type": "stream",
     "text": [
      "(60000, 784) (10000, 784)\n"
     ]
    }
   ],
   "source": [
    "X_train = X_train.reshape(60000, 28 * 28)\n",
    "X_test = X_test.reshape(10000, 28 * 28)\n",
    "\n",
    "print(X_train.shape, X_test.shape)"
   ]
  },
  {
   "cell_type": "code",
   "execution_count": 6,
   "metadata": {},
   "outputs": [
    {
     "name": "stdout",
     "output_type": "stream",
     "text": [
      "(60000, 10) (10000, 10)\n"
     ]
    }
   ],
   "source": [
    "from keras.utils import to_categorical\n",
    "\n",
    "# One hot encoding을 합니다.\n",
    "# np.eye(10)[y_train]과 동일합니다.\n",
    "y_train_hot = to_categorical(y_train)\n",
    "\n",
    "# np.eye(10)[y_test]와 동일합니다.\n",
    "y_test_hot = to_categorical(y_test)\n",
    "\n",
    "print(y_train_hot.shape, y_test_hot.shape)"
   ]
  },
  {
   "cell_type": "markdown",
   "metadata": {},
   "source": [
    "## Build a Model"
   ]
  },
  {
   "cell_type": "markdown",
   "metadata": {},
   "source": [
    "### Single-layer Neural Network"
   ]
  },
  {
   "cell_type": "code",
   "execution_count": 7,
   "metadata": {},
   "outputs": [
    {
     "name": "stdout",
     "output_type": "stream",
     "text": [
      "WARNING:tensorflow:From C:\\AI\\Anaconda3\\lib\\site-packages\\keras\\backend\\tensorflow_backend.py:2755: calling reduce_sum (from tensorflow.python.ops.math_ops) with keep_dims is deprecated and will be removed in a future version.\n",
      "Instructions for updating:\n",
      "keep_dims is deprecated, use keepdims instead\n",
      "WARNING:tensorflow:From C:\\AI\\Anaconda3\\lib\\site-packages\\keras\\backend\\tensorflow_backend.py:1290: calling reduce_mean (from tensorflow.python.ops.math_ops) with keep_dims is deprecated and will be removed in a future version.\n",
      "Instructions for updating:\n",
      "keep_dims is deprecated, use keepdims instead\n"
     ]
    }
   ],
   "source": [
    "from keras.models import Sequential\n",
    "from keras.layers import Dense, Activation\n",
    "from keras.initializers import RandomUniform\n",
    "from keras.optimizers import SGD\n",
    "\n",
    "model = Sequential()\n",
    "model.add(Dense(units=10,\n",
    "                kernel_initializer=RandomUniform(minval=0.0, maxval=0.001),\n",
    "                input_shape=(28 * 28,)))\n",
    "model.add(Activation('sigmoid'))\n",
    "\n",
    "optimizers = SGD(lr=0.00001)\n",
    "model.compile(optimizer=optimizers,\n",
    "              loss='categorical_crossentropy',\n",
    "              metrics=['accuracy'])"
   ]
  },
  {
   "cell_type": "code",
   "execution_count": 8,
   "metadata": {},
   "outputs": [
    {
     "name": "stdout",
     "output_type": "stream",
     "text": [
      "Train on 60000 samples, validate on 10000 samples\n",
      "Epoch 1/20\n",
      "60000/60000 [==============================] - 1s - loss: 2.3007 - acc: 0.1833 - val_loss: 2.2730 - val_acc: 0.1721\n",
      "Epoch 2/20\n",
      "60000/60000 [==============================] - 1s - loss: 1.7483 - acc: 0.1255 - val_loss: 1.0430 - val_acc: 0.1134\n",
      "Epoch 3/20\n",
      "60000/60000 [==============================] - 1s - loss: 1.0242 - acc: 0.1142 - val_loss: 0.9978 - val_acc: 0.1162\n",
      "Epoch 4/20\n",
      "60000/60000 [==============================] - 1s - loss: 0.9995 - acc: 0.1177 - val_loss: 0.9818 - val_acc: 0.1193\n",
      "Epoch 5/20\n",
      "60000/60000 [==============================] - 1s - loss: 0.9884 - acc: 0.1222 - val_loss: 0.9823 - val_acc: 0.1273\n",
      "Epoch 6/20\n",
      "60000/60000 [==============================] - 1s - loss: 0.9819 - acc: 0.1276 - val_loss: 0.9854 - val_acc: 0.1263\n",
      "Epoch 7/20\n",
      "60000/60000 [==============================] - 1s - loss: 0.9761 - acc: 0.1347 - val_loss: 0.9743 - val_acc: 0.1293\n",
      "Epoch 8/20\n",
      "60000/60000 [==============================] - 1s - loss: 0.9718 - acc: 0.1420 - val_loss: 0.9964 - val_acc: 0.1436\n",
      "Epoch 9/20\n",
      "60000/60000 [==============================] - 1s - loss: 0.9690 - acc: 0.1552 - val_loss: 0.9847 - val_acc: 0.1568\n",
      "Epoch 10/20\n",
      "60000/60000 [==============================] - 1s - loss: 0.9658 - acc: 0.1774 - val_loss: 0.9757 - val_acc: 0.2060\n",
      "Epoch 11/20\n",
      "60000/60000 [==============================] - 1s - loss: 0.5779 - acc: 0.6691 - val_loss: 0.3404 - val_acc: 0.9087\n",
      "Epoch 12/20\n",
      "60000/60000 [==============================] - 1s - loss: 0.3302 - acc: 0.9079 - val_loss: 0.3288 - val_acc: 0.9117\n",
      "Epoch 13/20\n",
      "60000/60000 [==============================] - 1s - loss: 0.3180 - acc: 0.9114 - val_loss: 0.3495 - val_acc: 0.9047\n",
      "Epoch 14/20\n",
      "60000/60000 [==============================] - 1s - loss: 0.3124 - acc: 0.9134 - val_loss: 0.3395 - val_acc: 0.9055\n",
      "Epoch 15/20\n",
      "60000/60000 [==============================] - 1s - loss: 0.3070 - acc: 0.9140 - val_loss: 0.3136 - val_acc: 0.9142\n",
      "Epoch 16/20\n",
      "60000/60000 [==============================] - 1s - loss: 0.3016 - acc: 0.9152 - val_loss: 0.3126 - val_acc: 0.9186\n",
      "Epoch 17/20\n",
      "60000/60000 [==============================] - 1s - loss: 0.2986 - acc: 0.9163 - val_loss: 0.3198 - val_acc: 0.9175\n",
      "Epoch 18/20\n",
      "60000/60000 [==============================] - 1s - loss: 0.2980 - acc: 0.9163 - val_loss: 0.3214 - val_acc: 0.9145\n",
      "Epoch 19/20\n",
      "60000/60000 [==============================] - 1s - loss: 0.2956 - acc: 0.9169 - val_loss: 0.3113 - val_acc: 0.9178\n",
      "Epoch 20/20\n",
      "60000/60000 [==============================] - 1s - loss: 0.2949 - acc: 0.9174 - val_loss: 0.3197 - val_acc: 0.9139\n"
     ]
    },
    {
     "data": {
      "text/plain": [
       "<keras.callbacks.History at 0x1ba02dce6a0>"
      ]
     },
     "execution_count": 8,
     "metadata": {},
     "output_type": "execute_result"
    }
   ],
   "source": [
    "model.fit(X_train,\n",
    "          y_train_hot,\n",
    "          epochs=20,\n",
    "          validation_data=(X_test, y_test_hot))"
   ]
  },
  {
   "cell_type": "code",
   "execution_count": 9,
   "metadata": {},
   "outputs": [
    {
     "name": "stdout",
     "output_type": "stream",
     "text": [
      "Accuracy = 0.913900\n"
     ]
    },
    {
     "data": {
      "text/html": [
       "<div>\n",
       "<style>\n",
       "    .dataframe thead tr:only-child th {\n",
       "        text-align: right;\n",
       "    }\n",
       "\n",
       "    .dataframe thead th {\n",
       "        text-align: left;\n",
       "    }\n",
       "\n",
       "    .dataframe tbody tr th {\n",
       "        vertical-align: top;\n",
       "    }\n",
       "</style>\n",
       "<table border=\"1\" class=\"dataframe\">\n",
       "  <thead>\n",
       "    <tr style=\"text-align: right;\">\n",
       "      <th></th>\n",
       "      <th>actual</th>\n",
       "      <th>predict</th>\n",
       "    </tr>\n",
       "  </thead>\n",
       "  <tbody>\n",
       "    <tr>\n",
       "      <th>0</th>\n",
       "      <td>7</td>\n",
       "      <td>7</td>\n",
       "    </tr>\n",
       "    <tr>\n",
       "      <th>1</th>\n",
       "      <td>2</td>\n",
       "      <td>2</td>\n",
       "    </tr>\n",
       "    <tr>\n",
       "      <th>2</th>\n",
       "      <td>1</td>\n",
       "      <td>1</td>\n",
       "    </tr>\n",
       "    <tr>\n",
       "      <th>3</th>\n",
       "      <td>0</td>\n",
       "      <td>0</td>\n",
       "    </tr>\n",
       "    <tr>\n",
       "      <th>4</th>\n",
       "      <td>4</td>\n",
       "      <td>4</td>\n",
       "    </tr>\n",
       "    <tr>\n",
       "      <th>5</th>\n",
       "      <td>1</td>\n",
       "      <td>1</td>\n",
       "    </tr>\n",
       "    <tr>\n",
       "      <th>6</th>\n",
       "      <td>4</td>\n",
       "      <td>4</td>\n",
       "    </tr>\n",
       "    <tr>\n",
       "      <th>7</th>\n",
       "      <td>9</td>\n",
       "      <td>9</td>\n",
       "    </tr>\n",
       "    <tr>\n",
       "      <th>8</th>\n",
       "      <td>5</td>\n",
       "      <td>6</td>\n",
       "    </tr>\n",
       "    <tr>\n",
       "      <th>9</th>\n",
       "      <td>9</td>\n",
       "      <td>9</td>\n",
       "    </tr>\n",
       "  </tbody>\n",
       "</table>\n",
       "</div>"
      ],
      "text/plain": [
       "   actual  predict\n",
       "0       7        7\n",
       "1       2        2\n",
       "2       1        1\n",
       "3       0        0\n",
       "4       4        4\n",
       "5       1        1\n",
       "6       4        4\n",
       "7       9        9\n",
       "8       5        6\n",
       "9       9        9"
      ]
     },
     "execution_count": 9,
     "metadata": {},
     "output_type": "execute_result"
    }
   ],
   "source": [
    "import pandas as pd\n",
    "\n",
    "predictions = model.predict(X_test)\n",
    "predictions = np.argmax(predictions, axis=1)\n",
    "\n",
    "result = pd.DataFrame({'actual': y_test, 'predict': predictions})\n",
    "\n",
    "accuracy = (result['actual'] == result['predict']).mean()\n",
    "print(\"Accuracy = {0:.6f}\".format(accuracy))\n",
    "      \n",
    "result.head(10)"
   ]
  },
  {
   "cell_type": "markdown",
   "metadata": {},
   "source": [
    "### Multi-layer Neural Network"
   ]
  },
  {
   "cell_type": "code",
   "execution_count": 10,
   "metadata": {},
   "outputs": [],
   "source": [
    "from keras.models import Sequential\n",
    "from keras.layers import Dense, Activation\n",
    "from keras.initializers import RandomUniform\n",
    "from keras.optimizers import SGD\n",
    "\n",
    "model = Sequential()\n",
    "model.add(Dense(units=1000,\n",
    "                kernel_initializer=RandomUniform(minval=-0.058, maxval=0.058),\n",
    "                input_shape=(28 * 28,)))\n",
    "model.add(Activation('sigmoid'))\n",
    "model.add(Dense(units=10,\n",
    "                kernel_initializer=RandomUniform(minval=-0.077, maxval=0.077)))\n",
    "\n",
    "model.add(Activation('sigmoid'))\n",
    "\n",
    "optimizers = SGD(lr=0.0001)\n",
    "model.compile(optimizer=optimizers,\n",
    "              loss='categorical_crossentropy',\n",
    "              metrics=['accuracy'])"
   ]
  },
  {
   "cell_type": "code",
   "execution_count": 11,
   "metadata": {},
   "outputs": [
    {
     "name": "stdout",
     "output_type": "stream",
     "text": [
      "Train on 60000 samples, validate on 10000 samples\n",
      "Epoch 1/100\n",
      "60000/60000 [==============================] - 15s - loss: 2.1610 - acc: 0.2403 - val_loss: 2.0011 - val_acc: 0.4253\n",
      "Epoch 2/100\n",
      "60000/60000 [==============================] - 14s - loss: 1.8303 - acc: 0.5270 - val_loss: 1.6116 - val_acc: 0.6499\n",
      "Epoch 3/100\n",
      "60000/60000 [==============================] - 14s - loss: 1.4330 - acc: 0.6865 - val_loss: 1.2356 - val_acc: 0.7538\n",
      "Epoch 4/100\n",
      "60000/60000 [==============================] - 14s - loss: 1.1249 - acc: 0.7665 - val_loss: 0.9921 - val_acc: 0.8031\n",
      "Epoch 5/100\n",
      "60000/60000 [==============================] - 14s - loss: 0.9302 - acc: 0.8084 - val_loss: 0.8421 - val_acc: 0.8273\n",
      "Epoch 6/100\n",
      "60000/60000 [==============================] - 14s - loss: 0.8049 - acc: 0.8327 - val_loss: 0.7425 - val_acc: 0.8464\n",
      "Epoch 7/100\n",
      "60000/60000 [==============================] - 14s - loss: 0.7185 - acc: 0.8492 - val_loss: 0.6719 - val_acc: 0.8577\n",
      "Epoch 8/100\n",
      "60000/60000 [==============================] - 13s - loss: 0.6552 - acc: 0.8612 - val_loss: 0.6193 - val_acc: 0.8668\n",
      "Epoch 9/100\n",
      "60000/60000 [==============================] - 12s - loss: 0.6068 - acc: 0.8689 - val_loss: 0.5787 - val_acc: 0.8724\n",
      "Epoch 10/100\n",
      "60000/60000 [==============================] - 13s - loss: 0.5685 - acc: 0.8750 - val_loss: 0.5460 - val_acc: 0.8765\n",
      "Epoch 11/100\n",
      "60000/60000 [==============================] - 13s - loss: 0.5372 - acc: 0.8806 - val_loss: 0.5190 - val_acc: 0.8812\n",
      "Epoch 12/100\n",
      "60000/60000 [==============================] - 13s - loss: 0.5110 - acc: 0.8856 - val_loss: 0.4971 - val_acc: 0.8841\n",
      "Epoch 13/100\n",
      "60000/60000 [==============================] - 13s - loss: 0.4887 - acc: 0.8894 - val_loss: 0.4780 - val_acc: 0.8877\n",
      "Epoch 14/100\n",
      "60000/60000 [==============================] - 13s - loss: 0.4695 - acc: 0.8935 - val_loss: 0.4616 - val_acc: 0.8902\n",
      "Epoch 15/100\n",
      "60000/60000 [==============================] - 13s - loss: 0.4527 - acc: 0.8969 - val_loss: 0.4473 - val_acc: 0.8936\n",
      "Epoch 16/100\n",
      "60000/60000 [==============================] - 13s - loss: 0.4378 - acc: 0.8994 - val_loss: 0.4347 - val_acc: 0.8955\n",
      "Epoch 17/100\n",
      "60000/60000 [==============================] - 13s - loss: 0.4246 - acc: 0.9022 - val_loss: 0.4235 - val_acc: 0.8988\n",
      "Epoch 18/100\n",
      "60000/60000 [==============================] - 13s - loss: 0.4126 - acc: 0.9046 - val_loss: 0.4137 - val_acc: 0.8996\n",
      "Epoch 19/100\n",
      "60000/60000 [==============================] - 13s - loss: 0.4017 - acc: 0.9065 - val_loss: 0.4046 - val_acc: 0.9018\n",
      "Epoch 20/100\n",
      "60000/60000 [==============================] - 13s - loss: 0.3917 - acc: 0.9083 - val_loss: 0.3965 - val_acc: 0.9032\n",
      "Epoch 21/100\n",
      "60000/60000 [==============================] - 13s - loss: 0.3826 - acc: 0.9100 - val_loss: 0.3889 - val_acc: 0.9064\n",
      "Epoch 22/100\n",
      "60000/60000 [==============================] - 13s - loss: 0.3742 - acc: 0.9117 - val_loss: 0.3821 - val_acc: 0.9071\n",
      "Epoch 23/100\n",
      "60000/60000 [==============================] - 15s - loss: 0.3664 - acc: 0.9132 - val_loss: 0.3759 - val_acc: 0.9080\n",
      "Epoch 24/100\n",
      "60000/60000 [==============================] - 14s - loss: 0.3591 - acc: 0.9145 - val_loss: 0.3701 - val_acc: 0.9092\n",
      "Epoch 25/100\n",
      "60000/60000 [==============================] - 15s - loss: 0.3523 - acc: 0.9162 - val_loss: 0.3646 - val_acc: 0.9098\n",
      "Epoch 26/100\n",
      "60000/60000 [==============================] - 15s - loss: 0.3459 - acc: 0.9174 - val_loss: 0.3595 - val_acc: 0.9103\n",
      "Epoch 27/100\n",
      "60000/60000 [==============================] - 17s - loss: 0.3399 - acc: 0.9186 - val_loss: 0.3547 - val_acc: 0.9113\n",
      "Epoch 28/100\n",
      "60000/60000 [==============================] - 18s - loss: 0.3342 - acc: 0.9197 - val_loss: 0.3502 - val_acc: 0.9118\n",
      "Epoch 29/100\n",
      "60000/60000 [==============================] - 18s - loss: 0.3289 - acc: 0.9210 - val_loss: 0.3461 - val_acc: 0.9128\n",
      "Epoch 30/100\n",
      "60000/60000 [==============================] - 18s - loss: 0.3238 - acc: 0.9221 - val_loss: 0.3421 - val_acc: 0.9132\n",
      "Epoch 31/100\n",
      "60000/60000 [==============================] - 17s - loss: 0.3190 - acc: 0.9230 - val_loss: 0.3383 - val_acc: 0.9140\n",
      "Epoch 32/100\n",
      "60000/60000 [==============================] - 15s - loss: 0.3145 - acc: 0.9240 - val_loss: 0.3349 - val_acc: 0.9142\n",
      "Epoch 33/100\n",
      "60000/60000 [==============================] - 15s - loss: 0.3101 - acc: 0.9250 - val_loss: 0.3312 - val_acc: 0.9153\n",
      "Epoch 34/100\n",
      "60000/60000 [==============================] - 16s - loss: 0.3060 - acc: 0.9260 - val_loss: 0.3282 - val_acc: 0.9153\n",
      "Epoch 35/100\n",
      "60000/60000 [==============================] - 18s - loss: 0.3020 - acc: 0.9273 - val_loss: 0.3252 - val_acc: 0.9155\n",
      "Epoch 36/100\n",
      "60000/60000 [==============================] - 18s - loss: 0.2982 - acc: 0.9280 - val_loss: 0.3222 - val_acc: 0.9157\n",
      "Epoch 37/100\n",
      "60000/60000 [==============================] - 18s - loss: 0.2946 - acc: 0.9286 - val_loss: 0.3194 - val_acc: 0.9162\n",
      "Epoch 38/100\n",
      "60000/60000 [==============================] - 19s - loss: 0.2911 - acc: 0.9297 - val_loss: 0.3167 - val_acc: 0.9171\n",
      "Epoch 39/100\n",
      "60000/60000 [==============================] - 17s - loss: 0.2878 - acc: 0.9302 - val_loss: 0.3140 - val_acc: 0.9174\n",
      "Epoch 40/100\n",
      "60000/60000 [==============================] - 16s - loss: 0.2845 - acc: 0.9310 - val_loss: 0.3118 - val_acc: 0.9184\n",
      "Epoch 41/100\n",
      "60000/60000 [==============================] - 16s - loss: 0.2814 - acc: 0.9315 - val_loss: 0.3093 - val_acc: 0.9187\n",
      "Epoch 42/100\n",
      "60000/60000 [==============================] - 15s - loss: 0.2784 - acc: 0.9323 - val_loss: 0.3070 - val_acc: 0.9191\n",
      "Epoch 43/100\n",
      "60000/60000 [==============================] - 15s - loss: 0.2755 - acc: 0.9331 - val_loss: 0.3048 - val_acc: 0.9199\n",
      "Epoch 44/100\n",
      "60000/60000 [==============================] - 14s - loss: 0.2727 - acc: 0.9340 - val_loss: 0.3027 - val_acc: 0.9204\n",
      "Epoch 45/100\n",
      "60000/60000 [==============================] - 13s - loss: 0.2700 - acc: 0.9346 - val_loss: 0.3008 - val_acc: 0.9201\n",
      "Epoch 46/100\n",
      "60000/60000 [==============================] - 13s - loss: 0.2674 - acc: 0.9352 - val_loss: 0.2988 - val_acc: 0.9205\n",
      "Epoch 47/100\n",
      "60000/60000 [==============================] - 15s - loss: 0.2648 - acc: 0.9360 - val_loss: 0.2969 - val_acc: 0.9218\n",
      "Epoch 48/100\n",
      "60000/60000 [==============================] - 15s - loss: 0.2624 - acc: 0.9364 - val_loss: 0.2952 - val_acc: 0.9215\n",
      "Epoch 49/100\n",
      "60000/60000 [==============================] - 16s - loss: 0.2600 - acc: 0.9371 - val_loss: 0.2934 - val_acc: 0.9223\n",
      "Epoch 50/100\n",
      "60000/60000 [==============================] - 18s - loss: 0.2576 - acc: 0.9376 - val_loss: 0.2918 - val_acc: 0.9227\n",
      "Epoch 51/100\n",
      "60000/60000 [==============================] - 16s - loss: 0.2554 - acc: 0.9379 - val_loss: 0.2901 - val_acc: 0.9224\n",
      "Epoch 52/100\n",
      "60000/60000 [==============================] - 17s - loss: 0.2532 - acc: 0.9384 - val_loss: 0.2884 - val_acc: 0.9229\n",
      "Epoch 53/100\n",
      "60000/60000 [==============================] - 18s - loss: 0.2510 - acc: 0.9391 - val_loss: 0.2870 - val_acc: 0.9230\n",
      "Epoch 54/100\n",
      "60000/60000 [==============================] - 20s - loss: 0.2490 - acc: 0.9396 - val_loss: 0.2854 - val_acc: 0.9228\n",
      "Epoch 55/100\n",
      "60000/60000 [==============================] - 17s - loss: 0.2469 - acc: 0.9405 - val_loss: 0.2839 - val_acc: 0.9236\n",
      "Epoch 56/100\n",
      "60000/60000 [==============================] - 15s - loss: 0.2449 - acc: 0.9409 - val_loss: 0.2825 - val_acc: 0.9230\n",
      "Epoch 57/100\n",
      "60000/60000 [==============================] - 17s - loss: 0.2430 - acc: 0.9411 - val_loss: 0.2812 - val_acc: 0.9234\n",
      "Epoch 58/100\n",
      "60000/60000 [==============================] - 19s - loss: 0.2411 - acc: 0.9415 - val_loss: 0.2798 - val_acc: 0.9242\n",
      "Epoch 59/100\n",
      "60000/60000 [==============================] - 21s - loss: 0.2393 - acc: 0.9421 - val_loss: 0.2786 - val_acc: 0.9241\n",
      "Epoch 60/100\n",
      "60000/60000 [==============================] - 20s - loss: 0.2375 - acc: 0.9426 - val_loss: 0.2773 - val_acc: 0.9238\n",
      "Epoch 61/100\n",
      "60000/60000 [==============================] - 19s - loss: 0.2357 - acc: 0.9428 - val_loss: 0.2761 - val_acc: 0.9244\n",
      "Epoch 62/100\n",
      "60000/60000 [==============================] - 19s - loss: 0.2340 - acc: 0.9434 - val_loss: 0.2748 - val_acc: 0.9249\n",
      "Epoch 63/100\n"
     ]
    },
    {
     "name": "stdout",
     "output_type": "stream",
     "text": [
      "60000/60000 [==============================] - 18s - loss: 0.2323 - acc: 0.9438 - val_loss: 0.2737 - val_acc: 0.9248\n",
      "Epoch 64/100\n",
      "60000/60000 [==============================] - 18s - loss: 0.2306 - acc: 0.9443 - val_loss: 0.2725 - val_acc: 0.9251\n",
      "Epoch 65/100\n",
      "60000/60000 [==============================] - 18s - loss: 0.2290 - acc: 0.9446 - val_loss: 0.2714 - val_acc: 0.9252\n",
      "Epoch 66/100\n",
      "60000/60000 [==============================] - 18s - loss: 0.2274 - acc: 0.9450 - val_loss: 0.2703 - val_acc: 0.9255\n",
      "Epoch 67/100\n",
      "60000/60000 [==============================] - 18s - loss: 0.2259 - acc: 0.9453 - val_loss: 0.2694 - val_acc: 0.9253\n",
      "Epoch 68/100\n",
      "60000/60000 [==============================] - 18s - loss: 0.2244 - acc: 0.9457 - val_loss: 0.2682 - val_acc: 0.9257\n",
      "Epoch 69/100\n",
      "60000/60000 [==============================] - 18s - loss: 0.2229 - acc: 0.9459 - val_loss: 0.2673 - val_acc: 0.9260\n",
      "Epoch 70/100\n",
      "60000/60000 [==============================] - 17s - loss: 0.2214 - acc: 0.9464 - val_loss: 0.2663 - val_acc: 0.9258\n",
      "Epoch 71/100\n",
      "60000/60000 [==============================] - 18s - loss: 0.2200 - acc: 0.9468 - val_loss: 0.2653 - val_acc: 0.9264\n",
      "Epoch 72/100\n",
      "60000/60000 [==============================] - 18s - loss: 0.2186 - acc: 0.9469 - val_loss: 0.2644 - val_acc: 0.9263\n",
      "Epoch 73/100\n",
      "60000/60000 [==============================] - 19s - loss: 0.2172 - acc: 0.9475 - val_loss: 0.2636 - val_acc: 0.9262\n",
      "Epoch 74/100\n",
      "60000/60000 [==============================] - 19s - loss: 0.2158 - acc: 0.9478 - val_loss: 0.2627 - val_acc: 0.9263\n",
      "Epoch 75/100\n",
      "60000/60000 [==============================] - 18s - loss: 0.2145 - acc: 0.9481 - val_loss: 0.2619 - val_acc: 0.9268\n",
      "Epoch 76/100\n",
      "60000/60000 [==============================] - 18s - loss: 0.2132 - acc: 0.9483 - val_loss: 0.2610 - val_acc: 0.9268\n",
      "Epoch 77/100\n",
      "60000/60000 [==============================] - 18s - loss: 0.2119 - acc: 0.9487 - val_loss: 0.2600 - val_acc: 0.9267\n",
      "Epoch 78/100\n",
      "60000/60000 [==============================] - 18s - loss: 0.2107 - acc: 0.9492 - val_loss: 0.2594 - val_acc: 0.9270\n",
      "Epoch 79/100\n",
      "60000/60000 [==============================] - 18s - loss: 0.2094 - acc: 0.9495 - val_loss: 0.2586 - val_acc: 0.9271\n",
      "Epoch 80/100\n",
      "60000/60000 [==============================] - 18s - loss: 0.2082 - acc: 0.9496 - val_loss: 0.2577 - val_acc: 0.9270\n",
      "Epoch 81/100\n",
      "60000/60000 [==============================] - 18s - loss: 0.2070 - acc: 0.9501 - val_loss: 0.2570 - val_acc: 0.9271\n",
      "Epoch 82/100\n",
      "60000/60000 [==============================] - 18s - loss: 0.2058 - acc: 0.9503 - val_loss: 0.2562 - val_acc: 0.9272\n",
      "Epoch 83/100\n",
      "60000/60000 [==============================] - 18s - loss: 0.2047 - acc: 0.9505 - val_loss: 0.2555 - val_acc: 0.9275\n",
      "Epoch 84/100\n",
      "60000/60000 [==============================] - 18s - loss: 0.2035 - acc: 0.9509 - val_loss: 0.2548 - val_acc: 0.9279\n",
      "Epoch 85/100\n",
      "60000/60000 [==============================] - 18s - loss: 0.2024 - acc: 0.9512 - val_loss: 0.2541 - val_acc: 0.9279\n",
      "Epoch 86/100\n",
      "60000/60000 [==============================] - 19s - loss: 0.2013 - acc: 0.9514 - val_loss: 0.2534 - val_acc: 0.9283\n",
      "Epoch 87/100\n",
      "60000/60000 [==============================] - 18s - loss: 0.2002 - acc: 0.9516 - val_loss: 0.2526 - val_acc: 0.9284\n",
      "Epoch 88/100\n",
      "60000/60000 [==============================] - 18s - loss: 0.1991 - acc: 0.9519 - val_loss: 0.2520 - val_acc: 0.9282\n",
      "Epoch 89/100\n",
      "60000/60000 [==============================] - 18s - loss: 0.1981 - acc: 0.9521 - val_loss: 0.2513 - val_acc: 0.9288\n",
      "Epoch 90/100\n",
      "60000/60000 [==============================] - 19s - loss: 0.1970 - acc: 0.9523 - val_loss: 0.2507 - val_acc: 0.9287\n",
      "Epoch 91/100\n",
      "60000/60000 [==============================] - 18s - loss: 0.1960 - acc: 0.9526 - val_loss: 0.2500 - val_acc: 0.9292\n",
      "Epoch 92/100\n",
      "60000/60000 [==============================] - 19s - loss: 0.1950 - acc: 0.9530 - val_loss: 0.2494 - val_acc: 0.9292\n",
      "Epoch 93/100\n",
      "60000/60000 [==============================] - 18s - loss: 0.1940 - acc: 0.9532 - val_loss: 0.2487 - val_acc: 0.9292\n",
      "Epoch 94/100\n",
      "60000/60000 [==============================] - 19s - loss: 0.1930 - acc: 0.9535 - val_loss: 0.2481 - val_acc: 0.9294\n",
      "Epoch 95/100\n",
      "60000/60000 [==============================] - 19s - loss: 0.1921 - acc: 0.9536 - val_loss: 0.2474 - val_acc: 0.9293\n",
      "Epoch 96/100\n",
      "60000/60000 [==============================] - 19s - loss: 0.1911 - acc: 0.9538 - val_loss: 0.2468 - val_acc: 0.9298\n",
      "Epoch 97/100\n",
      "60000/60000 [==============================] - 18s - loss: 0.1901 - acc: 0.9543 - val_loss: 0.2463 - val_acc: 0.9295\n",
      "Epoch 98/100\n",
      "60000/60000 [==============================] - 18s - loss: 0.1892 - acc: 0.9544 - val_loss: 0.2457 - val_acc: 0.9297\n",
      "Epoch 99/100\n",
      "60000/60000 [==============================] - 18s - loss: 0.1883 - acc: 0.9548 - val_loss: 0.2451 - val_acc: 0.9299\n",
      "Epoch 100/100\n",
      "60000/60000 [==============================] - 19s - loss: 0.1874 - acc: 0.9552 - val_loss: 0.2445 - val_acc: 0.9304\n"
     ]
    },
    {
     "data": {
      "text/plain": [
       "<keras.callbacks.History at 0x1ba07ee0780>"
      ]
     },
     "execution_count": 11,
     "metadata": {},
     "output_type": "execute_result"
    }
   ],
   "source": [
    "model.fit(X_train,\n",
    "          y_train_hot,\n",
    "          epochs=100,\n",
    "          validation_data=(X_test, y_test_hot))"
   ]
  },
  {
   "cell_type": "code",
   "execution_count": 12,
   "metadata": {},
   "outputs": [
    {
     "name": "stdout",
     "output_type": "stream",
     "text": [
      "Accuracy = 0.930400\n"
     ]
    },
    {
     "data": {
      "text/html": [
       "<div>\n",
       "<style>\n",
       "    .dataframe thead tr:only-child th {\n",
       "        text-align: right;\n",
       "    }\n",
       "\n",
       "    .dataframe thead th {\n",
       "        text-align: left;\n",
       "    }\n",
       "\n",
       "    .dataframe tbody tr th {\n",
       "        vertical-align: top;\n",
       "    }\n",
       "</style>\n",
       "<table border=\"1\" class=\"dataframe\">\n",
       "  <thead>\n",
       "    <tr style=\"text-align: right;\">\n",
       "      <th></th>\n",
       "      <th>actual</th>\n",
       "      <th>predict</th>\n",
       "    </tr>\n",
       "  </thead>\n",
       "  <tbody>\n",
       "    <tr>\n",
       "      <th>0</th>\n",
       "      <td>7</td>\n",
       "      <td>7</td>\n",
       "    </tr>\n",
       "    <tr>\n",
       "      <th>1</th>\n",
       "      <td>2</td>\n",
       "      <td>2</td>\n",
       "    </tr>\n",
       "    <tr>\n",
       "      <th>2</th>\n",
       "      <td>1</td>\n",
       "      <td>1</td>\n",
       "    </tr>\n",
       "    <tr>\n",
       "      <th>3</th>\n",
       "      <td>0</td>\n",
       "      <td>0</td>\n",
       "    </tr>\n",
       "    <tr>\n",
       "      <th>4</th>\n",
       "      <td>4</td>\n",
       "      <td>4</td>\n",
       "    </tr>\n",
       "    <tr>\n",
       "      <th>5</th>\n",
       "      <td>1</td>\n",
       "      <td>1</td>\n",
       "    </tr>\n",
       "    <tr>\n",
       "      <th>6</th>\n",
       "      <td>4</td>\n",
       "      <td>4</td>\n",
       "    </tr>\n",
       "    <tr>\n",
       "      <th>7</th>\n",
       "      <td>9</td>\n",
       "      <td>9</td>\n",
       "    </tr>\n",
       "    <tr>\n",
       "      <th>8</th>\n",
       "      <td>5</td>\n",
       "      <td>6</td>\n",
       "    </tr>\n",
       "    <tr>\n",
       "      <th>9</th>\n",
       "      <td>9</td>\n",
       "      <td>9</td>\n",
       "    </tr>\n",
       "  </tbody>\n",
       "</table>\n",
       "</div>"
      ],
      "text/plain": [
       "   actual  predict\n",
       "0       7        7\n",
       "1       2        2\n",
       "2       1        1\n",
       "3       0        0\n",
       "4       4        4\n",
       "5       1        1\n",
       "6       4        4\n",
       "7       9        9\n",
       "8       5        6\n",
       "9       9        9"
      ]
     },
     "execution_count": 12,
     "metadata": {},
     "output_type": "execute_result"
    }
   ],
   "source": [
    "import pandas as pd\n",
    "\n",
    "predictions = model.predict(X_test)\n",
    "predictions = np.argmax(predictions, axis=1)\n",
    "\n",
    "result = pd.DataFrame({'actual': y_test, 'predict': predictions})\n",
    "\n",
    "accuracy = (result['actual'] == result['predict']).mean()\n",
    "print(\"Accuracy = {0:.6f}\".format(accuracy))\n",
    "      \n",
    "result.head(10)"
   ]
  },
  {
   "cell_type": "code",
   "execution_count": null,
   "metadata": {
    "collapsed": true
   },
   "outputs": [],
   "source": []
  }
 ],
 "metadata": {
  "kernelspec": {
   "display_name": "Python 3",
   "language": "python",
   "name": "python3"
  },
  "language_info": {
   "codemirror_mode": {
    "name": "ipython",
    "version": 3
   },
   "file_extension": ".py",
   "mimetype": "text/x-python",
   "name": "python",
   "nbconvert_exporter": "python",
   "pygments_lexer": "ipython3",
   "version": "3.6.3"
  }
 },
 "nbformat": 4,
 "nbformat_minor": 2
}
